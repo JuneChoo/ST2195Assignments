{
 "cells": [
  {
   "cell_type": "markdown",
   "id": "262125e7",
   "metadata": {},
   "source": [
    "---\n",
    "\n",
    "title: \"integers_doc_md\"\n",
    "author: \"JuneZhu\"\n",
    "date: \"2023-02-27\"\n",
    "output: html_document\n",
    "\n",
    "---\n",
    "\n",
    "## Part3 Python section\n",
    "\n",
    "Python script that prints all integers between 1 and 10 (including 1 and 10) to scree. Here is one of the multiple ways to implement this function. \n",
    "\n",
    "```{python integers between 1 and 10}\n",
    "for i in range(1,10):\n",
    "    print(i)\n",
    "```"
   ]
  },
  {
   "cell_type": "code",
   "execution_count": 2,
   "id": "0415432a",
   "metadata": {},
   "outputs": [
    {
     "name": "stdout",
     "output_type": "stream",
     "text": [
      "1\n",
      "2\n",
      "3\n",
      "4\n",
      "5\n",
      "6\n",
      "7\n",
      "8\n",
      "9\n",
      "10\n"
     ]
    }
   ],
   "source": [
    "for i in range(1,11):\n",
    "    print(i)"
   ]
  }
 ],
 "metadata": {
  "kernelspec": {
   "display_name": "Python 3 (ipykernel)",
   "language": "python",
   "name": "python3"
  },
  "language_info": {
   "codemirror_mode": {
    "name": "ipython",
    "version": 3
   },
   "file_extension": ".py",
   "mimetype": "text/x-python",
   "name": "python",
   "nbconvert_exporter": "python",
   "pygments_lexer": "ipython3",
   "version": "3.8.16"
  }
 },
 "nbformat": 4,
 "nbformat_minor": 5
}
