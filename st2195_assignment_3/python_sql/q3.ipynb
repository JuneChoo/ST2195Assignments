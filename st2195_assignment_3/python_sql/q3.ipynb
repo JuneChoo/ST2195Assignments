{
 "cells": [
  {
   "cell_type": "code",
   "execution_count": 2,
   "metadata": {
    "collapsed": true
   },
   "outputs": [],
   "source": [
    "# This makes sure you can run this notebook multiple times without errors\n",
    "import os\n",
    "try:\n",
    "    os.remove('airline2.db')\n",
    "except OSError:\n",
    "    pass"
   ]
  },
  {
   "cell_type": "code",
   "execution_count": 3,
   "outputs": [],
   "source": [
    "import sqlite3\n",
    "conn = sqlite3.connect('airline2.db')"
   ],
   "metadata": {
    "collapsed": false
   }
  },
  {
   "cell_type": "code",
   "execution_count": 4,
   "outputs": [],
   "source": [
    "import pandas as pd\n",
    "\n",
    "airports = pd.read_csv(\"../dataverse_files/airports.csv\")\n",
    "carriers = pd.read_csv(\"../dataverse_files/carriers.csv\")\n",
    "planes = pd.read_csv(\"../dataverse_files/plane-data.csv\")"
   ],
   "metadata": {
    "collapsed": false
   }
  },
  {
   "cell_type": "code",
   "execution_count": null,
   "outputs": [
    {
     "name": "stdout",
     "output_type": "stream",
     "text": [
      "../dataverse_files/ontime/2000.csv\n"
     ]
    }
   ],
   "source": [
    "df_list = []\n",
    "for i in range(2000,2006):\n",
    "    f_path = \"../dataverse_files/ontime/{}.csv\".format(str(i))\n",
    "    print(f_path)\n",
    "    temp_df = pd.read_csv(f_path, engine='python',encoding=\"ISO-8859-1\")\n",
    "    df_list.append(temp_df)\n",
    "ontime = pd.concat(df_list)"
   ],
   "metadata": {
    "collapsed": false,
    "pycharm": {
     "is_executing": true
    }
   }
  },
  {
   "cell_type": "code",
   "execution_count": null,
   "outputs": [],
   "source": [
    "# index = False to ensure the DataFrame row index is not written into the SQL tables\n",
    "airports.to_sql('airports', con = conn, index = False)\n",
    "carriers.to_sql('carriers', con = conn, index = False)\n",
    "planes.to_sql('planes', con = conn, index = False)\n",
    "ontime.to_sql('ontime', con = conn, index = False)"
   ],
   "metadata": {
    "collapsed": false
   }
  },
  {
   "cell_type": "code",
   "execution_count": null,
   "outputs": [],
   "source": [
    "# practice\n",
    "# Q1: Which of the following companies has the highest number of cancelled flights, relative to their number of total flights?\n",
    "targets = ['United Air Lines Inc.', 'American Airlines Inc.', 'Pinnacle Airlines Inc.', 'Delta Air Lines Inc.']\n",
    "sql_str = \"\"\"\n",
    " SELECT\n",
    "  `Description`,\n",
    "  `n.total`,\n",
    "  `n.cancelled`,\n",
    "  ((`n.cancelled` * 100.0) / `n.total`) AS `percent_c`\n",
    "FROM (\n",
    "  SELECT `carriers`.*, `n.total`, `n.cancelled`\n",
    "  FROM `carriers`\n",
    "  INNER JOIN (\n",
    "    SELECT\n",
    "      `LHS`.`UniqueCarrier` AS `UniqueCarrier`,\n",
    "      `LHS`.`n` AS `n.total`,\n",
    "      `RHS`.`n` AS `n.cancelled`\n",
    "    FROM (\n",
    "      SELECT `UniqueCarrier`, COUNT(*) AS `n`\n",
    "      FROM `ontime`\n",
    "      GROUP BY `UniqueCarrier`\n",
    "    ) AS `LHS`\n",
    "    INNER JOIN (\n",
    "      SELECT `UniqueCarrier`, COUNT(*) AS `n`\n",
    "      FROM `ontime`\n",
    "      WHERE (`Cancelled` = 1.0)\n",
    "      GROUP BY `UniqueCarrier`\n",
    "    ) AS `RHS`\n",
    "      ON (`LHS`.`UniqueCarrier` = `RHS`.`UniqueCarrier`)\n",
    "  ) AS `RHS`\n",
    "    ON (`carriers`.`Code` = `RHS`.`UniqueCarrier`)\n",
    ")\n",
    "WHERE (`Description` IN ('United Air Lines Inc.', 'American Airlines Inc.', 'Pinnacle Airlines Inc.', 'Delta Air Lines Inc.'))\n",
    "ORDER BY `percent_c` DESC\n",
    "LIMIT 1\n",
    "\"\"\"\n",
    "\n",
    "c = conn.cursor()\n",
    "import pandas as pd\n",
    "q = c.execute(sql_str).fetchall()\n",
    "df = pd.DataFrame(q)\n",
    "df.to_csv(\"q1.csv\")"
   ],
   "metadata": {
    "collapsed": false
   }
  },
  {
   "cell_type": "code",
   "execution_count": null,
   "outputs": [],
   "source": [
    "# practice\n",
    "# Q2:Which of the following cities has the highest number of inbound flights (excluding cancelled flights)?\n",
    "sql_str = \"\"\"\n",
    "SELECT `city`, SUM(`n_total`) AS `n`\n",
    "FROM (\n",
    "  SELECT `city`, `n_total`\n",
    "  FROM `airports`\n",
    "  INNER JOIN (\n",
    "    SELECT `Dest`, COUNT(*) AS `n_total`\n",
    "    FROM `ontime`\n",
    "    WHERE (`Cancelled` = 0.0)\n",
    "    GROUP BY `Dest`\n",
    "  ) AS `RHS`\n",
    "    ON (`airports`.`iata` = `RHS`.`Dest`)\n",
    ")\n",
    "GROUP BY `city`\n",
    "ORDER BY `n` DESC\n",
    "LIMIT 1\n",
    "\"\"\"\n",
    "c = conn.cursor()\n",
    "import pandas as pd\n",
    "q = c.execute(sql_str).fetchall()\n",
    "df = pd.DataFrame(q)\n",
    "df.to_csv(\"q2.csv\")"
   ],
   "metadata": {
    "collapsed": false
   }
  },
  {
   "cell_type": "code",
   "execution_count": null,
   "outputs": [],
   "source": [
    "# Q4:Which of the following airplanes has the lowest associated average departure delay (excluding cancelled and diverted flights)?\n",
    "targets = ['737-230', 'ERJ 190-100 IGW', 'A330-223', '737-282']\n",
    "sql_str = \"\"\"\n",
    "SELECT `model`, `n_avg`\n",
    "FROM (\n",
    "  SELECT `planes`.*, `n_avg`\n",
    "  FROM `planes`\n",
    "  INNER JOIN (\n",
    "    SELECT `TailNum`, AVG(`DepDelay`) AS `n_avg`\n",
    "    FROM `ontime`\n",
    "    WHERE (`Cancelled` = 0.0 OR `Diverted` = 0.0)\n",
    "    GROUP BY `TailNum`\n",
    "  ) AS `RHS`\n",
    "    ON (`planes`.`tailnum` = `RHS`.`TailNum`)\n",
    ")\n",
    "WHERE (`model` IN ('United Air Lines Inc.', 'American Airlines Inc.', 'Pinnacle Airlines Inc.', 'Delta Air Lines Inc.'))\n",
    "ORDER BY `n_avg`\n",
    "LIMIT 1\n",
    "\"\"\"\n",
    "c = conn.cursor()\n",
    "import pandas as pd\n",
    "q = c.execute(sql_str).fetchall()\n",
    "df = pd.DataFrame(q)\n",
    "df.to_csv(\"q4.csv\")"
   ],
   "metadata": {
    "collapsed": false
   }
  },
  {
   "cell_type": "code",
   "execution_count": null,
   "outputs": [],
   "source": [
    "# Q5:Which of the following companies has the highest number of cancelled flights?\n",
    "sql_str = \"\"\"\n",
    "SELECT `Description`, `n.cancelled`\n",
    "FROM (\n",
    "  SELECT `carriers`.*, `n.cancelled`\n",
    "  FROM `carriers`\n",
    "  INNER JOIN (\n",
    "    SELECT `UniqueCarrier`, COUNT(*) AS `n.cancelled`\n",
    "    FROM `ontime`\n",
    "    WHERE (`Cancelled` = 1.0)\n",
    "    GROUP BY `UniqueCarrier`\n",
    "  ) AS `RHS`\n",
    "    ON (`carriers`.`Code` = `RHS`.`UniqueCarrier`)\n",
    ")\n",
    "WHERE (`Description` IN ('United Air Lines Inc.', 'American Airlines Inc.', 'Pinnacle Airlines Inc.', 'Delta Air Lines Inc.'))\n",
    "ORDER BY `n.cancelled` DESC\n",
    "LIMIT 1\n",
    "\"\"\"\n",
    "c = conn.cursor()\n",
    "import pandas as pd\n",
    "q = c.execute(sql_str).fetchall()\n",
    "df = pd.DataFrame(q)\n",
    "df.to_csv(\"q5.csv\")"
   ],
   "metadata": {
    "collapsed": false
   }
  },
  {
   "cell_type": "markdown",
   "source": [
    "# Manipulate Databases Using Python"
   ],
   "metadata": {
    "collapsed": false
   }
  },
  {
   "cell_type": "code",
   "execution_count": null,
   "outputs": [],
   "source": [
    "c = conn.cursor()\n",
    "c.execute('''\n",
    "SELECT name\n",
    "FROM sqlite_master\n",
    "WHERE type='table'\n",
    "''')\n",
    "c.fetchall()\n",
    "import pandas as pd\n",
    "q = c.execute(\"SELECT * FROM Student\").fetchall()\n",
    "pd.DataFrame(q)"
   ],
   "metadata": {
    "collapsed": false
   }
  },
  {
   "cell_type": "markdown",
   "source": [
    "# Add a New Table"
   ],
   "metadata": {
    "collapsed": false
   }
  },
  {
   "cell_type": "code",
   "execution_count": null,
   "outputs": [],
   "source": [
    "c.execute('''\n",
    "CREATE TABLE Teacher (staff_id TEXT PRIMARY KEY,\n",
    "name TEXT)\n",
    "''')"
   ],
   "metadata": {
    "collapsed": false
   }
  },
  {
   "cell_type": "code",
   "execution_count": null,
   "outputs": [],
   "source": [
    "conn.commit() # save (commit) the changes"
   ],
   "metadata": {
    "collapsed": false
   }
  },
  {
   "cell_type": "code",
   "execution_count": null,
   "outputs": [],
   "source": [
    "c.execute('''\n",
    "SELECT name\n",
    "FROM sqlite_master\n",
    "WHERE type='table'\n",
    "''').fetchall()"
   ],
   "metadata": {
    "collapsed": false
   }
  },
  {
   "cell_type": "markdown",
   "source": [
    "# Delete a Table"
   ],
   "metadata": {
    "collapsed": false
   }
  },
  {
   "cell_type": "code",
   "execution_count": null,
   "outputs": [],
   "source": [
    "c.execute(\"DROP TABLE Teacher\")"
   ],
   "metadata": {
    "collapsed": false
   }
  },
  {
   "cell_type": "code",
   "execution_count": null,
   "outputs": [],
   "source": [
    "conn.commit()"
   ],
   "metadata": {
    "collapsed": false
   }
  },
  {
   "cell_type": "code",
   "execution_count": null,
   "outputs": [],
   "source": [
    "c.execute('''\n",
    "SELECT name\n",
    "FROM sqlite_master\n",
    "WHERE type='table'\n",
    "''').fetchall()"
   ],
   "metadata": {
    "collapsed": false
   }
  },
  {
   "cell_type": "code",
   "execution_count": null,
   "outputs": [],
   "source": [
    "c.execute('''\n",
    "SELECT name\n",
    "FROM sqlite_master\n",
    "WHERE type='table'\n",
    "''').fetchall()"
   ],
   "metadata": {
    "collapsed": false
   }
  },
  {
   "cell_type": "markdown",
   "source": [
    "# Insert Tuples/Rows"
   ],
   "metadata": {
    "collapsed": false
   }
  },
  {
   "cell_type": "code",
   "execution_count": null,
   "outputs": [],
   "source": [
    "c.execute(\"INSERT INTO Student VALUES(202029744, 'Harper Taylor', 1)\")"
   ],
   "metadata": {
    "collapsed": false
   }
  },
  {
   "cell_type": "code",
   "execution_count": null,
   "outputs": [],
   "source": [
    "conn.commit()"
   ],
   "metadata": {
    "collapsed": false
   }
  },
  {
   "cell_type": "code",
   "execution_count": null,
   "outputs": [],
   "source": [
    "q = c.execute(\"SELECT * FROM Student\").fetchall()\n",
    "pd.DataFrame(q)"
   ],
   "metadata": {
    "collapsed": false
   }
  },
  {
   "cell_type": "markdown",
   "source": [
    "# Update Tuples/Rows"
   ],
   "metadata": {
    "collapsed": false
   }
  },
  {
   "cell_type": "code",
   "execution_count": null,
   "outputs": [],
   "source": [
    "c.execute('''\n",
    "UPDATE Student\n",
    "SET student_id = \"201929744\"\n",
    "WHERE name = \"Harper Taylor\"\n",
    "''')"
   ],
   "metadata": {
    "collapsed": false
   }
  },
  {
   "cell_type": "code",
   "execution_count": null,
   "outputs": [],
   "source": [
    "conn.commit()"
   ],
   "metadata": {
    "collapsed": false
   }
  },
  {
   "cell_type": "code",
   "execution_count": null,
   "outputs": [],
   "source": [
    "q = c.execute(\"SELECT * FROM Student\").fetchall()\n",
    "pd.DataFrame(q)"
   ],
   "metadata": {
    "collapsed": false
   }
  },
  {
   "cell_type": "markdown",
   "source": [
    "# Delete Tuples/Rows"
   ],
   "metadata": {
    "collapsed": false
   }
  },
  {
   "cell_type": "code",
   "execution_count": null,
   "outputs": [],
   "source": [
    "c.execute('''\n",
    "DELETE FROM Student\n",
    "where name = \"Harper Taylor\"\n",
    "''')"
   ],
   "metadata": {
    "collapsed": false
   }
  },
  {
   "cell_type": "code",
   "execution_count": null,
   "outputs": [],
   "source": [
    "conn.commit()"
   ],
   "metadata": {
    "collapsed": false
   }
  },
  {
   "cell_type": "code",
   "execution_count": null,
   "outputs": [],
   "source": [
    "q = c.execute(\"SELECT * FROM Student\").fetchall()\n",
    "pd.DataFrame(q)"
   ],
   "metadata": {
    "collapsed": false
   }
  },
  {
   "cell_type": "markdown",
   "source": [
    "# Disconnecting From the Database"
   ],
   "metadata": {
    "collapsed": false
   }
  },
  {
   "cell_type": "code",
   "execution_count": null,
   "outputs": [],
   "source": [
    "conn.close()"
   ],
   "metadata": {
    "collapsed": false
   }
  }
 ],
 "metadata": {
  "kernelspec": {
   "display_name": "Python 3",
   "language": "python",
   "name": "python3"
  },
  "language_info": {
   "codemirror_mode": {
    "name": "ipython",
    "version": 2
   },
   "file_extension": ".py",
   "mimetype": "text/x-python",
   "name": "python",
   "nbconvert_exporter": "python",
   "pygments_lexer": "ipython2",
   "version": "2.7.6"
  }
 },
 "nbformat": 4,
 "nbformat_minor": 0
}
