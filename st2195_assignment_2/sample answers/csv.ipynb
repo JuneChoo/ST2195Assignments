{
 "cells": [
  {
   "cell_type": "markdown",
   "id": "4904e32b",
   "metadata": {},
   "source": [
    "## Introduction\n",
    "\n",
    "In this Jupyter notebook we want to scrap the csv example on cars in the Wikipedia page and save the resulting output in the local folder \n",
    "\n",
    "\n",
    "### Load the library"
   ]
  },
  {
   "cell_type": "code",
   "execution_count": 1,
   "id": "b93082f6",
   "metadata": {},
   "outputs": [],
   "source": [
    "from bs4 import BeautifulSoup\n",
    "import requests"
   ]
  },
  {
   "cell_type": "markdown",
   "id": "bc9e0bbd",
   "metadata": {},
   "source": [
    "### Solution 1\n",
    "\n",
    "Load in the html"
   ]
  },
  {
   "cell_type": "code",
   "execution_count": 3,
   "id": "163dad0c",
   "metadata": {},
   "outputs": [
    {
     "data": {
      "text/plain": [
       "<!DOCTYPE html>\n",
       "\n",
       "<html class=\"client-nojs vector-feature-language-in-header-enabled vector-feature-language-in-main-page-header-disabled vector-feature-language-alert-in-sidebar-enabled vector-feature-sticky-header-disabled vector-feature-page-tools-disabled vector-feature-page-tools-pinned-disabled vector-feature-main-menu-pinned-disabled vector-feature-limited-width-enabled vector-feature-limited-width-content-enabled\" dir=\"ltr\" lang=\"en\">\n",
       "<head>\n",
       "<meta charset=\"utf-8\"/>\n",
       "<title>Comma-separated values - Wikipedia</title>\n",
       "<script>document.documentElement.className=\"client-js vector-feature-language-in-header-enabled vector-feature-language-in-main-page-header-disabled vector-feature-language-alert-in-sidebar-enabled vector-feature-sticky-header-disabled vector-feature-page-tools-disabled vector-feature-page-tools-pinned-disabled vector-feature-main-menu-pinned-disabled vector-feature-limited-width-enabled vector-feature-limited-width-content-enabled\";(function(){var cookie=document.cookie.match(/(?:^|; )enwikimwclientprefs=([^;]+)/);if(cookie){var featureName=cookie[1];document.documentElement.className=document.documentElement.className.replace(featureName+'-enabled',featureName+'-disabled');}}());RLCONF={\"wgBreakFrames\":false,\"wgSeparatorTransformTable\":[\"\",\"\"],\"wgDigitTransformTable\":[\"\",\"\"],\"wgDefaultDateFormat\":\"dmy\",\"wgMonthNames\":[\"\",\"January\",\"February\",\"March\",\"April\",\"May\",\"June\",\"July\",\"August\",\"September\",\"October\",\"November\",\"December\"],\"wgRequestId\":\"8cedbf64-4ff7-48fe-b41e-19312518708f\",\n",
       "\"wgCSPNonce\":false,\"wgCanonicalNamespace\":\"\",\"wgCanonicalSpecialPageName\":false,\"wgNamespaceNumber\":0,\"wgPageName\":\"Comma-separated_values\",\"wgTitle\":\"Comma-separated values\",\"wgCurRevisionId\":1141219294,\"wgRevisionId\":1141219294,\"wgArticleId\":501906,\"wgIsArticle\":true,\"wgIsRedirect\":false,\"wgAction\":\"view\",\"wgUserName\":null,\"wgUserGroups\":[\"*\"],\"wgCategories\":[\"Articles with short description\",\"Short description is different from Wikidata\",\"Wikipedia introduction cleanup from February 2022\",\"All pages needing cleanup\",\"Articles covered by WikiProject Wikify from February 2022\",\"All articles covered by WikiProject Wikify\",\"Wikipedia articles with style issues from February 2022\",\"All articles with style issues\",\"Articles needing additional references from February 2022\",\"All articles needing additional references\",\"Articles with multiple maintenance issues\",\"All articles with unsourced statements\",\"Articles with unsourced statements from September 2014\",\n",
       "\"All articles with specifically marked weasel-worded phrases\",\"Articles with specifically marked weasel-worded phrases from September 2017\",\"Articles containing potentially dated statements from 2019\",\"All articles containing potentially dated statements\",\"Delimiter-separated format\",\"Open formats\",\"Spreadsheet file formats\"],\"wgPageContentLanguage\":\"en\",\"wgPageContentModel\":\"wikitext\",\"wgRelevantPageName\":\"Comma-separated_values\",\"wgRelevantArticleId\":501906,\"wgIsProbablyEditable\":true,\"wgRelevantPageIsProbablyEditable\":true,\"wgRestrictionEdit\":[],\"wgRestrictionMove\":[],\"wgFlaggedRevsParams\":{\"tags\":{\"status\":{\"levels\":1}}},\"wgVisualEditor\":{\"pageLanguageCode\":\"en\",\"pageLanguageDir\":\"ltr\",\"pageVariantFallbacks\":\"en\"},\"wgMFDisplayWikibaseDescriptions\":{\"search\":true,\"watchlist\":true,\"tagline\":false,\"nearby\":true},\"wgWMESchemaEditAttemptStepOversample\":false,\"wgWMEPageLength\":30000,\"wgNoticeProject\":\"wikipedia\",\"wgVector2022PreviewPages\":[],\"wgMediaViewerOnClick\":true,\n",
       "\"wgMediaViewerEnabledByDefault\":true,\"wgPopupsFlags\":10,\"wgULSCurrentAutonym\":\"English\",\"wgEditSubmitButtonLabelPublish\":true,\"wgCentralAuthMobileDomain\":false,\"wgULSPosition\":\"interlanguage\",\"wgULSisCompactLinksEnabled\":true,\"wgULSisLanguageSelectorEmpty\":false,\"wgWikibaseItemId\":\"Q935809\",\"GEHomepageSuggestedEditsEnableTopics\":true,\"wgGETopicsMatchModeEnabled\":false,\"wgGEStructuredTaskRejectionReasonTextInputEnabled\":false};RLSTATE={\"skins.vector.user.styles\":\"ready\",\"ext.globalCssJs.user.styles\":\"ready\",\"site.styles\":\"ready\",\"user.styles\":\"ready\",\"skins.vector.user\":\"ready\",\"ext.globalCssJs.user\":\"ready\",\"user\":\"ready\",\"user.options\":\"loading\",\"ext.pygments\":\"ready\",\"ext.cite.styles\":\"ready\",\"mediawiki.ui.button\":\"ready\",\"skins.vector.styles\":\"ready\",\"skins.vector.icons\":\"ready\",\"mediawiki.ui.icon\":\"ready\",\"jquery.makeCollapsible.styles\":\"ready\",\"ext.visualEditor.desktopArticleTarget.noscript\":\"ready\",\"ext.wikimediaBadges\":\"ready\",\"ext.uls.interlanguage\":\"ready\",\n",
       "\"wikibase.client.init\":\"ready\"};RLPAGEMODULES=[\"ext.cite.ux-enhancements\",\"ext.scribunto.logs\",\"site\",\"mediawiki.page.ready\",\"jquery.makeCollapsible\",\"mediawiki.toc\",\"skins.vector.js\",\"skins.vector.es6\",\"mmv.head\",\"mmv.bootstrap.autostart\",\"ext.visualEditor.desktopArticleTarget.init\",\"ext.visualEditor.targetLoader\",\"ext.eventLogging\",\"ext.wikimediaEvents\",\"ext.navigationTiming\",\"ext.cx.eventlogging.campaigns\",\"ext.centralNotice.geoIP\",\"ext.centralNotice.startUp\",\"ext.gadget.ReferenceTooltips\",\"ext.gadget.charinsert\",\"ext.gadget.extra-toolbar-buttons\",\"ext.gadget.switcher\",\"ext.centralauth.centralautologin\",\"ext.popups\",\"ext.echo.centralauth\",\"ext.uls.compactlinks\",\"ext.uls.interface\",\"ext.cx.uls.quick.actions\",\"wikibase.client.vector-2022\",\"ext.growthExperiments.SuggestedEditSession\"];</script>\n",
       "<script>(RLQ=window.RLQ||[]).push(function(){mw.loader.implement(\"user.options@12s5i\",function($,jQuery,require,module){mw.user.tokens.set({\"patrolToken\":\"+\\\\\",\"watchToken\":\"+\\\\\",\"csrfToken\":\"+\\\\\"});});});</script>\n",
       "<link href=\"/w/load.php?lang=en&amp;modules=ext.cite.styles%7Cext.pygments%2CwikimediaBadges%7Cext.uls.interlanguage%7Cext.visualEditor.desktopArticleTarget.noscript%7Cjquery.makeCollapsible.styles%7Cmediawiki.ui.button%2Cicon%7Cskins.vector.icons%2Cstyles%7Cwikibase.client.init&amp;only=styles&amp;skin=vector-2022\" rel=\"stylesheet\"/>\n",
       "<script async=\"\" src=\"/w/load.php?lang=en&amp;modules=startup&amp;only=scripts&amp;raw=1&amp;skin=vector-2022\"></script>\n",
       "<meta content=\"\" name=\"ResourceLoaderDynamicStyles\"/>\n",
       "<link href=\"/w/load.php?lang=en&amp;modules=site.styles&amp;only=styles&amp;skin=vector-2022\" rel=\"stylesheet\"/>\n",
       "<meta content=\"MediaWiki 1.40.0-wmf.24\" name=\"generator\"/>\n",
       "<meta content=\"origin\" name=\"referrer\"/>\n",
       "<meta content=\"origin-when-crossorigin\" name=\"referrer\"/>\n",
       "<meta content=\"origin-when-cross-origin\" name=\"referrer\"/>\n",
       "<meta content=\"max-image-preview:standard\" name=\"robots\"/>\n",
       "<meta content=\"telephone=no\" name=\"format-detection\"/>\n",
       "<meta content=\"width=1000\" name=\"viewport\"/>\n",
       "<meta content=\"Comma-separated values - Wikipedia\" property=\"og:title\"/>\n",
       "<meta content=\"website\" property=\"og:type\"/>\n",
       "<link href=\"//upload.wikimedia.org\" rel=\"preconnect\"/>\n",
       "<link href=\"//en.m.wikipedia.org/wiki/Comma-separated_values\" media=\"only screen and (max-width: 720px)\" rel=\"alternate\"/>\n",
       "<link href=\"/w/index.php?title=Comma-separated_values&amp;action=edit\" rel=\"alternate\" title=\"Edit this page\" type=\"application/x-wiki\"/>\n",
       "<link href=\"/static/apple-touch/wikipedia.png\" rel=\"apple-touch-icon\"/>\n",
       "<link href=\"/static/favicon/wikipedia.ico\" rel=\"icon\"/>\n",
       "<link href=\"/w/opensearch_desc.php\" rel=\"search\" title=\"Wikipedia (en)\" type=\"application/opensearchdescription+xml\"/>\n",
       "<link href=\"//en.wikipedia.org/w/api.php?action=rsd\" rel=\"EditURI\" type=\"application/rsd+xml\"/>\n",
       "<link href=\"https://creativecommons.org/licenses/by-sa/3.0/\" rel=\"license\"/>\n",
       "<link href=\"https://en.wikipedia.org/wiki/Comma-separated_values\" rel=\"canonical\"/>\n",
       "<link href=\"//meta.wikimedia.org\" rel=\"dns-prefetch\"/>\n",
       "<link href=\"//login.wikimedia.org\" rel=\"dns-prefetch\"/>\n",
       "</head>\n",
       "<body class=\"skin-vector skin-vector-search-vue vector-toc-pinned mediawiki ltr sitedir-ltr mw-hide-empty-elt ns-0 ns-subject mw-editable page-Comma-separated_values rootpage-Comma-separated_values skin-vector-2022 action-view\"><div class=\"mw-page-container\">\n",
       "<a class=\"mw-jump-link\" href=\"#bodyContent\">Jump to content</a>\n",
       "<div class=\"mw-page-container-inner\">\n",
       "<input class=\"mw-checkbox-hack-checkbox\" id=\"mw-sidebar-checkbox\" type=\"checkbox\"/>\n",
       "<header class=\"mw-header mw-ui-icon-flush-left mw-ui-icon-flush-right\">\n",
       "<div class=\"vector-header-start\">\n",
       "<label aria-controls=\"mw-panel\" class=\"mw-checkbox-hack-button mw-ui-icon mw-ui-button mw-ui-quiet mw-ui-icon-element mw-ui-icon-flush-right\" data-event-name=\"ui.sidebar\" for=\"mw-sidebar-checkbox\" id=\"mw-sidebar-button\" role=\"button\" tabindex=\"0\" title=\"Main menu\">\n",
       "<span>Toggle sidebar</span>\n",
       "</label>\n",
       "<a class=\"mw-logo\" href=\"/wiki/Main_Page\">\n",
       "<img alt=\"\" aria-hidden=\"true\" class=\"mw-logo-icon\" height=\"50\" src=\"/static/images/icons/wikipedia.png\" width=\"50\"/>\n",
       "<span class=\"mw-logo-container\">\n",
       "<img alt=\"Wikipedia\" class=\"mw-logo-wordmark\" src=\"/static/images/mobile/copyright/wikipedia-wordmark-en.svg\" style=\"width: 7.5em; height: 1.125em;\"/>\n",
       "<img alt=\"The Free Encyclopedia\" class=\"mw-logo-tagline\" height=\"13\" src=\"/static/images/mobile/copyright/wikipedia-tagline-en.svg\" style=\"width: 7.3125em; height: 0.8125em;\" width=\"117\"/>\n",
       "</span>\n",
       "</a>\n",
       "</div>\n",
       "<div class=\"vector-header-end\">\n",
       "<div class=\"vector-search-box-vue vector-search-box-collapses vector-search-box-show-thumbnail vector-search-box-auto-expand-width vector-search-box\" id=\"p-search\" role=\"search\">\n",
       "<a accesskey=\"f\" class=\"mw-ui-button mw-ui-quiet mw-ui-icon mw-ui-icon-element mw-ui-icon-wikimedia-search search-toggle\" href=\"/wiki/Special:Search\" title=\"Search Wikipedia [f]\">\n",
       "<span>Search</span>\n",
       "</a>\n",
       "<div>\n",
       "<form action=\"/w/index.php\" class=\"vector-search-box-form\" id=\"searchform\">\n",
       "<div class=\"vector-search-box-inner\" data-search-loc=\"header-moved\" id=\"simpleSearch\">\n",
       "<input accesskey=\"f\" aria-label=\"Search Wikipedia\" autocapitalize=\"sentences\" class=\"vector-search-box-input\" id=\"searchInput\" name=\"search\" placeholder=\"Search Wikipedia\" title=\"Search Wikipedia [f]\" type=\"search\"/>\n",
       "<input name=\"title\" type=\"hidden\" value=\"Special:Search\"/>\n",
       "<input class=\"searchButton mw-fallbackSearchButton\" id=\"mw-searchButton\" name=\"fulltext\" title=\"Search Wikipedia for this text\" type=\"submit\" value=\"Search\"/>\n",
       "<input class=\"searchButton\" id=\"searchButton\" name=\"go\" title=\"Go to a page with this exact name if it exists\" type=\"submit\" value=\"Go\"/>\n",
       "</div>\n",
       "</form>\n",
       "</div>\n",
       "</div>\n",
       "<nav aria-label=\"Personal tools\" class=\"vector-user-links\" role=\"navigation\">\n",
       "<div class=\"vector-menu mw-portlet mw-portlet-vector-user-menu-overflow\" id=\"p-vector-user-menu-overflow\">\n",
       "<div class=\"vector-menu-content\">\n",
       "<ul class=\"vector-menu-content-list\"><li class=\"user-links-collapsible-item mw-list-item\" id=\"pt-createaccount-2\"><a href=\"/w/index.php?title=Special:CreateAccount&amp;returnto=Comma-separated+values\" title=\"You are encouraged to create an account and log in; however, it is not mandatory\"><span>Create account</span></a></li><li class=\"user-links-collapsible-item mw-list-item\" id=\"pt-login-2\"><a accesskey=\"o\" href=\"/w/index.php?title=Special:UserLogin&amp;returnto=Comma-separated+values\" title=\"You're encouraged to log in; however, it's not mandatory. [o]\"><span>Log in</span></a></li></ul>\n",
       "</div>\n",
       "</div>\n",
       "<div class=\"vector-menu vector-dropdown vector-menu-dropdown vector-user-menu vector-user-menu-logged-out\" id=\"vector-user-links-dropdown\" title=\"Log in and more options\">\n",
       "<input aria-haspopup=\"true\" aria-label=\"Personal tools\" class=\"vector-menu-checkbox\" data-event-name=\"ui.dropdown-vector-user-links-dropdown\" id=\"vector-user-links-dropdown-checkbox\" role=\"button\" type=\"checkbox\">\n",
       "<label aria-hidden=\"true\" class=\"vector-menu-heading mw-checkbox-hack-button mw-ui-icon mw-ui-button mw-ui-quiet mw-ui-icon-element mw-ui-icon-wikimedia-ellipsis\" for=\"vector-user-links-dropdown-checkbox\" id=\"vector-user-links-dropdown-label\">\n",
       "<span class=\"vector-menu-heading-label\">Personal tools</span>\n",
       "</label>\n",
       "<div class=\"vector-menu-content vector-dropdown-content\">\n",
       "<div class=\"vector-menu mw-portlet mw-portlet-personal user-links-collapsible-item\" id=\"p-personal\" title=\"User menu\">\n",
       "<div class=\"vector-menu-content\">\n",
       "<ul class=\"vector-menu-content-list\"><li class=\"user-links-collapsible-item mw-list-item\" id=\"pt-createaccount\"><a href=\"/w/index.php?title=Special:CreateAccount&amp;returnto=Comma-separated+values\" title=\"You are encouraged to create an account and log in; however, it is not mandatory\"><span class=\"mw-ui-icon mw-ui-icon-userAdd mw-ui-icon-wikimedia-userAdd\"></span> <span>Create account</span></a></li><li class=\"user-links-collapsible-item mw-list-item\" id=\"pt-login\"><a accesskey=\"o\" href=\"/w/index.php?title=Special:UserLogin&amp;returnto=Comma-separated+values\" title=\"You're encouraged to log in; however, it's not mandatory. [o]\"><span class=\"mw-ui-icon mw-ui-icon-logIn mw-ui-icon-wikimedia-logIn\"></span> <span>Log in</span></a></li></ul>\n",
       "</div>\n",
       "</div>\n",
       "<div class=\"vector-menu mw-portlet mw-portlet-user-menu-anon-editor\" id=\"p-user-menu-anon-editor\">\n",
       "<div class=\"vector-menu-heading\">\n",
       "\t\tPages for logged out editors <a aria-label=\"Learn more about editing\" href=\"/wiki/Help:Introduction\"><span>learn more</span></a>\n",
       "</div>\n",
       "<div class=\"vector-menu-content\">\n",
       "<ul class=\"vector-menu-content-list\"><li class=\"mw-list-item\" id=\"pt-anoncontribs\"><a accesskey=\"y\" href=\"/wiki/Special:MyContributions\" title=\"A list of edits made from this IP address [y]\"><span>Contributions</span></a></li><li class=\"mw-list-item\" id=\"pt-anontalk\"><a accesskey=\"n\" href=\"/wiki/Special:MyTalk\" title=\"Discussion about edits from this IP address [n]\"><span>Talk</span></a></li></ul>\n",
       "</div>\n",
       "</div>\n",
       "</div>\n",
       "</input></div>\n",
       "</nav>\n",
       "</div>\n",
       "</header>\n",
       "<div class=\"vector-main-menu-container\">\n",
       "<div id=\"mw-navigation\">\n",
       "<nav aria-label=\"Site\" class=\"vector-main-menu-landmark\" id=\"mw-panel\" role=\"navigation\">\n",
       "<div class=\"vector-main-menu vector-pinnable-element\" id=\"vector-main-menu\">\n",
       "<div class=\"vector-main-menu-group vector-menu mw-portlet mw-portlet-navigation\" id=\"p-navigation\">\n",
       "<div class=\"vector-menu-heading\" id=\"p-navigation-label\">\n",
       "<span class=\"vector-menu-heading-label\">Navigation</span>\n",
       "</div>\n",
       "<div class=\"vector-menu-content\">\n",
       "<ul class=\"vector-menu-content-list\"><li class=\"mw-list-item\" id=\"n-mainpage-description\"><a accesskey=\"z\" href=\"/wiki/Main_Page\" title=\"Visit the main page [z]\"><span>Main page</span></a></li><li class=\"mw-list-item\" id=\"n-contents\"><a href=\"/wiki/Wikipedia:Contents\" title=\"Guides to browsing Wikipedia\"><span>Contents</span></a></li><li class=\"mw-list-item\" id=\"n-currentevents\"><a href=\"/wiki/Portal:Current_events\" title=\"Articles related to current events\"><span>Current events</span></a></li><li class=\"mw-list-item\" id=\"n-randompage\"><a accesskey=\"x\" href=\"/wiki/Special:Random\" title=\"Visit a randomly selected article [x]\"><span>Random article</span></a></li><li class=\"mw-list-item\" id=\"n-aboutsite\"><a href=\"/wiki/Wikipedia:About\" title=\"Learn about Wikipedia and how it works\"><span>About Wikipedia</span></a></li><li class=\"mw-list-item\" id=\"n-contactpage\"><a href=\"//en.wikipedia.org/wiki/Wikipedia:Contact_us\" title=\"How to contact Wikipedia\"><span>Contact us</span></a></li><li class=\"mw-list-item\" id=\"n-sitesupport\"><a href=\"https://donate.wikimedia.org/wiki/Special:FundraiserRedirector?utm_source=donate&amp;utm_medium=sidebar&amp;utm_campaign=C13_en.wikipedia.org&amp;uselang=en\" title=\"Support us by donating to the Wikimedia Foundation\"><span>Donate</span></a></li></ul>\n",
       "</div>\n",
       "</div>\n",
       "<div class=\"vector-main-menu-group vector-menu mw-portlet mw-portlet-interaction\" id=\"p-interaction\">\n",
       "<div class=\"vector-menu-heading\" id=\"p-interaction-label\">\n",
       "<span class=\"vector-menu-heading-label\">Contribute</span>\n",
       "</div>\n",
       "<div class=\"vector-menu-content\">\n",
       "<ul class=\"vector-menu-content-list\"><li class=\"mw-list-item\" id=\"n-help\"><a href=\"/wiki/Help:Contents\" title=\"Guidance on how to use and edit Wikipedia\"><span>Help</span></a></li><li class=\"mw-list-item\" id=\"n-introduction\"><a href=\"/wiki/Help:Introduction\" title=\"Learn how to edit Wikipedia\"><span>Learn to edit</span></a></li><li class=\"mw-list-item\" id=\"n-portal\"><a href=\"/wiki/Wikipedia:Community_portal\" title=\"The hub for editors\"><span>Community portal</span></a></li><li class=\"mw-list-item\" id=\"n-recentchanges\"><a accesskey=\"r\" href=\"/wiki/Special:RecentChanges\" title=\"A list of recent changes to Wikipedia [r]\"><span>Recent changes</span></a></li><li class=\"mw-list-item\" id=\"n-upload\"><a href=\"/wiki/Wikipedia:File_upload_wizard\" title=\"Add images or other media for use on Wikipedia\"><span>Upload file</span></a></li></ul>\n",
       "</div>\n",
       "</div>\n",
       "<div class=\"vector-main-menu-group vector-menu mw-portlet mw-portlet-tb\" id=\"p-tb\">\n",
       "<div class=\"vector-menu-heading\" id=\"p-tb-label\">\n",
       "<span class=\"vector-menu-heading-label\">Tools</span>\n",
       "</div>\n",
       "<div class=\"vector-menu-content\">\n",
       "<ul class=\"vector-menu-content-list\"><li class=\"mw-list-item\" id=\"t-whatlinkshere\"><a accesskey=\"j\" href=\"/wiki/Special:WhatLinksHere/Comma-separated_values\" title=\"List of all English Wikipedia pages containing links to this page [j]\"><span>What links here</span></a></li><li class=\"mw-list-item\" id=\"t-recentchangeslinked\"><a accesskey=\"k\" href=\"/wiki/Special:RecentChangesLinked/Comma-separated_values\" rel=\"nofollow\" title=\"Recent changes in pages linked from this page [k]\"><span>Related changes</span></a></li><li class=\"mw-list-item\" id=\"t-upload\"><a accesskey=\"u\" href=\"/wiki/Wikipedia:File_Upload_Wizard\" title=\"Upload files [u]\"><span>Upload file</span></a></li><li class=\"mw-list-item\" id=\"t-specialpages\"><a accesskey=\"q\" href=\"/wiki/Special:SpecialPages\" title=\"A list of all special pages [q]\"><span>Special pages</span></a></li><li class=\"mw-list-item\" id=\"t-permalink\"><a href=\"/w/index.php?title=Comma-separated_values&amp;oldid=1141219294\" title=\"Permanent link to this revision of this page\"><span>Permanent link</span></a></li><li class=\"mw-list-item\" id=\"t-info\"><a href=\"/w/index.php?title=Comma-separated_values&amp;action=info\" title=\"More information about this page\"><span>Page information</span></a></li><li class=\"mw-list-item\" id=\"t-cite\"><a href=\"/w/index.php?title=Special:CiteThisPage&amp;page=Comma-separated_values&amp;id=1141219294&amp;wpFormIdentifier=titleform\" title=\"Information on how to cite this page\"><span>Cite this page</span></a></li><li class=\"mw-list-item\" id=\"t-wikibase\"><a accesskey=\"g\" href=\"https://www.wikidata.org/wiki/Special:EntityPage/Q935809\" title=\"Structured data on this page hosted by Wikidata [g]\"><span>Wikidata item</span></a></li></ul>\n",
       "</div>\n",
       "</div>\n",
       "<div class=\"vector-main-menu-group vector-menu mw-portlet mw-portlet-coll-print_export\" id=\"p-coll-print_export\">\n",
       "<div class=\"vector-menu-heading\" id=\"p-coll-print_export-label\">\n",
       "<span class=\"vector-menu-heading-label\">Print/export</span>\n",
       "</div>\n",
       "<div class=\"vector-menu-content\">\n",
       "<ul class=\"vector-menu-content-list\"><li class=\"mw-list-item\" id=\"coll-download-as-rl\"><a href=\"/w/index.php?title=Special:DownloadAsPdf&amp;page=Comma-separated_values&amp;action=show-download-screen\" title=\"Download this page as a PDF file\"><span>Download as PDF</span></a></li><li class=\"mw-list-item\" id=\"t-print\"><a accesskey=\"p\" href=\"/w/index.php?title=Comma-separated_values&amp;printable=yes\" title=\"Printable version of this page [p]\"><span>Printable version</span></a></li></ul>\n",
       "</div>\n",
       "</div>\n",
       "<div class=\"vector-main-menu-action vector-main-menu-action-lang-alert\">\n",
       "<div class=\"vector-main-menu-action-item\">\n",
       "<div class=\"vector-main-menu-action-heading vector-menu-heading\">Languages</div>\n",
       "<div class=\"vector-main-menu-action-content vector-menu-content\">\n",
       "<div class=\"mw-message-box-notice vector-language-sidebar-alert mw-message-box\">On this Wikipedia the language links are at the top of the page across from the article title. <a href=\"#p-lang-btn\">Go to top</a>.</div>\n",
       "</div>\n",
       "</div>\n",
       "</div>\n",
       "</div>\n",
       "</nav>\n",
       "</div>\n",
       "</div>\n",
       "<div class=\"vector-sitenotice-container\">\n",
       "<div id=\"siteNotice\"><!-- CentralNotice --></div>\n",
       "</div>\n",
       "<input class=\"mw-checkbox-hack-checkbox\" id=\"vector-toc-collapsed-checkbox\" type=\"checkbox\"/>\n",
       "<nav aria-label=\"Contents\" class=\"mw-table-of-contents-container\" data-event-name=\"ui.sidebar-toc\" id=\"mw-panel-toc\" role=\"navigation\">\n",
       "<div class=\"vector-pinned-container\" id=\"vector-toc-pinned-container\">\n",
       "<div class=\"vector-toc vector-pinnable-element\" id=\"vector-toc\">\n",
       "<div class=\"vector-pinnable-header vector-toc-pinnable-header vector-pinnable-header-pinned\" data-name=\"vector-toc\">\n",
       "<h2 class=\"vector-pinnable-header-label\">Contents</h2>\n",
       "<button class=\"vector-pinnable-header-toggle-button vector-pinnable-header-pin-button\" data-event-name=\"pinnable-header.vector-toc.pin\">move to sidebar</button>\n",
       "<button class=\"vector-pinnable-header-toggle-button vector-pinnable-header-unpin-button\" data-event-name=\"pinnable-header.vector-toc.unpin\">hide</button>\n",
       "</div>\n",
       "<ul class=\"vector-toc-contents\" id=\"mw-panel-toc-list\">\n",
       "<li class=\"vector-toc-list-item vector-toc-level-1\" id=\"toc-mw-content-text\">\n",
       "<a class=\"vector-toc-link\" href=\"#\">\n",
       "<div class=\"vector-toc-text\">(Top)</div>\n",
       "</a>\n",
       "</li>\n",
       "<li class=\"vector-toc-list-item vector-toc-level-1 vector-toc-list-item-expanded\" id=\"toc-Data_exchange\">\n",
       "<a class=\"vector-toc-link\" href=\"#Data_exchange\">\n",
       "<div class=\"vector-toc-text\">\n",
       "<span class=\"vector-toc-numb\">1</span>Data exchange</div>\n",
       "</a>\n",
       "<ul class=\"vector-toc-list\" id=\"toc-Data_exchange-sublist\">\n",
       "</ul>\n",
       "</li>\n",
       "<li class=\"vector-toc-list-item vector-toc-level-1 vector-toc-list-item-expanded\" id=\"toc-Specification\">\n",
       "<a class=\"vector-toc-link\" href=\"#Specification\">\n",
       "<div class=\"vector-toc-text\">\n",
       "<span class=\"vector-toc-numb\">2</span>Specification</div>\n",
       "</a>\n",
       "<ul class=\"vector-toc-list\" id=\"toc-Specification-sublist\">\n",
       "</ul>\n",
       "</li>\n",
       "<li class=\"vector-toc-list-item vector-toc-level-1 vector-toc-list-item-expanded\" id=\"toc-History\">\n",
       "<a class=\"vector-toc-link\" href=\"#History\">\n",
       "<div class=\"vector-toc-text\">\n",
       "<span class=\"vector-toc-numb\">3</span>History</div>\n",
       "</a>\n",
       "<ul class=\"vector-toc-list\" id=\"toc-History-sublist\">\n",
       "</ul>\n",
       "</li>\n",
       "<li class=\"vector-toc-list-item vector-toc-level-1 vector-toc-list-item-expanded\" id=\"toc-General_functionality\">\n",
       "<a class=\"vector-toc-link\" href=\"#General_functionality\">\n",
       "<div class=\"vector-toc-text\">\n",
       "<span class=\"vector-toc-numb\">4</span>General functionality</div>\n",
       "</a>\n",
       "<ul class=\"vector-toc-list\" id=\"toc-General_functionality-sublist\">\n",
       "</ul>\n",
       "</li>\n",
       "<li class=\"vector-toc-list-item vector-toc-level-1 vector-toc-list-item-expanded\" id=\"toc-Standardization\">\n",
       "<a class=\"vector-toc-link\" href=\"#Standardization\">\n",
       "<div class=\"vector-toc-text\">\n",
       "<span class=\"vector-toc-numb\">5</span>Standardization</div>\n",
       "</a>\n",
       "<button aria-controls=\"toc-Standardization-sublist\" class=\"mw-ui-icon mw-ui-icon-wikimedia-expand mw-ui-icon-small vector-toc-toggle\">\n",
       "\t\t\t\tToggle Standardization subsection\n",
       "\t\t\t</button>\n",
       "<ul class=\"vector-toc-list\" id=\"toc-Standardization-sublist\">\n",
       "<li class=\"vector-toc-list-item vector-toc-level-2\" id=\"toc-RFC_4180_and_MIME_standards\">\n",
       "<a class=\"vector-toc-link\" href=\"#RFC_4180_and_MIME_standards\">\n",
       "<div class=\"vector-toc-text\">\n",
       "<span class=\"vector-toc-numb\">5.1</span>RFC 4180 and MIME standards</div>\n",
       "</a>\n",
       "<ul class=\"vector-toc-list\" id=\"toc-RFC_4180_and_MIME_standards-sublist\">\n",
       "</ul>\n",
       "</li>\n",
       "<li class=\"vector-toc-list-item vector-toc-level-2\" id=\"toc-OKF_frictionless_tabular_data_package\">\n",
       "<a class=\"vector-toc-link\" href=\"#OKF_frictionless_tabular_data_package\">\n",
       "<div class=\"vector-toc-text\">\n",
       "<span class=\"vector-toc-numb\">5.2</span>OKF frictionless tabular data package</div>\n",
       "</a>\n",
       "<ul class=\"vector-toc-list\" id=\"toc-OKF_frictionless_tabular_data_package-sublist\">\n",
       "</ul>\n",
       "</li>\n",
       "<li class=\"vector-toc-list-item vector-toc-level-2\" id=\"toc-W3C_tabular_data_standard\">\n",
       "<a class=\"vector-toc-link\" href=\"#W3C_tabular_data_standard\">\n",
       "<div class=\"vector-toc-text\">\n",
       "<span class=\"vector-toc-numb\">5.3</span>W3C tabular data standard</div>\n",
       "</a>\n",
       "<ul class=\"vector-toc-list\" id=\"toc-W3C_tabular_data_standard-sublist\">\n",
       "</ul>\n",
       "</li>\n",
       "</ul>\n",
       "</li>\n",
       "<li class=\"vector-toc-list-item vector-toc-level-1 vector-toc-list-item-expanded\" id=\"toc-Basic_rules\">\n",
       "<a class=\"vector-toc-link\" href=\"#Basic_rules\">\n",
       "<div class=\"vector-toc-text\">\n",
       "<span class=\"vector-toc-numb\">6</span>Basic rules</div>\n",
       "</a>\n",
       "<ul class=\"vector-toc-list\" id=\"toc-Basic_rules-sublist\">\n",
       "</ul>\n",
       "</li>\n",
       "<li class=\"vector-toc-list-item vector-toc-level-1 vector-toc-list-item-expanded\" id=\"toc-Example\">\n",
       "<a class=\"vector-toc-link\" href=\"#Example\">\n",
       "<div class=\"vector-toc-text\">\n",
       "<span class=\"vector-toc-numb\">7</span>Example</div>\n",
       "</a>\n",
       "<ul class=\"vector-toc-list\" id=\"toc-Example-sublist\">\n",
       "</ul>\n",
       "</li>\n",
       "<li class=\"vector-toc-list-item vector-toc-level-1 vector-toc-list-item-expanded\" id=\"toc-Application_support\">\n",
       "<a class=\"vector-toc-link\" href=\"#Application_support\">\n",
       "<div class=\"vector-toc-text\">\n",
       "<span class=\"vector-toc-numb\">8</span>Application support</div>\n",
       "</a>\n",
       "<button aria-controls=\"toc-Application_support-sublist\" class=\"mw-ui-icon mw-ui-icon-wikimedia-expand mw-ui-icon-small vector-toc-toggle\">\n",
       "\t\t\t\tToggle Application support subsection\n",
       "\t\t\t</button>\n",
       "<ul class=\"vector-toc-list\" id=\"toc-Application_support-sublist\">\n",
       "<li class=\"vector-toc-list-item vector-toc-level-2\" id=\"toc-Software_and_row_limits\">\n",
       "<a class=\"vector-toc-link\" href=\"#Software_and_row_limits\">\n",
       "<div class=\"vector-toc-text\">\n",
       "<span class=\"vector-toc-numb\">8.1</span>Software and row limits</div>\n",
       "</a>\n",
       "<ul class=\"vector-toc-list\" id=\"toc-Software_and_row_limits-sublist\">\n",
       "</ul>\n",
       "</li>\n",
       "</ul>\n",
       "</li>\n",
       "<li class=\"vector-toc-list-item vector-toc-level-1 vector-toc-list-item-expanded\" id=\"toc-See_also\">\n",
       "<a class=\"vector-toc-link\" href=\"#See_also\">\n",
       "<div class=\"vector-toc-text\">\n",
       "<span class=\"vector-toc-numb\">9</span>See also</div>\n",
       "</a>\n",
       "<ul class=\"vector-toc-list\" id=\"toc-See_also-sublist\">\n",
       "</ul>\n",
       "</li>\n",
       "<li class=\"vector-toc-list-item vector-toc-level-1 vector-toc-list-item-expanded\" id=\"toc-References\">\n",
       "<a class=\"vector-toc-link\" href=\"#References\">\n",
       "<div class=\"vector-toc-text\">\n",
       "<span class=\"vector-toc-numb\">10</span>References</div>\n",
       "</a>\n",
       "<ul class=\"vector-toc-list\" id=\"toc-References-sublist\">\n",
       "</ul>\n",
       "</li>\n",
       "<li class=\"vector-toc-list-item vector-toc-level-1 vector-toc-list-item-expanded\" id=\"toc-Further_reading\">\n",
       "<a class=\"vector-toc-link\" href=\"#Further_reading\">\n",
       "<div class=\"vector-toc-text\">\n",
       "<span class=\"vector-toc-numb\">11</span>Further reading</div>\n",
       "</a>\n",
       "<ul class=\"vector-toc-list\" id=\"toc-Further_reading-sublist\">\n",
       "</ul>\n",
       "</li>\n",
       "</ul>\n",
       "</div>\n",
       "</div>\n",
       "</nav>\n",
       "<div class=\"mw-content-container\">\n",
       "<main class=\"mw-body\" id=\"content\" role=\"main\">\n",
       "<header class=\"mw-body-header vector-page-titlebar\">\n",
       "<label aria-controls=\"toc-toggle-list\" class=\"mw-ui-button mw-ui-quiet mw-ui-icon mw-ui-icon-flush-left mw-ui-icon-element mw-ui-icon-wikimedia-listBullet mw-checkbox-hack-button\" data-event-name=\"vector.toc-toggle-list\" for=\"vector-toc-collapsed-checkbox\" id=\"vector-toc-collapsed-button\" role=\"button\" tabindex=\"0\" title=\"Table of Contents\">\n",
       "\t\t\t\t\t\tToggle the table of contents\n",
       "\t\t\t\t\t</label>\n",
       "<div class=\"vector-menu vector-dropdown vector-menu-dropdown vector-page-titlebar-toc mw-ui-icon-flush-left\" id=\"vector-page-titlebar-toc\">\n",
       "<input aria-haspopup=\"true\" aria-label=\"Toggle the table of contents\" class=\"vector-menu-checkbox\" data-event-name=\"ui.dropdown-vector-page-titlebar-toc\" id=\"vector-page-titlebar-toc-checkbox\" role=\"button\" type=\"checkbox\">\n",
       "<label aria-hidden=\"true\" class=\"vector-menu-heading mw-checkbox-hack-button mw-ui-icon mw-ui-button mw-ui-quiet mw-ui-icon-element mw-ui-icon-wikimedia-listBullet\" for=\"vector-page-titlebar-toc-checkbox\" id=\"vector-page-titlebar-toc-label\">\n",
       "<span class=\"vector-menu-heading-label\">Toggle the table of contents</span>\n",
       "</label>\n",
       "<div class=\"vector-menu-content vector-dropdown-content\">\n",
       "<div class=\"vector-unpinned-container\" id=\"vector-page-titlebar-toc-unpinned-container\">\n",
       "</div>\n",
       "</div>\n",
       "</input></div>\n",
       "<h1 class=\"firstHeading mw-first-heading\" id=\"firstHeading\"><span class=\"mw-page-title-main\">Comma-separated values</span></h1>\n",
       "<div class=\"vector-menu vector-dropdown vector-menu-dropdown mw-portlet mw-portlet-lang mw-ui-icon-flush-right\" id=\"p-lang-btn\">\n",
       "<input aria-haspopup=\"true\" aria-label=\"Go to an article in another language. Available in 30 languages\" class=\"vector-menu-checkbox mw-interlanguage-selector\" data-event-name=\"ui.dropdown-p-lang-btn\" id=\"p-lang-btn-checkbox\" role=\"button\" type=\"checkbox\">\n",
       "<label aria-hidden=\"true\" class=\"vector-menu-heading mw-ui-button mw-ui-quiet mw-ui-progressive mw-portlet-lang-heading-30\" for=\"p-lang-btn-checkbox\" id=\"p-lang-btn-label\">\n",
       "<span class=\"mw-ui-icon mw-ui-icon-wikimedia-language-progressive\"></span><span class=\"vector-menu-heading-label\">30 languages</span>\n",
       "</label>\n",
       "<div class=\"vector-menu-content vector-dropdown-content\">\n",
       "<div class=\"vector-menu-content\">\n",
       "<ul class=\"vector-menu-content-list\"><li class=\"interlanguage-link interwiki-ar mw-list-item\"><a class=\"interlanguage-link-target\" href=\"https://ar.wikipedia.org/wiki/%D9%82%D9%8A%D9%85_%D9%85%D9%81%D8%B5%D9%88%D9%84%D8%A9_%D8%A8%D9%81%D9%88%D8%A7%D8%B5%D9%84\" hreflang=\"ar\" lang=\"ar\" title=\"قيم مفصولة بفواصل – Arabic\"><span>العربية</span></a></li><li class=\"interlanguage-link interwiki-ca mw-list-item\"><a class=\"interlanguage-link-target\" href=\"https://ca.wikipedia.org/wiki/CSV\" hreflang=\"ca\" lang=\"ca\" title=\"CSV – Catalan\"><span>Català</span></a></li><li class=\"interlanguage-link interwiki-cs mw-list-item\"><a class=\"interlanguage-link-target\" href=\"https://cs.wikipedia.org/wiki/CSV\" hreflang=\"cs\" lang=\"cs\" title=\"CSV – Czech\"><span>Čeština</span></a></li><li class=\"interlanguage-link interwiki-de mw-list-item\"><a class=\"interlanguage-link-target\" href=\"https://de.wikipedia.org/wiki/CSV_(Dateiformat)\" hreflang=\"de\" lang=\"de\" title=\"CSV (Dateiformat) – German\"><span>Deutsch</span></a></li><li class=\"interlanguage-link interwiki-es mw-list-item\"><a class=\"interlanguage-link-target\" href=\"https://es.wikipedia.org/wiki/Valores_separados_por_comas\" hreflang=\"es\" lang=\"es\" title=\"Valores separados por comas – Spanish\"><span>Español</span></a></li><li class=\"interlanguage-link interwiki-eo mw-list-item\"><a class=\"interlanguage-link-target\" href=\"https://eo.wikipedia.org/wiki/CSV\" hreflang=\"eo\" lang=\"eo\" title=\"CSV – Esperanto\"><span>Esperanto</span></a></li><li class=\"interlanguage-link interwiki-eu mw-list-item\"><a class=\"interlanguage-link-target\" href=\"https://eu.wikipedia.org/wiki/CSV\" hreflang=\"eu\" lang=\"eu\" title=\"CSV – Basque\"><span>Euskara</span></a></li><li class=\"interlanguage-link interwiki-fa mw-list-item\"><a class=\"interlanguage-link-target\" href=\"https://fa.wikipedia.org/wiki/%D9%85%D9%82%D8%A7%D8%AF%DB%8C%D8%B1_%D8%AC%D8%AF%D8%A7%D8%B4%D8%AF%D9%87_%D8%A8%D8%A7_%D9%88%DB%8C%D8%B1%DA%AF%D9%88%D9%84\" hreflang=\"fa\" lang=\"fa\" title=\"مقادیر جداشده با ویرگول – Persian\"><span>فارسی</span></a></li><li class=\"interlanguage-link interwiki-fr mw-list-item\"><a class=\"interlanguage-link-target\" href=\"https://fr.wikipedia.org/wiki/Comma-separated_values\" hreflang=\"fr\" lang=\"fr\" title=\"Comma-separated values – French\"><span>Français</span></a></li><li class=\"interlanguage-link interwiki-ko mw-list-item\"><a class=\"interlanguage-link-target\" href=\"https://ko.wikipedia.org/wiki/CSV_(%ED%8C%8C%EC%9D%BC_%ED%98%95%EC%8B%9D)\" hreflang=\"ko\" lang=\"ko\" title=\"CSV (파일 형식) – Korean\"><span>한국어</span></a></li><li class=\"interlanguage-link interwiki-id mw-list-item\"><a class=\"interlanguage-link-target\" href=\"https://id.wikipedia.org/wiki/Comma_Separated_Values\" hreflang=\"id\" lang=\"id\" title=\"Comma Separated Values – Indonesian\"><span>Bahasa Indonesia</span></a></li><li class=\"interlanguage-link interwiki-it mw-list-item\"><a class=\"interlanguage-link-target\" href=\"https://it.wikipedia.org/wiki/Comma-separated_values\" hreflang=\"it\" lang=\"it\" title=\"Comma-separated values – Italian\"><span>Italiano</span></a></li><li class=\"interlanguage-link interwiki-he mw-list-item\"><a class=\"interlanguage-link-target\" href=\"https://he.wikipedia.org/wiki/CSV\" hreflang=\"he\" lang=\"he\" title=\"CSV – Hebrew\"><span>עברית</span></a></li><li class=\"interlanguage-link interwiki-lb mw-list-item\"><a class=\"interlanguage-link-target\" href=\"https://lb.wikipedia.org/wiki/.csv_(Dateiformat)\" hreflang=\"lb\" lang=\"lb\" title=\".csv (Dateiformat) – Luxembourgish\"><span>Lëtzebuergesch</span></a></li><li class=\"interlanguage-link interwiki-lt mw-list-item\"><a class=\"interlanguage-link-target\" href=\"https://lt.wikipedia.org/wiki/CSV\" hreflang=\"lt\" lang=\"lt\" title=\"CSV – Lithuanian\"><span>Lietuvių</span></a></li><li class=\"interlanguage-link interwiki-nl mw-list-item\"><a class=\"interlanguage-link-target\" href=\"https://nl.wikipedia.org/wiki/Kommagescheiden_bestand\" hreflang=\"nl\" lang=\"nl\" title=\"Kommagescheiden bestand – Dutch\"><span>Nederlands</span></a></li><li class=\"interlanguage-link interwiki-ja mw-list-item\"><a class=\"interlanguage-link-target\" href=\"https://ja.wikipedia.org/wiki/Comma-Separated_Values\" hreflang=\"ja\" lang=\"ja\" title=\"Comma-Separated Values – Japanese\"><span>日本語</span></a></li><li class=\"interlanguage-link interwiki-no mw-list-item\"><a class=\"interlanguage-link-target\" href=\"https://no.wikipedia.org/wiki/CSV\" hreflang=\"nb\" lang=\"nb\" title=\"CSV – Norwegian Bokmål\"><span>Norsk bokmål</span></a></li><li class=\"interlanguage-link interwiki-pl mw-list-item\"><a class=\"interlanguage-link-target\" href=\"https://pl.wikipedia.org/wiki/CSV_(format_pliku)\" hreflang=\"pl\" lang=\"pl\" title=\"CSV (format pliku) – Polish\"><span>Polski</span></a></li><li class=\"interlanguage-link interwiki-pt mw-list-item\"><a class=\"interlanguage-link-target\" href=\"https://pt.wikipedia.org/wiki/Comma-separated_values\" hreflang=\"pt\" lang=\"pt\" title=\"Comma-separated values – Portuguese\"><span>Português</span></a></li><li class=\"interlanguage-link interwiki-ru mw-list-item\"><a class=\"interlanguage-link-target\" href=\"https://ru.wikipedia.org/wiki/CSV\" hreflang=\"ru\" lang=\"ru\" title=\"CSV – Russian\"><span>Русский</span></a></li><li class=\"interlanguage-link interwiki-simple mw-list-item\"><a class=\"interlanguage-link-target\" href=\"https://simple.wikipedia.org/wiki/Comma-separated_values\" hreflang=\"en-simple\" lang=\"en-simple\" title=\"Comma-separated values – Simple English\"><span>Simple English</span></a></li><li class=\"interlanguage-link interwiki-sk mw-list-item\"><a class=\"interlanguage-link-target\" href=\"https://sk.wikipedia.org/wiki/Comma-separated_values\" hreflang=\"sk\" lang=\"sk\" title=\"Comma-separated values – Slovak\"><span>Slovenčina</span></a></li><li class=\"interlanguage-link interwiki-fi mw-list-item\"><a class=\"interlanguage-link-target\" href=\"https://fi.wikipedia.org/wiki/CSV\" hreflang=\"fi\" lang=\"fi\" title=\"CSV – Finnish\"><span>Suomi</span></a></li><li class=\"interlanguage-link interwiki-sv mw-list-item\"><a class=\"interlanguage-link-target\" href=\"https://sv.wikipedia.org/wiki/Comma-separated_values\" hreflang=\"sv\" lang=\"sv\" title=\"Comma-separated values – Swedish\"><span>Svenska</span></a></li><li class=\"interlanguage-link interwiki-ta mw-list-item\"><a class=\"interlanguage-link-target\" href=\"https://ta.wikipedia.org/wiki/%E0%AE%85%E0%AE%A3%E0%AE%BF%E0%AE%A4%E0%AF%8D%E0%AE%A4%E0%AE%B0%E0%AE%B5%E0%AF%81%E0%AE%95%E0%AF%8D%E0%AE%95%E0%AF%8B%E0%AE%AA%E0%AF%8D%E0%AE%AA%E0%AF%81\" hreflang=\"ta\" lang=\"ta\" title=\"அணித்தரவுக்கோப்பு – Tamil\"><span>தமிழ்</span></a></li><li class=\"interlanguage-link interwiki-th mw-list-item\"><a class=\"interlanguage-link-target\" href=\"https://th.wikipedia.org/wiki/Comma-separated_values\" hreflang=\"th\" lang=\"th\" title=\"Comma-separated values – Thai\"><span>ไทย</span></a></li><li class=\"interlanguage-link interwiki-uk mw-list-item\"><a class=\"interlanguage-link-target\" href=\"https://uk.wikipedia.org/wiki/CSV\" hreflang=\"uk\" lang=\"uk\" title=\"CSV – Ukrainian\"><span>Українська</span></a></li><li class=\"interlanguage-link interwiki-vec mw-list-item\"><a class=\"interlanguage-link-target\" href=\"https://vec.wikipedia.org/wiki/Comma-separated_values\" hreflang=\"vec\" lang=\"vec\" title=\"Comma-separated values – Venetian\"><span>Vèneto</span></a></li><li class=\"interlanguage-link interwiki-zh mw-list-item\"><a class=\"interlanguage-link-target\" href=\"https://zh.wikipedia.org/wiki/%E9%80%97%E5%8F%B7%E5%88%86%E9%9A%94%E5%80%BC\" hreflang=\"zh\" lang=\"zh\" title=\"逗号分隔值 – Chinese\"><span>中文</span></a></li></ul>\n",
       "<div class=\"after-portlet after-portlet-lang\"><span class=\"wb-langlinks-edit wb-langlinks-link\"><a class=\"wbc-editpage\" href=\"https://www.wikidata.org/wiki/Special:EntityPage/Q935809#sitelinks-wikipedia\" title=\"Edit interlanguage links\">Edit links</a></span></div>\n",
       "</div>\n",
       "</div>\n",
       "</input></div>\n",
       "</header>\n",
       "<div class=\"vector-page-toolbar\">\n",
       "<div class=\"vector-page-toolbar-container\">\n",
       "<div id=\"left-navigation\">\n",
       "<nav aria-label=\"Namespaces\">\n",
       "<div class=\"vector-menu vector-menu-tabs mw-portlet mw-portlet-associated-pages\" id=\"p-associated-pages\">\n",
       "<div class=\"vector-menu-content\">\n",
       "<ul class=\"vector-menu-content-list\"><li class=\"selected vector-tab-noicon mw-list-item\" id=\"ca-nstab-main\"><a accesskey=\"c\" href=\"/wiki/Comma-separated_values\" title=\"View the content page [c]\"><span>Article</span></a></li><li class=\"vector-tab-noicon mw-list-item\" id=\"ca-talk\"><a accesskey=\"t\" href=\"/wiki/Talk:Comma-separated_values\" rel=\"discussion\" title=\"Discuss improvements to the content page [t]\"><span>Talk</span></a></li></ul>\n",
       "</div>\n",
       "</div>\n",
       "<div class=\"vector-menu vector-dropdown vector-menu-dropdown mw-portlet mw-portlet-variants emptyPortlet\" id=\"p-variants\">\n",
       "<input aria-haspopup=\"true\" aria-label=\"Change language variant\" class=\"vector-menu-checkbox\" data-event-name=\"ui.dropdown-p-variants\" id=\"p-variants-checkbox\" role=\"button\" type=\"checkbox\">\n",
       "<label aria-hidden=\"true\" class=\"vector-menu-heading\" for=\"p-variants-checkbox\" id=\"p-variants-label\">\n",
       "<span class=\"vector-menu-heading-label\">English</span>\n",
       "</label>\n",
       "<div class=\"vector-menu-content vector-dropdown-content\">\n",
       "<div class=\"vector-menu-content\">\n",
       "<ul class=\"vector-menu-content-list\"></ul>\n",
       "</div>\n",
       "</div>\n",
       "</input></div>\n",
       "</nav>\n",
       "</div>\n",
       "<div class=\"vector-collapsible\" id=\"right-navigation\">\n",
       "<nav aria-label=\"Views\">\n",
       "<div class=\"vector-menu vector-menu-tabs mw-portlet mw-portlet-views\" id=\"p-views\">\n",
       "<div class=\"vector-menu-content\">\n",
       "<ul class=\"vector-menu-content-list\"><li class=\"selected vector-tab-noicon mw-list-item\" id=\"ca-view\"><a href=\"/wiki/Comma-separated_values\"><span>Read</span></a></li><li class=\"vector-tab-noicon mw-list-item\" id=\"ca-edit\"><a accesskey=\"e\" href=\"/w/index.php?title=Comma-separated_values&amp;action=edit\" title=\"Edit this page [e]\"><span>Edit</span></a></li><li class=\"vector-tab-noicon mw-list-item\" id=\"ca-history\"><a accesskey=\"h\" href=\"/w/index.php?title=Comma-separated_values&amp;action=history\" title=\"Past revisions of this page [h]\"><span>View history</span></a></li></ul>\n",
       "</div>\n",
       "</div>\n",
       "</nav>\n",
       "<nav aria-label=\"More options\" class=\"vector-page-tools-landmark\">\n",
       "<div class=\"vector-menu vector-dropdown vector-menu-dropdown mw-portlet mw-portlet-cactions emptyPortlet vector-has-collapsible-items\" id=\"p-cactions\" title=\"More options\">\n",
       "<input aria-haspopup=\"true\" aria-label=\"More\" class=\"vector-menu-checkbox\" data-event-name=\"ui.dropdown-p-cactions\" id=\"p-cactions-checkbox\" role=\"button\" type=\"checkbox\">\n",
       "<label aria-hidden=\"true\" class=\"vector-menu-heading\" for=\"p-cactions-checkbox\" id=\"p-cactions-label\">\n",
       "<span class=\"vector-menu-heading-label\">More</span>\n",
       "</label>\n",
       "<div class=\"vector-menu-content vector-dropdown-content\">\n",
       "<div class=\"vector-menu-content\">\n",
       "<ul class=\"vector-menu-content-list\"><li class=\"selected vector-more-collapsible-item mw-list-item\" id=\"ca-more-view\"><a href=\"/wiki/Comma-separated_values\"><span>Read</span></a></li><li class=\"vector-more-collapsible-item mw-list-item\" id=\"ca-more-edit\"><a href=\"/w/index.php?title=Comma-separated_values&amp;action=edit\"><span>Edit</span></a></li><li class=\"vector-more-collapsible-item mw-list-item\" id=\"ca-more-history\"><a href=\"/w/index.php?title=Comma-separated_values&amp;action=history\"><span>View history</span></a></li></ul>\n",
       "</div>\n",
       "</div>\n",
       "</input></div>\n",
       "</nav>\n",
       "</div>\n",
       "</div>\n",
       "</div>\n",
       "<div aria-labelledby=\"firstHeading\" class=\"vector-body\" data-mw-ve-target-container=\"\" id=\"bodyContent\">\n",
       "<div class=\"vector-body-before-content\">\n",
       "<div class=\"mw-indicators\">\n",
       "</div>\n",
       "<div class=\"noprint\" id=\"siteSub\">From Wikipedia, the free encyclopedia</div>\n",
       "</div>\n",
       "<div id=\"contentSub\"><div id=\"mw-content-subtitle\"></div></div>\n",
       "<div class=\"mw-body-content mw-content-ltr\" dir=\"ltr\" id=\"mw-content-text\" lang=\"en\"><div class=\"mw-parser-output\"><div class=\"shortdescription nomobile noexcerpt noprint searchaux\" style=\"display:none\">(CSV) File format used to store data</div>\n",
       "<style data-mw-deduplicate=\"TemplateStyles:r1097763485\">.mw-parser-output .ambox{border:1px solid #a2a9b1;border-left:10px solid #36c;background-color:#fbfbfb;box-sizing:border-box}.mw-parser-output .ambox+link+.ambox,.mw-parser-output .ambox+link+style+.ambox,.mw-parser-output .ambox+link+link+.ambox,.mw-parser-output .ambox+.mw-empty-elt+link+.ambox,.mw-parser-output .ambox+.mw-empty-elt+link+style+.ambox,.mw-parser-output .ambox+.mw-empty-elt+link+link+.ambox{margin-top:-1px}html body.mediawiki .mw-parser-output .ambox.mbox-small-left{margin:4px 1em 4px 0;overflow:hidden;width:238px;border-collapse:collapse;font-size:88%;line-height:1.25em}.mw-parser-output .ambox-speedy{border-left:10px solid #b32424;background-color:#fee7e6}.mw-parser-output .ambox-delete{border-left:10px solid #b32424}.mw-parser-output .ambox-content{border-left:10px solid #f28500}.mw-parser-output .ambox-style{border-left:10px solid #fc3}.mw-parser-output .ambox-move{border-left:10px solid #9932cc}.mw-parser-output .ambox-protection{border-left:10px solid #a2a9b1}.mw-parser-output .ambox .mbox-text{border:none;padding:0.25em 0.5em;width:100%}.mw-parser-output .ambox .mbox-image{border:none;padding:2px 0 2px 0.5em;text-align:center}.mw-parser-output .ambox .mbox-imageright{border:none;padding:2px 0.5em 2px 0;text-align:center}.mw-parser-output .ambox .mbox-empty-cell{border:none;padding:0;width:1px}.mw-parser-output .ambox .mbox-image-div{width:52px}html.client-js body.skin-minerva .mw-parser-output .mbox-text-span{margin-left:23px!important}@media(min-width:720px){.mw-parser-output .ambox{margin:0 10%}}</style><style data-mw-deduplicate=\"TemplateStyles:r1086701767\">.mw-parser-output .multiple-issues-text{width:95%;margin:0.2em 0}.mw-parser-output .multiple-issues-text>.mw-collapsible-content{margin-top:0.3em}.mw-parser-output .compact-ambox .ambox{border:none;border-collapse:collapse;background-color:transparent;margin:0 0 0 1.6em!important;padding:0!important;width:auto;display:block}body.mediawiki .mw-parser-output .compact-ambox .ambox.mbox-small-left{font-size:100%;width:auto;margin:0}.mw-parser-output .compact-ambox .ambox .mbox-text{padding:0!important;margin:0!important}.mw-parser-output .compact-ambox .ambox .mbox-text-span{display:list-item;line-height:1.5em;list-style-type:disc}.mw-parser-output .compact-ambox .ambox .mbox-image,.mw-parser-output .compact-ambox .ambox .mbox-imageright,.mw-parser-output .compact-ambox .ambox .mbox-empty-cell,.mw-parser-output .compact-ambox .hide-when-compact{display:none}</style><table class=\"box-Multiple_issues plainlinks metadata ambox ambox-content ambox-multiple_issues compact-ambox\" role=\"presentation\"><tbody><tr><td class=\"mbox-image\"><div class=\"mbox-image-div\"><img alt=\"\" data-file-height=\"40\" data-file-width=\"40\" decoding=\"async\" height=\"40\" src=\"//upload.wikimedia.org/wikipedia/en/thumb/b/b4/Ambox_important.svg/40px-Ambox_important.svg.png\" srcset=\"//upload.wikimedia.org/wikipedia/en/thumb/b/b4/Ambox_important.svg/60px-Ambox_important.svg.png 1.5x, //upload.wikimedia.org/wikipedia/en/thumb/b/b4/Ambox_important.svg/80px-Ambox_important.svg.png 2x\" width=\"40\"/></div></td><td class=\"mbox-text\"><div class=\"mbox-text-span\"><div class=\"multiple-issues-text mw-collapsible\"><b>This article has multiple issues.</b> Please help <b><a class=\"external text\" href=\"https://en.wikipedia.org/w/index.php?title=Comma-separated_values&amp;action=edit\">improve it</a></b> or discuss these issues on the <b><a href=\"/wiki/Talk:Comma-separated_values\" title=\"Talk:Comma-separated values\">talk page</a></b>. <small><i>(<a href=\"/wiki/Help:Maintenance_template_removal\" title=\"Help:Maintenance template removal\">Learn how and when to remove these template messages</a>)</i></small>\n",
       "<div class=\"mw-collapsible-content\">\n",
       "<link href=\"mw-data:TemplateStyles:r1097763485\" rel=\"mw-deduplicated-inline-style\"/><table class=\"box-Lead_too_short plainlinks metadata ambox ambox-content ambox-lead_too_short\" role=\"presentation\"><tbody><tr><td class=\"mbox-image\"><div class=\"mbox-image-div\"><a class=\"image\" href=\"/wiki/File:Wiki_letter_w.svg\"><img alt=\"Wiki letter w.svg\" data-file-height=\"44\" data-file-width=\"44\" decoding=\"async\" height=\"40\" src=\"//upload.wikimedia.org/wikipedia/en/thumb/6/6c/Wiki_letter_w.svg/40px-Wiki_letter_w.svg.png\" srcset=\"//upload.wikimedia.org/wikipedia/en/thumb/6/6c/Wiki_letter_w.svg/60px-Wiki_letter_w.svg.png 1.5x, //upload.wikimedia.org/wikipedia/en/thumb/6/6c/Wiki_letter_w.svg/80px-Wiki_letter_w.svg.png 2x\" width=\"40\"/></a></div></td><td class=\"mbox-text\"><div class=\"mbox-text-span\">This article's <a href=\"/wiki/Wikipedia:Manual_of_Style/Lead_section#Length\" title=\"Wikipedia:Manual of Style/Lead section\">lead section</a> <b>may be too short to adequately <a href=\"/wiki/Wikipedia:Summary_style\" title=\"Wikipedia:Summary style\">summarize</a> the key points</b>.<span class=\"hide-when-compact\"> Please consider expanding the lead to <a href=\"/wiki/Wikipedia:Manual_of_Style/Lead_section#Provide_an_accessible_overview\" title=\"Wikipedia:Manual of Style/Lead section\">provide an accessible overview</a> of all important aspects of the article.</span> <span class=\"date-container\"><i>(<span class=\"date\">February 2022</span>)</i></span></div></td></tr></tbody></table>\n",
       "<link href=\"mw-data:TemplateStyles:r1097763485\" rel=\"mw-deduplicated-inline-style\"/><table class=\"box-Essay-like plainlinks metadata ambox ambox-style ambox-essay-like\" role=\"presentation\"><tbody><tr><td class=\"mbox-image\"><div class=\"mbox-image-div\"><img alt=\"\" data-file-height=\"48\" data-file-width=\"48\" decoding=\"async\" height=\"40\" src=\"//upload.wikimedia.org/wikipedia/en/thumb/f/f2/Edit-clear.svg/40px-Edit-clear.svg.png\" srcset=\"//upload.wikimedia.org/wikipedia/en/thumb/f/f2/Edit-clear.svg/60px-Edit-clear.svg.png 1.5x, //upload.wikimedia.org/wikipedia/en/thumb/f/f2/Edit-clear.svg/80px-Edit-clear.svg.png 2x\" width=\"40\"/></div></td><td class=\"mbox-text\"><div class=\"mbox-text-span\">This article <b>is written like a <a href=\"/wiki/Wikipedia:What_Wikipedia_is_not#Wikipedia_is_not_a_publisher_of_original_thought\" title=\"Wikipedia:What Wikipedia is not\">personal reflection, personal essay, or argumentative essay</a></b> that states a Wikipedia editor's personal feelings or presents an original argument about a topic.<span class=\"hide-when-compact\"> Please <a class=\"external text\" href=\"https://en.wikipedia.org/w/index.php?title=Comma-separated_values&amp;action=edit\">help improve it</a> by rewriting it in an <a href=\"/wiki/Wikipedia:Writing_better_articles#Information_style_and_tone\" title=\"Wikipedia:Writing better articles\">encyclopedic style</a>.</span> <span class=\"date-container\"><i>(<span class=\"date\">February 2022</span>)</i></span><span class=\"hide-when-compact\"><i> (<small><a href=\"/wiki/Help:Maintenance_template_removal\" title=\"Help:Maintenance template removal\">Learn how and when to remove this template message</a></small>)</i></span></div></td></tr></tbody></table>\n",
       "<link href=\"mw-data:TemplateStyles:r1097763485\" rel=\"mw-deduplicated-inline-style\"/><table class=\"box-More_citations_needed plainlinks metadata ambox ambox-content ambox-Refimprove\" role=\"presentation\"><tbody><tr><td class=\"mbox-image\"><div class=\"mbox-image-div\"><a class=\"image\" href=\"/wiki/File:Question_book-new.svg\"><img alt=\"\" data-file-height=\"399\" data-file-width=\"512\" decoding=\"async\" height=\"39\" src=\"//upload.wikimedia.org/wikipedia/en/thumb/9/99/Question_book-new.svg/50px-Question_book-new.svg.png\" srcset=\"//upload.wikimedia.org/wikipedia/en/thumb/9/99/Question_book-new.svg/75px-Question_book-new.svg.png 1.5x, //upload.wikimedia.org/wikipedia/en/thumb/9/99/Question_book-new.svg/100px-Question_book-new.svg.png 2x\" width=\"50\"/></a></div></td><td class=\"mbox-text\"><div class=\"mbox-text-span\">This article <b>needs additional citations for <a href=\"/wiki/Wikipedia:Verifiability\" title=\"Wikipedia:Verifiability\">verification</a></b>.<span class=\"hide-when-compact\"> Please help <a class=\"external text\" href=\"https://en.wikipedia.org/w/index.php?title=Comma-separated_values&amp;action=edit\">improve this article</a> by <a href=\"/wiki/Help:Referencing_for_beginners\" title=\"Help:Referencing for beginners\">adding citations to reliable sources</a>. Unsourced material may be challenged and removed.<br/><small><span class=\"plainlinks\"><i>Find sources:</i> <a class=\"external text\" href=\"//www.google.com/search?as_eq=wikipedia&amp;q=%22Comma-separated+values%22\" rel=\"nofollow\">\"Comma-separated values\"</a> – <a class=\"external text\" href=\"//www.google.com/search?tbm=nws&amp;q=%22Comma-separated+values%22+-wikipedia&amp;tbs=ar:1\" rel=\"nofollow\">news</a> <b>·</b> <a class=\"external text\" href=\"//www.google.com/search?&amp;q=%22Comma-separated+values%22&amp;tbs=bkt:s&amp;tbm=bks\" rel=\"nofollow\">newspapers</a> <b>·</b> <a class=\"external text\" href=\"//www.google.com/search?tbs=bks:1&amp;q=%22Comma-separated+values%22+-wikipedia\" rel=\"nofollow\">books</a> <b>·</b> <a class=\"external text\" href=\"//scholar.google.com/scholar?q=%22Comma-separated+values%22\" rel=\"nofollow\">scholar</a> <b>·</b> <a class=\"external text\" href=\"https://www.jstor.org/action/doBasicSearch?Query=%22Comma-separated+values%22&amp;acc=on&amp;wc=on\" rel=\"nofollow\">JSTOR</a></span></small></span> <span class=\"date-container\"><i>(<span class=\"date\">February 2022</span>)</i></span><span class=\"hide-when-compact\"><i> (<small><a href=\"/wiki/Help:Maintenance_template_removal\" title=\"Help:Maintenance template removal\">Learn how and when to remove this template message</a></small>)</i></span></div></td></tr></tbody></table>\n",
       "</div>\n",
       "</div><span class=\"hide-when-compact\"><i> (<small><a href=\"/wiki/Help:Maintenance_template_removal\" title=\"Help:Maintenance template removal\">Learn how and when to remove this template message</a></small>)</i></span></div></td></tr></tbody></table>\n",
       "<style data-mw-deduplicate=\"TemplateStyles:r1066479718\">.mw-parser-output .infobox-subbox{padding:0;border:none;margin:-3px;width:auto;min-width:100%;font-size:100%;clear:none;float:none;background-color:transparent}.mw-parser-output .infobox-3cols-child{margin:auto}.mw-parser-output .infobox .navbar{font-size:100%}body.skin-minerva .mw-parser-output .infobox-header,body.skin-minerva .mw-parser-output .infobox-subheader,body.skin-minerva .mw-parser-output .infobox-above,body.skin-minerva .mw-parser-output .infobox-title,body.skin-minerva .mw-parser-output .infobox-image,body.skin-minerva .mw-parser-output .infobox-full-data,body.skin-minerva .mw-parser-output .infobox-below{text-align:center}</style><table class=\"infobox\"><caption class=\"infobox-title\" style=\"padding-bottom:0.15em;\">Comma-separated values</caption><tbody><tr><td class=\"infobox-image\" colspan=\"2\"><a class=\"image\" href=\"/wiki/File:CsvDelimited001.svg\"><img alt=\"CsvDelimited001.svg\" data-file-height=\"120\" data-file-width=\"120\" decoding=\"async\" height=\"64\" src=\"//upload.wikimedia.org/wikipedia/commons/thumb/3/38/CsvDelimited001.svg/64px-CsvDelimited001.svg.png\" srcset=\"//upload.wikimedia.org/wikipedia/commons/thumb/3/38/CsvDelimited001.svg/96px-CsvDelimited001.svg.png 1.5x, //upload.wikimedia.org/wikipedia/commons/thumb/3/38/CsvDelimited001.svg/128px-CsvDelimited001.svg.png 2x\" width=\"64\"/></a></td></tr><tr><td class=\"infobox-image\" colspan=\"2\"><a class=\"image\" href=\"/wiki/File:Example_CSV_file.png\"><img alt=\"Example CSV file.png\" data-file-height=\"608\" data-file-width=\"2008\" decoding=\"async\" height=\"91\" src=\"//upload.wikimedia.org/wikipedia/commons/thumb/0/0b/Example_CSV_file.png/300px-Example_CSV_file.png\" srcset=\"//upload.wikimedia.org/wikipedia/commons/thumb/0/0b/Example_CSV_file.png/450px-Example_CSV_file.png 1.5x, //upload.wikimedia.org/wikipedia/commons/thumb/0/0b/Example_CSV_file.png/600px-Example_CSV_file.png 2x\" width=\"300\"/></a><div class=\"infobox-caption\">A simple CSV file listing three people and the companies they work for</div></td></tr><tr><th class=\"infobox-label\" scope=\"row\" style=\"line-height:1.2em; padding-right:0.65em;\"><a href=\"/wiki/Filename_extension\" title=\"Filename extension\">Filename extension</a></th><td class=\"infobox-data\" style=\"line-height:1.35em;\"><code class=\"mw-highlight mw-highlight-lang-text mw-content-ltr\" dir=\"ltr\" id=\"\" style=\"\">.csv</code></td></tr><tr><th class=\"infobox-label\" scope=\"row\" style=\"line-height:1.2em; padding-right:0.65em;\"><a href=\"/wiki/Media_type\" title=\"Media type\">Internet media type</a></th><td class=\"infobox-data\" style=\"line-height:1.35em;\"><code>text/csv</code><sup class=\"reference\" id=\"cite_ref-rfc4180_1-0\"><a href=\"#cite_note-rfc4180-1\">[1]</a></sup></td></tr><tr><th class=\"infobox-label\" scope=\"row\" style=\"line-height:1.2em; padding-right:0.65em;\">Type of format</th><td class=\"infobox-data\" style=\"line-height:1.35em;\">multi-platform, serial data streams</td></tr><tr><th class=\"infobox-label\" scope=\"row\" style=\"line-height:1.2em; padding-right:0.65em;\"><a class=\"mw-redirect\" href=\"/wiki/Digital_container_format\" title=\"Digital container format\">Container for</a></th><td class=\"infobox-data\" style=\"line-height:1.35em;\"><a href=\"/wiki/Database\" title=\"Database\">database</a> information organized as field separated lists</td></tr><tr><th class=\"infobox-label\" scope=\"row\" style=\"line-height:1.2em; padding-right:0.65em;\"><a href=\"/wiki/International_standard\" title=\"International standard\">Standard</a></th><td class=\"infobox-data\" style=\"line-height:1.35em;\">RFC 4180</td></tr></tbody></table>\n",
       "<p>A <b>comma-separated values</b> (<b>CSV</b>) file is a delimited <a href=\"/wiki/Text_file\" title=\"Text file\">text file</a> that uses a <a href=\"/wiki/Comma\" title=\"Comma\">comma</a> to separate values. Each line of the file is a data <a href=\"/wiki/Record_(computer_science)\" title=\"Record (computer science)\">record</a>. Each record consists of one or more <a href=\"/wiki/Field_(computer_science)\" title=\"Field (computer science)\">fields</a>, separated by commas. The use of the comma as a field separator is the source of the name for this <a href=\"/wiki/File_format\" title=\"File format\">file format</a>. A CSV file typically stores <a href=\"/wiki/Table_(information)\" title=\"Table (information)\">tabular</a> data (numbers and text) in <a href=\"/wiki/Plain_text\" title=\"Plain text\">plain text</a>, in which case each line will have the same number of fields.\n",
       "</p><p>The CSV file format is not fully standardized. Separating fields with commas is the foundation, but commas in the data or embedded <a href=\"/wiki/Newline\" title=\"Newline\">line breaks</a> have to be handled specially. Some implementations disallow such content while others surround the field with <a href=\"/wiki/Quotation_mark\" title=\"Quotation mark\">quotation marks</a>, which yet again creates the need for escaping if quotation marks are present in the data.\n",
       "</p><p>The term \"CSV\" also denotes several closely-related <a href=\"/wiki/Delimiter-separated_values\" title=\"Delimiter-separated values\">delimiter-separated formats</a> that use other field delimiters such as semicolons.<sup class=\"reference\" id=\"cite_ref-2\"><a href=\"#cite_note-2\">[2]</a></sup> These include <a href=\"/wiki/Tab-separated_values\" title=\"Tab-separated values\">tab-separated values</a> and space-separated values. A delimiter guaranteed not to be part of the data greatly simplifies <a href=\"/wiki/Parsing\" title=\"Parsing\">parsing</a>.\n",
       "</p><p>Alternative delimiter-separated files are often given a \".csv\" <a href=\"/wiki/Filename_extension\" title=\"Filename extension\">extension</a> despite the use of a non-comma field separator. This loose terminology can cause problems in <a href=\"/wiki/Data_exchange\" title=\"Data exchange\">data exchange</a>. Many applications that accept CSV files have options to select the delimiter character and the quotation character. Semicolons are often used instead of commas in many European <a href=\"/wiki/Locale_(computer_software)\" title=\"Locale (computer software)\">locales</a> in order to use the comma as the decimal separator and, possibly, the period as a decimal grouping character.\n",
       "</p>\n",
       "<meta property=\"mw:PageProp/toc\"/>\n",
       "<h2><span class=\"mw-headline\" id=\"Data_exchange\">Data exchange</span><span class=\"mw-editsection\"><span class=\"mw-editsection-bracket\">[</span><a href=\"/w/index.php?title=Comma-separated_values&amp;action=edit&amp;section=1\" title=\"Edit section: Data exchange\">edit</a><span class=\"mw-editsection-bracket\">]</span></span></h2>\n",
       "<p>CSV is a common <a href=\"/wiki/Data_exchange\" title=\"Data exchange\">data exchange</a> format that is widely supported by consumer, business, and scientific applications. Among its most common uses is moving tabular data<sup class=\"reference\" id=\"cite_ref-3\"><a href=\"#cite_note-3\">[3]</a></sup><sup class=\"reference\" id=\"cite_ref-4\"><a href=\"#cite_note-4\">[4]</a></sup> between programs that natively operate on incompatible (often <a class=\"mw-redirect\" href=\"/wiki/Proprietary_format\" title=\"Proprietary format\">proprietary</a> or undocumented) formats.<sup class=\"reference\" id=\"cite_ref-rfc4180_1-1\"><a href=\"#cite_note-rfc4180-1\">[1]</a></sup> This works despite the lack of adherence to RFC 4180 (or any other standard) because so many programs support variations on the CSV format for data import.\n",
       "</p><p>For example, a user may need to transfer information from a database program that stores data in a proprietary format, to a <a href=\"/wiki/Spreadsheet\" title=\"Spreadsheet\">spreadsheet</a> that uses a completely different format. Most <a href=\"/wiki/Database\" title=\"Database\">database programs</a> can export data as CSV and the exported CSV file can then be imported by the spreadsheet program.\n",
       "</p>\n",
       "<h2><span class=\"mw-headline\" id=\"Specification\">Specification</span><span class=\"mw-editsection\"><span class=\"mw-editsection-bracket\">[</span><a href=\"/w/index.php?title=Comma-separated_values&amp;action=edit&amp;section=2\" title=\"Edit section: Specification\">edit</a><span class=\"mw-editsection-bracket\">]</span></span></h2>\n",
       "<p><style data-mw-deduplicate=\"TemplateStyles:r1133582631\">.mw-parser-output cite.citation{font-style:inherit;word-wrap:break-word}.mw-parser-output .citation q{quotes:\"\\\"\"\"\\\"\"\"'\"\"'\"}.mw-parser-output .citation:target{background-color:rgba(0,127,255,0.133)}.mw-parser-output .id-lock-free a,.mw-parser-output .citation .cs1-lock-free a{background:url(\"//upload.wikimedia.org/wikipedia/commons/6/65/Lock-green.svg\")right 0.1em center/9px no-repeat}.mw-parser-output .id-lock-limited a,.mw-parser-output .id-lock-registration a,.mw-parser-output .citation .cs1-lock-limited a,.mw-parser-output .citation .cs1-lock-registration a{background:url(\"//upload.wikimedia.org/wikipedia/commons/d/d6/Lock-gray-alt-2.svg\")right 0.1em center/9px no-repeat}.mw-parser-output .id-lock-subscription a,.mw-parser-output .citation .cs1-lock-subscription a{background:url(\"//upload.wikimedia.org/wikipedia/commons/a/aa/Lock-red-alt-2.svg\")right 0.1em center/9px no-repeat}.mw-parser-output .cs1-ws-icon a{background:url(\"//upload.wikimedia.org/wikipedia/commons/4/4c/Wikisource-logo.svg\")right 0.1em center/12px no-repeat}.mw-parser-output .cs1-code{color:inherit;background:inherit;border:none;padding:inherit}.mw-parser-output .cs1-hidden-error{display:none;color:#d33}.mw-parser-output .cs1-visible-error{color:#d33}.mw-parser-output .cs1-maint{display:none;color:#3a3;margin-left:0.3em}.mw-parser-output .cs1-format{font-size:95%}.mw-parser-output .cs1-kern-left{padding-left:0.2em}.mw-parser-output .cs1-kern-right{padding-right:0.2em}.mw-parser-output .citation .mw-selflink{font-weight:inherit}</style><a class=\"mw-redirect\" href=\"/wiki/RFC_(identifier)\" title=\"RFC (identifier)\">RFC</a> <a class=\"external text\" href=\"https://datatracker.ietf.org/doc/html/rfc4180\" rel=\"nofollow\">4180</a> proposes a <a href=\"/wiki/Specification_(technical_standard)\" title=\"Specification (technical standard)\">specification</a> for the CSV format; however, actual practice often does not follow the RFC and the term \"CSV\" might refer to any file that:<sup class=\"reference\" id=\"cite_ref-rfc4180_1-2\"><a href=\"#cite_note-rfc4180-1\">[1]</a></sup><sup class=\"reference\" id=\"cite_ref-5\"><a href=\"#cite_note-5\">[5]</a></sup>\n",
       "</p>\n",
       "<ol><li>is <a href=\"/wiki/Plain_text\" title=\"Plain text\">plain text</a> using a character encoding such as <a href=\"/wiki/ASCII\" title=\"ASCII\">ASCII</a>, various <a href=\"/wiki/Unicode\" title=\"Unicode\">Unicode</a> character encodings (e.g. <a href=\"/wiki/UTF-8\" title=\"UTF-8\">UTF-8</a>), <a href=\"/wiki/EBCDIC\" title=\"EBCDIC\">EBCDIC</a>, or <a href=\"/wiki/Shift_JIS\" title=\"Shift JIS\">Shift JIS</a>,</li>\n",
       "<li>consists of records (typically one record per line),</li>\n",
       "<li>with the records divided into <a href=\"/wiki/Field_(computer_science)\" title=\"Field (computer science)\">fields</a> separated by <a href=\"/wiki/Delimiter\" title=\"Delimiter\">delimiters</a> (typically a single reserved character such as comma, semicolon, or tab; sometimes the delimiter may include optional spaces),</li>\n",
       "<li>where every record has the same sequence of fields.</li></ol>\n",
       "<p>Within these general constraints, many variations are in use. Therefore, without additional information (such as whether RFC 4180 is honored), a file claimed simply to be in \"CSV\" format is not fully specified. As a result, some applications supporting CSV files have text import wizards that allow users to preview the first few lines of the file and then specify the delimiter character(s), quoting rules, and field trimming.\n",
       "</p>\n",
       "<h2><span class=\"mw-headline\" id=\"History\">History</span><span class=\"mw-editsection\"><span class=\"mw-editsection-bracket\">[</span><a href=\"/w/index.php?title=Comma-separated_values&amp;action=edit&amp;section=3\" title=\"Edit section: History\">edit</a><span class=\"mw-editsection-bracket\">]</span></span></h2>\n",
       "<p>Comma-separated values is a data format that predates <a href=\"/wiki/Personal_computer\" title=\"Personal computer\">personal computers</a> by more than a decade: the <a href=\"/wiki/IBM\" title=\"IBM\">IBM</a> <a href=\"/wiki/Fortran\" title=\"Fortran\">Fortran</a> (level H extended) compiler under <a class=\"mw-redirect\" href=\"/wiki/OS/360\" title=\"OS/360\">OS/360</a> supported CSV in 1972.<sup class=\"reference\" id=\"cite_ref-6\"><a href=\"#cite_note-6\">[6]</a></sup> List-directed (\"free form\") input/output was defined in <a class=\"mw-redirect\" href=\"/wiki/FORTRAN_77\" title=\"FORTRAN 77\">FORTRAN 77</a>, approved in 1978. List-directed input used commas or spaces for delimiters, so unquoted character strings could not contain commas or spaces.<sup class=\"reference\" id=\"cite_ref-7\"><a href=\"#cite_note-7\">[7]</a></sup>\n",
       "</p><p>The term \"comma-separated value\" and the \"CSV\" abbreviation were in use by 1983.<sup class=\"reference\" id=\"cite_ref-8\"><a href=\"#cite_note-8\">[8]</a></sup> The manual for the <a href=\"/wiki/Osborne_Computer_Corporation\" title=\"Osborne Computer Corporation\">Osborne</a> Executive computer, which bundled the <a href=\"/wiki/SuperCalc\" title=\"SuperCalc\">SuperCalc</a> spreadsheet, documents the CSV quoting convention that allows strings to contain embedded commas, but the manual does not specify a convention for embedding quotation marks within quoted strings.<sup class=\"reference\" id=\"cite_ref-9\"><a href=\"#cite_note-9\">[9]</a></sup>\n",
       "</p><p>Comma-separated value lists are easier to type (for example into <a href=\"/wiki/Punched_card\" title=\"Punched card\">punched cards</a>) than fixed-column-aligned data, and they were less prone to producing incorrect results if a value was punched one column off from its intended location.\n",
       "</p><p>Comma separated files are used for the interchange of database information between machines of two different architectures. The plain-text character of CSV files largely avoids incompatibilities such as <a href=\"/wiki/Endianness\" title=\"Endianness\">byte-order</a> and <a class=\"mw-redirect\" href=\"/wiki/Word_size\" title=\"Word size\">word size</a>. The files are largely human-readable, so it is easier to deal with them in the absence of perfect documentation or communication.<sup class=\"reference\" id=\"cite_ref-10\"><a href=\"#cite_note-10\">[10]</a></sup>\n",
       "</p><p>The main standardization initiative—transforming \"<i><a href=\"/wiki/De_facto\" title=\"De facto\">de facto</a></i> fuzzy definition\" into a more precise and <i><a href=\"/wiki/De_jure\" title=\"De jure\">de jure</a></i> one—was in 2005, with <link href=\"mw-data:TemplateStyles:r1133582631\" rel=\"mw-deduplicated-inline-style\"/><a class=\"mw-redirect\" href=\"/wiki/RFC_(identifier)\" title=\"RFC (identifier)\">RFC</a> <a class=\"external text\" href=\"https://datatracker.ietf.org/doc/html/rfc4180\" rel=\"nofollow\">4180</a>, defining CSV as a <a class=\"mw-redirect\" href=\"/wiki/MIME_content_type\" title=\"MIME content type\">MIME Content Type</a>.<sup class=\"reference\" id=\"cite_ref-11\"><a href=\"#cite_note-11\">[11]</a></sup> Later, in 2013, some of RFC 4180's deficiencies were tackled by a W3C recommendation.<sup class=\"reference\" id=\"cite_ref-12\"><a href=\"#cite_note-12\">[12]</a></sup>\n",
       "</p><p>In 2014 <a class=\"mw-redirect\" href=\"/wiki/IETF\" title=\"IETF\">IETF</a> published <link href=\"mw-data:TemplateStyles:r1133582631\" rel=\"mw-deduplicated-inline-style\"/>RFC <a class=\"external text\" href=\"https://datatracker.ietf.org/doc/html/rfc7111\" rel=\"nofollow\">7111</a> describing the application of <a href=\"/wiki/URI_fragment\" title=\"URI fragment\">URI fragments</a> to CSV documents. RFC 7111 specifies how row, column, and cell ranges can be selected from a CSV document using position indexes.<sup class=\"reference\" id=\"cite_ref-13\"><a href=\"#cite_note-13\">[13]</a></sup>\n",
       "</p><p>In 2015 <a class=\"mw-redirect\" href=\"/wiki/W3C\" title=\"W3C\">W3C</a>, in an attempt to enhance CSV with <a href=\"/wiki/Semantic_Web\" title=\"Semantic Web\">formal semantics</a>, publicized the first <i>drafts of recommendations</i> for CSV metadata standards, which began as <i>recommendations</i> in December of the same year.<sup class=\"reference\" id=\"cite_ref-14\"><a href=\"#cite_note-14\">[14]</a></sup>\n",
       "</p>\n",
       "<h2><span class=\"mw-headline\" id=\"General_functionality\">General functionality</span><span class=\"mw-editsection\"><span class=\"mw-editsection-bracket\">[</span><a href=\"/w/index.php?title=Comma-separated_values&amp;action=edit&amp;section=4\" title=\"Edit section: General functionality\">edit</a><span class=\"mw-editsection-bracket\">]</span></span></h2>\n",
       "<p>CSV formats are best used to represent sets or sequences of records in which each record has an identical list of fields. This corresponds to a single <a href=\"/wiki/Relation_(database)\" title=\"Relation (database)\">relation</a> in a <a href=\"/wiki/Relational_database\" title=\"Relational database\">relational database</a>, or to data (though not calculations) in a typical spreadsheet.\n",
       "</p><p>The format dates back to the early days of business computing and is widely used to pass data between computers with different internal word sizes, data formatting needs, and so forth. For this reason, CSV files are common on all computer platforms.\n",
       "</p><p>CSV is a <a href=\"/wiki/Delimiter-separated_values\" title=\"Delimiter-separated values\">delimited</a> text file that uses a <a class=\"mw-redirect\" href=\"/wiki/Comma_(punctuation)\" title=\"Comma (punctuation)\">comma</a> to separate values (many implementations of CSV import/export tools allow other separators to be used; for example, the use of a \"Sep=^\" row as the first row in the *.csv file will cause <a href=\"/wiki/Microsoft_Excel\" title=\"Microsoft Excel\">Excel</a> to open the file expecting <a class=\"mw-redirect\" href=\"/wiki/Caret_(punctuation)\" title=\"Caret (punctuation)\">caret</a> \"^\" to be the separator instead of comma \",\"). Simple CSV implementations may prohibit field values that contain a comma or other special characters such as newlines. More sophisticated CSV implementations permit them, often by requiring \" (<a class=\"mw-redirect\" href=\"/wiki/Double_quote\" title=\"Double quote\">double quote</a>) characters around values that contain reserved characters (such as commas, double quotes, or less commonly, newlines). Embedded double quote characters may then be represented by a pair of consecutive double quotes,<sup class=\"reference\" id=\"cite_ref-15\"><a href=\"#cite_note-15\">[15]</a></sup> or by prefixing a double quote with an <a href=\"/wiki/Escape_character\" title=\"Escape character\">escape character</a> such as a <a href=\"/wiki/Backslash\" title=\"Backslash\">backslash</a> (for example in <a href=\"/wiki/Sybase\" title=\"Sybase\">Sybase</a> Central).\n",
       "</p><p>CSV formats are not limited to a particular <a class=\"mw-redirect\" href=\"/wiki/Character_set\" title=\"Character set\">character set</a>.<sup class=\"reference\" id=\"cite_ref-rfc4180_1-3\"><a href=\"#cite_note-rfc4180-1\">[1]</a></sup> They work just as well with <a href=\"/wiki/Unicode\" title=\"Unicode\">Unicode</a> character sets (such as <a href=\"/wiki/UTF-8\" title=\"UTF-8\">UTF-8</a> or <a href=\"/wiki/UTF-16\" title=\"UTF-16\">UTF-16</a>) as with ASCII (although particular programs that support CSV may have their own limitations). CSV files normally will even survive naïve translation from one character set to another (unlike nearly all proprietary data formats). CSV does not, however, provide any way to indicate what character set is in use, so that must be communicated separately, or determined at the receiving end (if possible).\n",
       "</p><p>Databases that include multiple <a href=\"/wiki/Relation_(database)\" title=\"Relation (database)\">relations</a> cannot be exported as a single CSV file<sup class=\"noprint Inline-Template Template-Fact\" style=\"white-space:nowrap;\">[<i><a href=\"/wiki/Wikipedia:Citation_needed\" title=\"Wikipedia:Citation needed\"><span title=\"This claim needs references to reliable sources. (September 2014)\">citation needed</span></a></i>]</sup>. Similarly, CSV cannot naturally represent <a class=\"mw-redirect\" href=\"/wiki/Hierarchical\" title=\"Hierarchical\">hierarchical</a> or <a class=\"mw-redirect\" href=\"/wiki/Object-oriented\" title=\"Object-oriented\">object-oriented</a> data. This is because every CSV record is expected to have the same structure. CSV is therefore rarely appropriate for <a class=\"mw-redirect\" href=\"/wiki/Documents\" title=\"Documents\">documents</a> created with <a href=\"/wiki/HTML\" title=\"HTML\">HTML</a>, <a href=\"/wiki/XML\" title=\"XML\">XML</a>, or other markup or word-processing technologies.\n",
       "</p><p>Statistical databases in various fields often have a generally relation-like structure, but with some repeatable groups of fields. For example, health databases such as the <a class=\"mw-redirect\" href=\"/wiki/Demographic_and_Health_Survey\" title=\"Demographic and Health Survey\">Demographic and Health Survey</a> typically repeat some questions for each child of a given parent (perhaps up to a fixed maximum number of children). <a class=\"mw-redirect\" href=\"/wiki/Statistical_analysis\" title=\"Statistical analysis\">Statistical analysis</a> systems often include utilities that can \"rotate\" such data; for example, a \"parent\" record that includes information about five children can be split into five separate records, each containing (a) the information on one child, and (b) a copy of all the non-child-specific information. CSV can represent either the \"vertical\" or \"horizontal\" form of such data.\n",
       "</p><p>In a relational database, similar issues are readily handled by creating a separate relation for each such group, and connecting \"child\" records to the related \"parent\" records using a <a href=\"/wiki/Foreign_key\" title=\"Foreign key\">foreign key</a> (such as an ID number or name for the parent). In markup languages such as XML, such groups are typically enclosed within a parent element and repeated as necessary (for example, multiple <code>&lt;child&gt;</code> nodes within a single <code>&lt;parent&gt;</code> node). With CSV there is no widely accepted single-file solution.\n",
       "</p>\n",
       "<h2><span class=\"mw-headline\" id=\"Standardization\">Standardization</span><span class=\"mw-editsection\"><span class=\"mw-editsection-bracket\">[</span><a href=\"/w/index.php?title=Comma-separated_values&amp;action=edit&amp;section=5\" title=\"Edit section: Standardization\">edit</a><span class=\"mw-editsection-bracket\">]</span></span></h2>\n",
       "<p>The name \"CSV\" indicates the use of the comma to separate data fields. Nevertheless, the term \"CSV\" is widely used to refer to a large family of formats that differ in many ways. Some implementations allow or require single or double quotation marks around some or all fields; and some reserve the first record as a header containing a list of field names. The character set being used is undefined: some applications require a Unicode <a href=\"/wiki/Byte_order_mark\" title=\"Byte order mark\">byte order mark</a> (BOM) to enforce Unicode interpretation (sometimes even a UTF-8 BOM).<sup class=\"reference\" id=\"cite_ref-rfc4180_1-4\"><a href=\"#cite_note-rfc4180-1\">[1]</a></sup> Files that use the tab character instead of comma can be more precisely referred to as \"TSV\" for tab-separated values.\n",
       "</p><p>Other implementation differences include the handling of more commonplace field separators (such as space or semicolon) and newline characters inside text fields. One more subtlety is the interpretation of a blank line: it can equally be the result of writing a record of zero fields, or a record of one field of zero length; thus decoding it is ambiguous.\n",
       "</p>\n",
       "<h3><span class=\"mw-headline\" id=\"RFC_4180_and_MIME_standards\">RFC 4180 and MIME standards</span><span class=\"mw-editsection\"><span class=\"mw-editsection-bracket\">[</span><a href=\"/w/index.php?title=Comma-separated_values&amp;action=edit&amp;section=6\" title=\"Edit section: RFC 4180 and MIME standards\">edit</a><span class=\"mw-editsection-bracket\">]</span></span></h3>\n",
       "<p>The 2005 technical standard RFC 4180 formalizes the CSV file format and defines the <a class=\"mw-redirect\" href=\"/wiki/MIME_type\" title=\"MIME type\">MIME type</a> \"text/csv\" for the handling of text-based fields. However, the interpretation of the text of each field is still application-specific. Files that follow the RFC 4180 standard can simplify CSV exchange and should be widely portable. Among its requirements:\n",
       "</p>\n",
       "<ul><li>MS-DOS-style lines that end with (CR/LF) characters (optional for the last line).</li>\n",
       "<li>An optional header record (there is no sure way to detect whether it is present, so care is required when importing).</li>\n",
       "<li>Each record <i>should</i> contain the same number of comma-separated fields.</li>\n",
       "<li>Any field <i>may</i> be quoted (with double quotes).</li>\n",
       "<li>Fields containing a line-break, double-quote or commas <i>should</i> be quoted. (If they are not, the file will likely be impossible to process correctly.)</li>\n",
       "<li><i>If</i> double-quotes are used to enclose fields, then a double-quote in a field <i>must</i> be represented by two double-quote characters.</li></ul>\n",
       "<p>The format can be processed by most programs that claim to read CSV files. The exceptions are <i>(a)</i> programs may not support line-breaks within quoted fields, <i>(b)</i> programs may confuse the optional header with data or interpret the first data line as an optional header, and <i>(c)</i> double-quotes in a field may not be parsed correctly automatically.\n",
       "</p>\n",
       "<h3><span class=\"mw-headline\" id=\"OKF_frictionless_tabular_data_package\">OKF frictionless tabular data package</span><span class=\"mw-editsection\"><span class=\"mw-editsection-bracket\">[</span><a href=\"/w/index.php?title=Comma-separated_values&amp;action=edit&amp;section=7\" title=\"Edit section: OKF frictionless tabular data package\">edit</a><span class=\"mw-editsection-bracket\">]</span></span></h3>\n",
       "<p>In 2011 <a href=\"/wiki/Open_Knowledge_Foundation\" title=\"Open Knowledge Foundation\">Open Knowledge Foundation</a> (OKF) and various partners created a data protocols working group, which later evolved into the Frictionless Data initiative. One of the main formats they released was the Tabular Data Package. Tabular Data package was heavily based on CSV, using it as the main data transport format and adding basic type and schema metadata (CSV lacks any type information to distinguish the string \"1\" from the number 1).<sup class=\"reference\" id=\"cite_ref-16\"><a href=\"#cite_note-16\">[16]</a></sup>\n",
       "</p><p>The Frictionless Data Initiative has also provided a standard CSV Dialect Description Format for describing different dialects of CSV, for example specifying the field separator or quoting rules.<sup class=\"reference\" id=\"cite_ref-17\"><a href=\"#cite_note-17\">[17]</a></sup>\n",
       "</p>\n",
       "<h3><span class=\"mw-headline\" id=\"W3C_tabular_data_standard\">W3C tabular data standard</span><span class=\"mw-editsection\"><span class=\"mw-editsection-bracket\">[</span><a href=\"/w/index.php?title=Comma-separated_values&amp;action=edit&amp;section=8\" title=\"Edit section: W3C tabular data standard\">edit</a><span class=\"mw-editsection-bracket\">]</span></span></h3>\n",
       "<p>In 2013 the <a href=\"/wiki/World_Wide_Web_Consortium\" title=\"World Wide Web Consortium\">W3C</a> \"CSV on the Web\" working group began to specify technologies providing higher interoperability for web applications using CSV or similar formats.<sup class=\"reference\" id=\"cite_ref-18\"><a href=\"#cite_note-18\">[18]</a></sup> The working group completed its work in February 2016 and is officially closed in March 2016 with the release of a set of documents and W3C recommendations<sup class=\"reference\" id=\"cite_ref-19\"><a href=\"#cite_note-19\">[19]</a></sup>\n",
       "for modeling \"Tabular Data\",<sup class=\"reference\" id=\"cite_ref-20\"><a href=\"#cite_note-20\">[20]</a></sup> and enhancing CSV with <a href=\"/wiki/Metadata\" title=\"Metadata\">metadata</a> and <a href=\"/wiki/Semantic_Web\" title=\"Semantic Web\">semantics</a>.\n",
       "</p>\n",
       "<h2><span class=\"mw-headline\" id=\"Basic_rules\">Basic rules</span><span class=\"mw-editsection\"><span class=\"mw-editsection-bracket\">[</span><a href=\"/w/index.php?title=Comma-separated_values&amp;action=edit&amp;section=9\" title=\"Edit section: Basic rules\">edit</a><span class=\"mw-editsection-bracket\">]</span></span></h2>\n",
       "<p>Many informal documents exist that describe \"CSV\" formats.\n",
       "<a class=\"mw-redirect\" href=\"/wiki/IETF\" title=\"IETF\">IETF</a> RFC 4180 (summarized above) defines the format for the \"text/csv\" <a class=\"mw-redirect\" href=\"/wiki/MIME_type\" title=\"MIME type\">MIME type</a> registered with the <a href=\"/wiki/Internet_Assigned_Numbers_Authority\" title=\"Internet Assigned Numbers Authority\">IANA</a>.\n",
       "</p><p>Rules typical of these and other \"CSV\" specifications and implementations are as follows:\n",
       "</p>\n",
       "<div><ul><li>CSV is a <a class=\"mw-redirect\" href=\"/wiki/Delimited\" title=\"Delimited\">delimited</a> data format that has <a href=\"/wiki/Field_(computer_science)\" title=\"Field (computer science)\">fields/columns</a> separated by the <a class=\"mw-redirect\" href=\"/wiki/Comma_(punctuation)\" title=\"Comma (punctuation)\">comma</a> <a href=\"/wiki/Grapheme\" title=\"Grapheme\">character</a> and <a href=\"/wiki/Row_(database)\" title=\"Row (database)\">records/rows</a> terminated by newlines.</li><li>A CSV file does not require a specific <a href=\"/wiki/Character_encoding\" title=\"Character encoding\">character encoding</a>, <a class=\"mw-redirect\" href=\"/wiki/Byte_order\" title=\"Byte order\">byte order</a>, or line terminator format (some software do not support all line-end variations).</li><li>A record ends at a line terminator. However, line terminators can be embedded as data within fields, so software must recognize quoted line-separators (see below) in order to correctly assemble an entire record from perhaps multiple lines.</li><li>All records should have the same number of fields, in the same order.</li><li>Data within fields is interpreted as a sequence of <a href=\"/wiki/Character_(computing)\" title=\"Character (computing)\">characters</a>, not as a sequence of bits or bytes (see RFC 2046, section 4.1). For example, the numeric quantity 65535 may be represented as the 5 ASCII characters \"65535\" (or perhaps other forms such as \"0xFFFF\", \"000065535.000E+00\", etc.); but not as a sequence of 2 bytes intended to be treated as a single binary integer rather than as two characters (e.g. the numbers 11264–11519 have a comma as their high order byte: <code class=\"mw-highlight mw-highlight-lang-perl mw-content-ltr\" dir=\"ltr\"><span class=\"nb\">ord</span><span class=\"p\">(</span><span class=\"s\">','</span><span class=\"p\">)</span><span class=\"o\">*</span><span class=\"mi\">256</span><span class=\"o\">..</span><span class=\"nb\">ord</span><span class=\"p\">(</span><span class=\"s\">','</span><span class=\"p\">)</span><span class=\"o\">*</span><span class=\"mi\">256</span><span class=\"o\">+</span><span class=\"mi\">255</span></code>). If this \"plain text\" convention is not followed, then the CSV file no longer contains sufficient information to interpret it correctly, the CSV file will not likely survive transmission across differing computer architectures, and will not conform to the <i>text/csv</i> MIME type.</li><li>Adjacent fields must be separated by a single comma. However, \"CSV\" formats vary greatly in this choice of separator character. In particular, in <a href=\"/wiki/Locale_(computer_software)\" title=\"Locale (computer software)\">locales</a> where the comma is used as a decimal separator, a semicolon, TAB, or other character is used instead.\n",
       "<pre>1997,Ford,E350</pre></li><li>Any field <i>may</i> be <i>quoted</i> (that is, enclosed within double-quote characters), while some fields <i>must</i> be quoted, as specified in the following rules and examples:\n",
       "<pre>\"1997\",\"Ford\",\"E350\"</pre></li><li>Fields with embedded commas or double-quote characters must be quoted.\n",
       "<pre>1997,Ford,E350,\"Super, luxurious truck\"</pre></li><li>Each of the embedded double-quote characters must be represented by a pair of double-quote characters.\n",
       "<pre>1997,Ford,E350,\"Super, \"\"luxurious\"\" truck\"</pre></li><li>Fields with embedded line breaks must be quoted (however, many CSV implementations do not support embedded line breaks).\n",
       "<pre>1997,Ford,E350,\"Go get one now\n",
       "they are going fast\"\n",
       "</pre></li><li>In some CSV implementations<sup class=\"noprint Inline-Template\" style=\"white-space:nowrap;\">[<i><a class=\"mw-redirect\" href=\"/wiki/Wikipedia:Avoid_weasel_words\" title=\"Wikipedia:Avoid weasel words\"><span title=\"The material near this tag possibly uses too vague attribution or weasel words. (September 2017)\">which?</span></a></i>]</sup>, leading and trailing spaces and tabs are trimmed (ignored). Such trimming is forbidden by RFC 4180, which states \"Spaces are considered part of a field and should not be ignored.\"\n",
       "<pre>1997, Ford, E350\n",
       "not same as\n",
       "1997,Ford,E350\n",
       "</pre></li><li>According to RFC 4180, spaces outside quotes in a field are not allowed; however, the RFC also says that \"Spaces are considered part of a field and should not be ignored.\" and \"Implementers should 'be conservative in what you do, be liberal in what you accept from others' (RFC 793, section 2.10) when processing CSV files.\"\n",
       "<pre>1997, \"Ford\" ,E350</pre></li><li>In CSV implementations that do trim leading or trailing spaces, fields with such spaces as meaningful data must be quoted.\n",
       "<pre>1997,Ford,E350,\" Super luxurious truck \"</pre></li><li>Double quote processing need only apply if the field starts with a double quote. Note, however, that double quotes are not allowed in unquoted fields according to RFC 4180.\n",
       "<pre>Los Angeles,34°03′N,118°15′W\n",
       "New York City,40°42′46″N,74°00′21″W\n",
       "Paris,48°51′24″N,2°21′03″E\n",
       "</pre></li><li>The first record may be a \"header\", which contains column names in each of the fields (there is no reliable way to tell whether a file does this or not; however, it is uncommon to use characters other than letters, digits, and underscores in such column names).\n",
       "<pre>Year,Make,Model\n",
       "1997,Ford,E350\n",
       "2000,Mercury,Cougar\n",
       "</pre></li></ul></div>\n",
       "<h2><span class=\"mw-headline\" id=\"Example\">Example</span><span class=\"mw-editsection\"><span class=\"mw-editsection-bracket\">[</span><a href=\"/w/index.php?title=Comma-separated_values&amp;action=edit&amp;section=10\" title=\"Edit section: Example\">edit</a><span class=\"mw-editsection-bracket\">]</span></span></h2>\n",
       "<table class=\"wikitable\">\n",
       "<tbody><tr>\n",
       "<th>Year</th>\n",
       "<th>Make</th>\n",
       "<th>Model</th>\n",
       "<th>Description</th>\n",
       "<th>Price\n",
       "</th></tr>\n",
       "<tr>\n",
       "<td>1997</td>\n",
       "<td>Ford</td>\n",
       "<td>E350</td>\n",
       "<td>ac, abs, moon</td>\n",
       "<td>3000.00\n",
       "</td></tr>\n",
       "<tr>\n",
       "<td>1999</td>\n",
       "<td>Chevy</td>\n",
       "<td>Venture \"Extended Edition\"</td>\n",
       "<td></td>\n",
       "<td>4900.00\n",
       "</td></tr>\n",
       "<tr>\n",
       "<td>1999</td>\n",
       "<td>Chevy</td>\n",
       "<td>Venture \"Extended Edition, Very Large\"</td>\n",
       "<td></td>\n",
       "<td>5000.00\n",
       "</td></tr>\n",
       "<tr>\n",
       "<td>1996</td>\n",
       "<td>Jeep</td>\n",
       "<td>Grand Cherokee</td>\n",
       "<td>MUST SELL!<br/>air, moon roof, loaded</td>\n",
       "<td>4799.00\n",
       "</td></tr></tbody></table>\n",
       "<p>The above table of data may be represented in CSV format as follows:\n",
       "</p>\n",
       "<pre>Year,Make,Model,Description,Price\n",
       "1997,Ford,E350,\"ac, abs, moon\",3000.00\n",
       "1999,Chevy,\"Venture \"\"Extended Edition\"\"\",\"\",4900.00\n",
       "1999,Chevy,\"Venture \"\"Extended Edition, Very Large\"\"\",\"\",5000.00\n",
       "1996,Jeep,Grand Cherokee,\"MUST SELL!\n",
       "air, moon roof, loaded\",4799.00\n",
       "</pre>\n",
       "<p>Example of a USA/UK CSV file (where the decimal separator is a period/full stop and the value separator is a comma):\n",
       "</p>\n",
       "<pre>Year,Make,Model,Length\n",
       "1997,Ford,E350,2.35\n",
       "2000,Mercury,Cougar,2.38\n",
       "</pre>\n",
       "<p>Example of an analogous European CSV/<a href=\"/wiki/Delimiter-separated_values\" title=\"Delimiter-separated values\">DSV</a> file (where the decimal separator is a comma and the value separator is a semicolon):\n",
       "</p>\n",
       "<pre>Year;Make;Model;Length\n",
       "1997;Ford;E350;2,35\n",
       "2000;Mercury;Cougar;2,38\n",
       "</pre>\n",
       "<p>The latter format is not RFC 4180 compliant.<sup class=\"reference\" id=\"cite_ref-21\"><a href=\"#cite_note-21\">[21]</a></sup> Compliance could be achieved by the use of a comma instead of a semicolon as a separator and either the international notation for the representation of the <a class=\"mw-redirect\" href=\"/wiki/Decimal_mark#Influence_of_calculators_and_computers\" title=\"Decimal mark\">decimal mark</a> or the practice of quoting all numbers that have a decimal mark.\n",
       "</p>\n",
       "<h2><span class=\"mw-headline\" id=\"Application_support\">Application support</span><span class=\"mw-editsection\"><span class=\"mw-editsection-bracket\">[</span><a href=\"/w/index.php?title=Comma-separated_values&amp;action=edit&amp;section=11\" title=\"Edit section: Application support\">edit</a><span class=\"mw-editsection-bracket\">]</span></span></h2>\n",
       "<p>Some applications use CSV as a <a href=\"/wiki/Data_exchange\" title=\"Data exchange\">data interchange format</a> to enhance its <a href=\"/wiki/Interoperability\" title=\"Interoperability\">interoperability</a>, exporting and importing CSV. Others use CSV as an <i>internal format</i>.\n",
       "</p><p>As a data interchange format: the CSV file format is supported by almost all spreadsheets and database management systems,\n",
       "</p>\n",
       "<ul><li><a href=\"/wiki/Spreadsheet\" title=\"Spreadsheet\">Spreadsheets</a> including Apple <a href=\"/wiki/Numbers_(spreadsheet)\" title=\"Numbers (spreadsheet)\">Numbers</a>, <a href=\"/wiki/LibreOffice_Calc\" title=\"LibreOffice Calc\">LibreOffice Calc</a>, and <a href=\"/wiki/Apache_OpenOffice\" title=\"Apache OpenOffice\">Apache OpenOffice</a> Calc. <a href=\"/wiki/Microsoft_Excel\" title=\"Microsoft Excel\">Microsoft Excel</a> also supports a dialect of CSV with restrictions in comparison to other spreadsheet software (e.g., as of 2019<sup class=\"plainlinks noexcerpt noprint asof-tag update\" style=\"display:none;\"><a class=\"external text\" href=\"https://en.wikipedia.org/w/index.php?title=Comma-separated_values&amp;action=edit\">[update]</a></sup> Excel still cannot export CSV files in the commonly used UTF-8 character encoding, and separator is not enforced to be the comma). <a href=\"/wiki/LibreOffice_Calc\" title=\"LibreOffice Calc\">LibreOffice Calc</a> CSV importer is actually a more generic delimited text importer, supporting multiple separators at the same time as well as field trimming.</li>\n",
       "<li><a class=\"mw-redirect\" href=\"/wiki/Relational_databases\" title=\"Relational databases\">Relational databases</a>, when using <a href=\"/wiki/SQL\" title=\"SQL\">standard SQL</a>, can export/import CSV by the <code>COPY</code> command.  For example, on <a href=\"/wiki/PostgreSQL\" title=\"PostgreSQL\">PostgreSQL</a> is valid <code>COPY TO t 'file.csv' CSV</code>  and <code>COPY FROM t 'file.csv' CSV</code>.<sup class=\"reference\" id=\"cite_ref-22\"><a href=\"#cite_note-22\">[22]</a></sup></li>\n",
       "<li>Many utility programs on <a href=\"/wiki/Unix\" title=\"Unix\">Unix</a>-style systems (such as <a href=\"/wiki/Cut_(Unix)\" title=\"Cut (Unix)\">cut</a>, <a href=\"/wiki/Paste_(Unix)\" title=\"Paste (Unix)\">paste</a>, <a href=\"/wiki/Join_(Unix)\" title=\"Join (Unix)\">join</a>, <a href=\"/wiki/Sort_(Unix)\" title=\"Sort (Unix)\">sort</a>, <a href=\"/wiki/Uniq\" title=\"Uniq\">uniq</a>, <a href=\"/wiki/AWK\" title=\"AWK\">awk</a>) can split files on a comma delimiter, and can therefore process simple CSV files. However, this method does not correctly handle commas or new lines within quoted strings.</li>\n",
       "<li>Some code and text editors such as <a href=\"/wiki/Visual_Studio_Code\" title=\"Visual Studio Code\">Visual Studio Code</a>, <a class=\"mw-redirect\" href=\"/wiki/IntelliJ\" title=\"IntelliJ\">IntelliJ</a>, <a href=\"/wiki/Notepad%2B%2B\" title=\"Notepad++\">Notepad++</a>, <a href=\"/wiki/CudaText\" title=\"CudaText\">CudaText</a> and others support syntax highlighting for CSV files, making them easier to read and edit</li></ul>\n",
       "<p>As (main or optional) internal representation. Can be <a href=\"/wiki/Native_and_foreign_format\" title=\"Native and foreign format\">native or foreign</a>, but differ from interchange format (\"export/import only\")  because it is not necessary to create a copy in another format:\n",
       "</p>\n",
       "<ul><li>Some <a href=\"/wiki/Spreadsheet\" title=\"Spreadsheet\">Spreadsheets</a>  including <a href=\"/wiki/LibreOffice_Calc\" title=\"LibreOffice Calc\">LibreOffice Calc</a> offers this option, without enforcing user to adopt another format.</li>\n",
       "<li>Some relational databases, when using standard SQL, offer <i>foreign-data wrapper</i> (FDW). For example, PostgreSQL offers the \"CREATE FOREIGN TABLE\"<sup class=\"reference\" id=\"cite_ref-23\"><a href=\"#cite_note-23\">[23]</a></sup> and \"CREATE EXTENSION file_fdw<sup class=\"reference\" id=\"cite_ref-24\"><a href=\"#cite_note-24\">[24]</a></sup> to configure any variant of CSV.</li>\n",
       "<li>Databases like <a href=\"/wiki/Apache_Hive\" title=\"Apache Hive\">Apache Hive</a> offer the option to express CSV or <a href=\"/wiki/Gzip\" title=\"Gzip\">.csv.gz</a> as an internal table format.</li>\n",
       "<li>The <a href=\"/wiki/Emacs\" title=\"Emacs\">emacs</a> editor can operate on CSV files using csv-nav mode.<sup class=\"reference\" id=\"cite_ref-25\"><a href=\"#cite_note-25\">[25]</a></sup></li></ul>\n",
       "<p>CSV format is supported by libraries available for many <a href=\"/wiki/Programming_language\" title=\"Programming language\">programming languages</a>. Most provide some way to specify the field delimiter, <a href=\"/wiki/Decimal_separator\" title=\"Decimal separator\">decimal separator</a>, character encoding, quoting conventions, date format, etc.\n",
       "</p>\n",
       "<h3><span class=\"mw-headline\" id=\"Software_and_row_limits\">Software and row limits</span><span class=\"mw-editsection\"><span class=\"mw-editsection-bracket\">[</span><a href=\"/w/index.php?title=Comma-separated_values&amp;action=edit&amp;section=12\" title=\"Edit section: Software and row limits\">edit</a><span class=\"mw-editsection-bracket\">]</span></span></h3>\n",
       "<p>Each software that works with CSV has its limits on the maximum number of rows CSV files can have.\n",
       "Below is a list of common software and its limitations:<sup class=\"reference\" id=\"cite_ref-26\"><a href=\"#cite_note-26\">[26]</a></sup>\n",
       "</p>\n",
       "<ul><li>Microsoft Excel: 1,048,576 row limit;</li>\n",
       "<li>Apple Numbers: 1,000,000 row limit;</li>\n",
       "<li>Google Sheets: 5,000,000 cell limit (the product of columns and rows);</li>\n",
       "<li>OpenOffice and LibreOffice: 1,048,576 row limit;</li>\n",
       "<li>Text Editors (such as <a href=\"/wiki/WordPad\" title=\"WordPad\">WordPad</a>, <a href=\"/wiki/TextEdit\" title=\"TextEdit\">TextEdit</a>, <a href=\"/wiki/Vim_(text_editor)\" title=\"Vim (text editor)\">Vim</a>, etc.): no row or cell limit;</li>\n",
       "<li>Databases (COPY command and FDW): no row or cell limit.</li></ul>\n",
       "<h2><span class=\"mw-headline\" id=\"See_also\">See also</span><span class=\"mw-editsection\"><span class=\"mw-editsection-bracket\">[</span><a href=\"/w/index.php?title=Comma-separated_values&amp;action=edit&amp;section=13\" title=\"Edit section: See also\">edit</a><span class=\"mw-editsection-bracket\">]</span></span></h2>\n",
       "<ul><li><a href=\"/wiki/Tab-separated_values\" title=\"Tab-separated values\">Tab-separated values</a></li>\n",
       "<li><a href=\"/wiki/Comparison_of_data-serialization_formats\" title=\"Comparison of data-serialization formats\">Comparison of data-serialization formats</a></li>\n",
       "<li><a href=\"/wiki/Delimiter-separated_values\" title=\"Delimiter-separated values\">Delimiter-separated values</a></li>\n",
       "<li><a class=\"mw-redirect\" href=\"/wiki/Delimiter_collision\" title=\"Delimiter collision\">Delimiter collision</a></li>\n",
       "<li><a href=\"/wiki/Flat-file_database\" title=\"Flat-file database\">Flat-file database</a></li>\n",
       "<li><a href=\"/wiki/Simple_Data_Format\" title=\"Simple Data Format\">Simple Data Format</a></li>\n",
       "<li><a href=\"/wiki/Substitute_character\" title=\"Substitute character\">Substitute character</a>, <a href=\"/wiki/Null_character\" title=\"Null character\">Null character</a>, <a href=\"/wiki/General_Punctuation#Block\" title=\"General Punctuation\">invisible comma U+2063</a></li></ul>\n",
       "<h2><span class=\"mw-headline\" id=\"References\">References</span><span class=\"mw-editsection\"><span class=\"mw-editsection-bracket\">[</span><a href=\"/w/index.php?title=Comma-separated_values&amp;action=edit&amp;section=14\" title=\"Edit section: References\">edit</a><span class=\"mw-editsection-bracket\">]</span></span></h2>\n",
       "<style data-mw-deduplicate=\"TemplateStyles:r1011085734\">.mw-parser-output .reflist{font-size:90%;margin-bottom:0.5em;list-style-type:decimal}.mw-parser-output .reflist .references{font-size:100%;margin-bottom:0;list-style-type:inherit}.mw-parser-output .reflist-columns-2{column-width:30em}.mw-parser-output .reflist-columns-3{column-width:25em}.mw-parser-output .reflist-columns{margin-top:0.3em}.mw-parser-output .reflist-columns ol{margin-top:0}.mw-parser-output .reflist-columns li{page-break-inside:avoid;break-inside:avoid-column}.mw-parser-output .reflist-upper-alpha{list-style-type:upper-alpha}.mw-parser-output .reflist-upper-roman{list-style-type:upper-roman}.mw-parser-output .reflist-lower-alpha{list-style-type:lower-alpha}.mw-parser-output .reflist-lower-greek{list-style-type:lower-greek}.mw-parser-output .reflist-lower-roman{list-style-type:lower-roman}</style><div class=\"reflist reflist-columns references-column-width\" style=\"column-width: 30em;\">\n",
       "<ol class=\"references\">\n",
       "<li id=\"cite_note-rfc4180-1\"><span class=\"mw-cite-backlink\">^ <a href=\"#cite_ref-rfc4180_1-0\"><sup><i><b>a</b></i></sup></a> <a href=\"#cite_ref-rfc4180_1-1\"><sup><i><b>b</b></i></sup></a> <a href=\"#cite_ref-rfc4180_1-2\"><sup><i><b>c</b></i></sup></a> <a href=\"#cite_ref-rfc4180_1-3\"><sup><i><b>d</b></i></sup></a> <a href=\"#cite_ref-rfc4180_1-4\"><sup><i><b>e</b></i></sup></a></span> <span class=\"reference-text\"><link href=\"mw-data:TemplateStyles:r1133582631\" rel=\"mw-deduplicated-inline-style\"/><cite class=\"citation cs1\" id=\"CITEREFShafranovich2005\">Shafranovich, Y. (October 2005). <a class=\"external text\" href=\"https://datatracker.ietf.org/doc/html/rfc4180#page-1\" rel=\"nofollow\"><i>Common Format and MIME Type for CSV Files</i></a>. <a href=\"/wiki/Internet_Engineering_Task_Force\" title=\"Internet Engineering Task Force\">IETF</a>. p. 1. <a class=\"mw-redirect\" href=\"/wiki/Doi_(identifier)\" title=\"Doi (identifier)\">doi</a>:<span class=\"cs1-lock-free\" title=\"Freely accessible\"><a class=\"external text\" href=\"https://doi.org/10.17487%2FRFC4180\" rel=\"nofollow\">10.17487/RFC4180</a></span>. <a class=\"mw-redirect\" href=\"/wiki/RFC_(identifier)\" title=\"RFC (identifier)\">RFC</a> <a class=\"external text\" href=\"https://datatracker.ietf.org/doc/html/rfc4180\" rel=\"nofollow\">4180</a>.</cite><span class=\"Z3988\" title=\"ctx_ver=Z39.88-2004&amp;rft_val_fmt=info%3Aofi%2Ffmt%3Akev%3Amtx%3Abook&amp;rft.genre=book&amp;rft.btitle=Common+Format+and+MIME+Type+for+CSV+Files&amp;rft.pages=p.-1&amp;rft.pub=IETF&amp;rft.date=2005-10&amp;rft_id=info%3Adoi%2F10.17487%2FRFC4180&amp;rft.aulast=Shafranovich&amp;rft.aufirst=Y.&amp;rft_id=https%3A%2F%2Fdatatracker.ietf.org%2Fdoc%2Fhtml%2Frfc4180%26%23035%3Bpage-1&amp;rfr_id=info%3Asid%2Fen.wikipedia.org%3AComma-separated+values\"></span></span>\n",
       "</li>\n",
       "<li id=\"cite_note-2\"><span class=\"mw-cite-backlink\"><b><a href=\"#cite_ref-2\">^</a></b></span> <span class=\"reference-text\"><link href=\"mw-data:TemplateStyles:r1133582631\" rel=\"mw-deduplicated-inline-style\"/><cite class=\"citation book cs1\"><a class=\"external text\" href=\"https://www.columbia.edu/sec/acis/db2/db2d0/db2d053.htm\" rel=\"nofollow\"><i>IBM DB2 Administration Guide</i></a>. IBM.</cite><span class=\"Z3988\" title=\"ctx_ver=Z39.88-2004&amp;rft_val_fmt=info%3Aofi%2Ffmt%3Akev%3Amtx%3Abook&amp;rft.genre=book&amp;rft.btitle=IBM+DB2+Administration+Guide&amp;rft.pub=IBM&amp;rft_id=https%3A%2F%2Fwww.columbia.edu%2Fsec%2Facis%2Fdb2%2Fdb2d0%2Fdb2d053.htm&amp;rfr_id=info%3Asid%2Fen.wikipedia.org%3AComma-separated+values\"></span></span>\n",
       "</li>\n",
       "<li id=\"cite_note-3\"><span class=\"mw-cite-backlink\"><b><a href=\"#cite_ref-3\">^</a></b></span> <span class=\"reference-text\"><link href=\"mw-data:TemplateStyles:r1133582631\" rel=\"mw-deduplicated-inline-style\"/><cite class=\"citation web cs1\"><a class=\"external text\" href=\"https://datahub.io/docs/data-packages/csv\" rel=\"nofollow\">\"CSV - Comma Separated Values\"</a><span class=\"reference-accessdate\">. Retrieved <span class=\"nowrap\">2017-12-02</span></span>.</cite><span class=\"Z3988\" title=\"ctx_ver=Z39.88-2004&amp;rft_val_fmt=info%3Aofi%2Ffmt%3Akev%3Amtx%3Abook&amp;rft.genre=unknown&amp;rft.btitle=CSV+-+Comma+Separated+Values&amp;rft_id=https%3A%2F%2Fdatahub.io%2Fdocs%2Fdata-packages%2Fcsv&amp;rfr_id=info%3Asid%2Fen.wikipedia.org%3AComma-separated+values\"></span></span>\n",
       "</li>\n",
       "<li id=\"cite_note-4\"><span class=\"mw-cite-backlink\"><b><a href=\"#cite_ref-4\">^</a></b></span> <span class=\"reference-text\"><link href=\"mw-data:TemplateStyles:r1133582631\" rel=\"mw-deduplicated-inline-style\"/><cite class=\"citation web cs1\"><a class=\"external text\" href=\"http://www.csvreader.com/csv_format.php\" rel=\"nofollow\">\"CSV Files\"</a><span class=\"reference-accessdate\">. Retrieved <span class=\"nowrap\">June 4,</span> 2014</span>.</cite><span class=\"Z3988\" title=\"ctx_ver=Z39.88-2004&amp;rft_val_fmt=info%3Aofi%2Ffmt%3Akev%3Amtx%3Abook&amp;rft.genre=unknown&amp;rft.btitle=CSV+Files&amp;rft_id=http%3A%2F%2Fwww.csvreader.com%2Fcsv_format.php&amp;rfr_id=info%3Asid%2Fen.wikipedia.org%3AComma-separated+values\"></span></span>\n",
       "</li>\n",
       "<li id=\"cite_note-5\"><span class=\"mw-cite-backlink\"><b><a href=\"#cite_ref-5\">^</a></b></span> <span class=\"reference-text\"><link href=\"mw-data:TemplateStyles:r1133582631\" rel=\"mw-deduplicated-inline-style\"/><cite class=\"citation web cs1\"><a class=\"external text\" href=\"http://edoceo.com/utilitas/csv-file-format\" rel=\"nofollow\">\"Comma Separated Values (CSV) Standard File Format\"</a>. Edoceo, Inc<span class=\"reference-accessdate\">. Retrieved <span class=\"nowrap\">June 4,</span> 2014</span>.</cite><span class=\"Z3988\" title=\"ctx_ver=Z39.88-2004&amp;rft_val_fmt=info%3Aofi%2Ffmt%3Akev%3Amtx%3Abook&amp;rft.genre=unknown&amp;rft.btitle=Comma+Separated+Values+%28CSV%29+Standard+File+Format&amp;rft.pub=Edoceo%2C+Inc&amp;rft_id=http%3A%2F%2Fedoceo.com%2Futilitas%2Fcsv-file-format&amp;rfr_id=info%3Asid%2Fen.wikipedia.org%3AComma-separated+values\"></span></span>\n",
       "</li>\n",
       "<li id=\"cite_note-6\"><span class=\"mw-cite-backlink\"><b><a href=\"#cite_ref-6\">^</a></b></span> <span class=\"reference-text\"><link href=\"mw-data:TemplateStyles:r1133582631\" rel=\"mw-deduplicated-inline-style\"/><cite class=\"citation cs2\"><a class=\"external text\" href=\"http://bitsavers.trailing-edge.com/pdf/ibm/370/fortran/GC28-6884-0_IBM_FORTRAN_Program_Products_for_OS_and_CMS_General_Information_Jul72.pdf\" rel=\"nofollow\"><i>IBM FORTRAN Program Products for OS and the CMS Component of VM/370 General Information</i></a> <span class=\"cs1-format\">(PDF)</span> (first ed.), July 1972, p. 17, GC28-6884-0<span class=\"reference-accessdate\">, retrieved <span class=\"nowrap\">February 5,</span> 2016</span>, <q>For users familiar with the predecessor FORTRAN IV G and H processors, these are the major new language capabilities</q></cite><span class=\"Z3988\" title=\"ctx_ver=Z39.88-2004&amp;rft_val_fmt=info%3Aofi%2Ffmt%3Akev%3Amtx%3Abook&amp;rft.genre=book&amp;rft.btitle=IBM+FORTRAN+Program+Products+for+OS+and+the+CMS+Component+of+VM%2F370+General+Information&amp;rft.pages=17&amp;rft.edition=first&amp;rft.date=1972-07&amp;rft_id=http%3A%2F%2Fbitsavers.trailing-edge.com%2Fpdf%2Fibm%2F370%2Ffortran%2FGC28-6884-0_IBM_FORTRAN_Program_Products_for_OS_and_CMS_General_Information_Jul72.pdf&amp;rfr_id=info%3Asid%2Fen.wikipedia.org%3AComma-separated+values\"></span></span>\n",
       "</li>\n",
       "<li id=\"cite_note-7\"><span class=\"mw-cite-backlink\"><b><a href=\"#cite_ref-7\">^</a></b></span> <span class=\"reference-text\"><link href=\"mw-data:TemplateStyles:r1133582631\" rel=\"mw-deduplicated-inline-style\"/><cite class=\"citation cs2\"><a class=\"external text\" href=\"http://docs.oracle.com/cd/E19957-01/805-4939/6j4m0vnc5/index.html\" rel=\"nofollow\">\"List-Directed I/O\"</a>, <i>Fortran 77 Language Reference</i>, Oracle</cite><span class=\"Z3988\" title=\"ctx_ver=Z39.88-2004&amp;rft_val_fmt=info%3Aofi%2Ffmt%3Akev%3Amtx%3Abook&amp;rft.genre=bookitem&amp;rft.atitle=List-Directed+I%2FO&amp;rft.btitle=Fortran+77+Language+Reference&amp;rft.pub=Oracle&amp;rft_id=http%3A%2F%2Fdocs.oracle.com%2Fcd%2FE19957-01%2F805-4939%2F6j4m0vnc5%2Findex.html&amp;rfr_id=info%3Asid%2Fen.wikipedia.org%3AComma-separated+values\"></span></span>\n",
       "</li>\n",
       "<li id=\"cite_note-8\"><span class=\"mw-cite-backlink\"><b><a href=\"#cite_ref-8\">^</a></b></span> <span class=\"reference-text\"><link href=\"mw-data:TemplateStyles:r1133582631\" rel=\"mw-deduplicated-inline-style\"/><cite class=\"citation web cs1\"><a class=\"external text\" href=\"https://archive.org/stream/Infoworld-1983-09-12#page/n39/mode/2up/search/%22comma-separated+value%22\" rel=\"nofollow\">\"SuperCalc², spreadsheet package for IBM, CP/M\"</a><span class=\"reference-accessdate\">. Retrieved <span class=\"nowrap\">December 11,</span> 2017</span>.</cite><span class=\"Z3988\" title=\"ctx_ver=Z39.88-2004&amp;rft_val_fmt=info%3Aofi%2Ffmt%3Akev%3Amtx%3Abook&amp;rft.genre=unknown&amp;rft.btitle=SuperCalc%C2%B2%2C+spreadsheet+package+for+IBM%2C+CP%2FM&amp;rft_id=https%3A%2F%2Farchive.org%2Fstream%2FInfoworld-1983-09-12%23page%2Fn39%2Fmode%2F2up%2Fsearch%2F%2522comma-separated%2Bvalue%2522&amp;rfr_id=info%3Asid%2Fen.wikipedia.org%3AComma-separated+values\"></span></span>\n",
       "</li>\n",
       "<li id=\"cite_note-9\"><span class=\"mw-cite-backlink\"><b><a href=\"#cite_ref-9\">^</a></b></span> <span class=\"reference-text\"><link href=\"mw-data:TemplateStyles:r1133582631\" rel=\"mw-deduplicated-inline-style\"/><cite class=\"citation web cs1\"><a class=\"external text\" href=\"https://archive.org/stream/bitsavers_osborneexeutiveRef1983_16634758/3F00186-00_ExecutiveRef_1983#page/n143/mode/2up/search/%22comma-separated+value%22\" rel=\"nofollow\">\"Comma-Separated-Value Format File Structure\"</a>. 1983<span class=\"reference-accessdate\">. Retrieved <span class=\"nowrap\">December 11,</span> 2017</span>.</cite><span class=\"Z3988\" title=\"ctx_ver=Z39.88-2004&amp;rft_val_fmt=info%3Aofi%2Ffmt%3Akev%3Amtx%3Abook&amp;rft.genre=unknown&amp;rft.btitle=Comma-Separated-Value+Format+File+Structure&amp;rft.date=1983&amp;rft_id=https%3A%2F%2Farchive.org%2Fstream%2Fbitsavers_osborneexeutiveRef1983_16634758%2F3F00186-00_ExecutiveRef_1983%23page%2Fn143%2Fmode%2F2up%2Fsearch%2F%2522comma-separated%2Bvalue%2522&amp;rfr_id=info%3Asid%2Fen.wikipedia.org%3AComma-separated+values\"></span></span>\n",
       "</li>\n",
       "<li id=\"cite_note-10\"><span class=\"mw-cite-backlink\"><b><a href=\"#cite_ref-10\">^</a></b></span> <span class=\"reference-text\"><link href=\"mw-data:TemplateStyles:r1133582631\" rel=\"mw-deduplicated-inline-style\"/><cite class=\"citation web cs1\"><a class=\"external text\" href=\"http://www.digitalpreservation.gov/formats/fdd/fdd000323.shtml\" rel=\"nofollow\">\"CSV, Comma Separated Values (RFC 4180)\"</a><span class=\"reference-accessdate\">. Retrieved <span class=\"nowrap\">June 4,</span> 2014</span>.</cite><span class=\"Z3988\" title=\"ctx_ver=Z39.88-2004&amp;rft_val_fmt=info%3Aofi%2Ffmt%3Akev%3Amtx%3Abook&amp;rft.genre=unknown&amp;rft.btitle=CSV%2C+Comma+Separated+Values+%28RFC+4180%29&amp;rft_id=http%3A%2F%2Fwww.digitalpreservation.gov%2Fformats%2Ffdd%2Ffdd000323.shtml&amp;rfr_id=info%3Asid%2Fen.wikipedia.org%3AComma-separated+values\"></span></span>\n",
       "</li>\n",
       "<li id=\"cite_note-11\"><span class=\"mw-cite-backlink\"><b><a href=\"#cite_ref-11\">^</a></b></span> <span class=\"reference-text\"><link href=\"mw-data:TemplateStyles:r1133582631\" rel=\"mw-deduplicated-inline-style\"/><cite class=\"citation cs1\"><a class=\"external text\" href=\"https://datatracker.ietf.org/doc/html/rfc4180\" rel=\"nofollow\"><i>RFC 4180: Common Format and MIME Type for Comma-Separated Values (CSV) Files</i></a>. <a class=\"mw-redirect\" href=\"/wiki/Doi_(identifier)\" title=\"Doi (identifier)\">doi</a>:<span class=\"cs1-lock-free\" title=\"Freely accessible\"><a class=\"external text\" href=\"https://doi.org/10.17487%2FRFC4180\" rel=\"nofollow\">10.17487/RFC4180</a></span>. <a class=\"mw-redirect\" href=\"/wiki/RFC_(identifier)\" title=\"RFC (identifier)\">RFC</a> <a class=\"external text\" href=\"https://datatracker.ietf.org/doc/html/rfc4180\" rel=\"nofollow\">4180</a><span class=\"reference-accessdate\">. Retrieved <span class=\"nowrap\">December 22,</span> 2020</span>.</cite><span class=\"Z3988\" title=\"ctx_ver=Z39.88-2004&amp;rft_val_fmt=info%3Aofi%2Ffmt%3Akev%3Amtx%3Abook&amp;rft.genre=book&amp;rft.btitle=RFC+4180%3A+Common+Format+and+MIME+Type+for+Comma-Separated+Values+%28CSV%29+Files&amp;rft_id=info%3Adoi%2F10.17487%2FRFC4180&amp;rft_id=https%3A%2F%2Fdatatracker.ietf.org%2Fdoc%2Fhtml%2Frfc4180&amp;rfr_id=info%3Asid%2Fen.wikipedia.org%3AComma-separated+values\"></span></span>\n",
       "</li>\n",
       "<li id=\"cite_note-12\"><span class=\"mw-cite-backlink\"><b><a href=\"#cite_ref-12\">^</a></b></span> <span class=\"reference-text\">See <a class=\"external text\" href=\"http://www.w3.org/TR/sparql11-results-csv-tsv/\" rel=\"nofollow\">sparql11-results-csv-tsv</a>, the first W3C recommendation scoped in CSV and filling some of RFC 4180's deficiencies.</span>\n",
       "</li>\n",
       "<li id=\"cite_note-13\"><span class=\"mw-cite-backlink\"><b><a href=\"#cite_ref-13\">^</a></b></span> <span class=\"reference-text\"><link href=\"mw-data:TemplateStyles:r1133582631\" rel=\"mw-deduplicated-inline-style\"/><cite class=\"citation cs1\"><a class=\"external text\" href=\"https://datatracker.ietf.org/doc/html/rfc7111\" rel=\"nofollow\"><i>RFC 7111: URI Fragment Identifiers for the text/csv Media Type</i></a>. <a class=\"mw-redirect\" href=\"/wiki/Doi_(identifier)\" title=\"Doi (identifier)\">doi</a>:<span class=\"cs1-lock-free\" title=\"Freely accessible\"><a class=\"external text\" href=\"https://doi.org/10.17487%2FRFC7111\" rel=\"nofollow\">10.17487/RFC7111</a></span>. <a class=\"mw-redirect\" href=\"/wiki/RFC_(identifier)\" title=\"RFC (identifier)\">RFC</a> <a class=\"external text\" href=\"https://datatracker.ietf.org/doc/html/rfc7111\" rel=\"nofollow\">7111</a><span class=\"reference-accessdate\">. Retrieved <span class=\"nowrap\">December 22,</span> 2020</span>.</cite><span class=\"Z3988\" title=\"ctx_ver=Z39.88-2004&amp;rft_val_fmt=info%3Aofi%2Ffmt%3Akev%3Amtx%3Abook&amp;rft.genre=book&amp;rft.btitle=RFC+7111%3A+URI+Fragment+Identifiers+for+the+text%2Fcsv+Media+Type&amp;rft_id=info%3Adoi%2F10.17487%2FRFC7111&amp;rft_id=https%3A%2F%2Fdatatracker.ietf.org%2Fdoc%2Fhtml%2Frfc7111&amp;rfr_id=info%3Asid%2Fen.wikipedia.org%3AComma-separated+values\"></span></span>\n",
       "</li>\n",
       "<li id=\"cite_note-14\"><span class=\"mw-cite-backlink\"><b><a href=\"#cite_ref-14\">^</a></b></span> <span class=\"reference-text\"><link href=\"mw-data:TemplateStyles:r1133582631\" rel=\"mw-deduplicated-inline-style\"/><cite class=\"citation web cs1\"><a class=\"external text\" href=\"https://www.w3.org/TR/tabular-data-model/\" rel=\"nofollow\">\"Model for Tabular Data and Metadata on the Web – W3C Recommendation 17 December 2015\"</a><span class=\"reference-accessdate\">. Retrieved <span class=\"nowrap\">March 23,</span> 2016</span>.</cite><span class=\"Z3988\" title=\"ctx_ver=Z39.88-2004&amp;rft_val_fmt=info%3Aofi%2Ffmt%3Akev%3Amtx%3Abook&amp;rft.genre=unknown&amp;rft.btitle=Model+for+Tabular+Data+and+Metadata+on+the+Web+%E2%80%93+W3C+Recommendation+17+December+2015&amp;rft_id=https%3A%2F%2Fwww.w3.org%2FTR%2Ftabular-data-model%2F&amp;rfr_id=info%3Asid%2Fen.wikipedia.org%3AComma-separated+values\"></span></span>\n",
       "</li>\n",
       "<li id=\"cite_note-15\"><span class=\"mw-cite-backlink\"><b><a href=\"#cite_ref-15\">^</a></b></span> <span class=\"reference-text\">*<link href=\"mw-data:TemplateStyles:r1133582631\" rel=\"mw-deduplicated-inline-style\"/><cite class=\"citation cs2\" id=\"CITEREFCreativyst2010\">Creativyst (2010), <a class=\"external text\" href=\"http://www.creativyst.com/Doc/Articles/CSV/CSV01.htm\" rel=\"nofollow\"><i>How To: The Comma Separated Value (CSV) File Format</i></a>, creativyst.com<span class=\"reference-accessdate\">, retrieved <span class=\"nowrap\">May 24,</span> 2010</span></cite><span class=\"Z3988\" title=\"ctx_ver=Z39.88-2004&amp;rft_val_fmt=info%3Aofi%2Ffmt%3Akev%3Amtx%3Abook&amp;rft.genre=book&amp;rft.btitle=How+To%3A+The+Comma+Separated+Value+%28CSV%29+File+Format&amp;rft.pub=creativyst.com&amp;rft.date=2010&amp;rft.au=Creativyst&amp;rft_id=http%3A%2F%2Fwww.creativyst.com%2FDoc%2FArticles%2FCSV%2FCSV01.htm&amp;rfr_id=info%3Asid%2Fen.wikipedia.org%3AComma-separated+values\"></span></span>\n",
       "</li>\n",
       "<li id=\"cite_note-16\"><span class=\"mw-cite-backlink\"><b><a href=\"#cite_ref-16\">^</a></b></span> <span class=\"reference-text\"><link href=\"mw-data:TemplateStyles:r1133582631\" rel=\"mw-deduplicated-inline-style\"/><cite class=\"citation web cs1\"><a class=\"external text\" href=\"https://frictionlessdata.io/specs/tabular-data-package/\" rel=\"nofollow\">\"Tabular Data Package\"</a>. <i>Frictionless Data Specs</i>.</cite><span class=\"Z3988\" title=\"ctx_ver=Z39.88-2004&amp;rft_val_fmt=info%3Aofi%2Ffmt%3Akev%3Amtx%3Ajournal&amp;rft.genre=unknown&amp;rft.jtitle=Frictionless+Data+Specs&amp;rft.atitle=Tabular+Data+Package&amp;rft_id=https%3A%2F%2Ffrictionlessdata.io%2Fspecs%2Ftabular-data-package%2F&amp;rfr_id=info%3Asid%2Fen.wikipedia.org%3AComma-separated+values\"></span></span>\n",
       "</li>\n",
       "<li id=\"cite_note-17\"><span class=\"mw-cite-backlink\"><b><a href=\"#cite_ref-17\">^</a></b></span> <span class=\"reference-text\"><link href=\"mw-data:TemplateStyles:r1133582631\" rel=\"mw-deduplicated-inline-style\"/><cite class=\"citation web cs1\"><a class=\"external text\" href=\"https://frictionlessdata.io/specs/csv-dialect/\" rel=\"nofollow\">\"CSV Dialect\"</a>. <i>Frictionless Data Specs</i>.</cite><span class=\"Z3988\" title=\"ctx_ver=Z39.88-2004&amp;rft_val_fmt=info%3Aofi%2Ffmt%3Akev%3Amtx%3Ajournal&amp;rft.genre=unknown&amp;rft.jtitle=Frictionless+Data+Specs&amp;rft.atitle=CSV+Dialect&amp;rft_id=https%3A%2F%2Ffrictionlessdata.io%2Fspecs%2Fcsv-dialect%2F&amp;rfr_id=info%3Asid%2Fen.wikipedia.org%3AComma-separated+values\"></span></span>\n",
       "</li>\n",
       "<li id=\"cite_note-18\"><span class=\"mw-cite-backlink\"><b><a href=\"#cite_ref-18\">^</a></b></span> <span class=\"reference-text\"><link href=\"mw-data:TemplateStyles:r1133582631\" rel=\"mw-deduplicated-inline-style\"/><cite class=\"citation web cs1\"><a class=\"external text\" href=\"http://www.w3.org/2013/csvw/wiki/Main_Page\" rel=\"nofollow\">\"CSV on the Web Working Group\"</a>. <a href=\"/wiki/World_Wide_Web_Consortium\" title=\"World Wide Web Consortium\">W3C</a> CSV WG. 2013<span class=\"reference-accessdate\">. Retrieved <span class=\"nowrap\">2015-04-22</span></span>.</cite><span class=\"Z3988\" title=\"ctx_ver=Z39.88-2004&amp;rft_val_fmt=info%3Aofi%2Ffmt%3Akev%3Amtx%3Abook&amp;rft.genre=unknown&amp;rft.btitle=CSV+on+the+Web+Working+Group&amp;rft.pub=W3C+CSV+WG&amp;rft.date=2013&amp;rft_id=http%3A%2F%2Fwww.w3.org%2F2013%2Fcsvw%2Fwiki%2FMain_Page&amp;rfr_id=info%3Asid%2Fen.wikipedia.org%3AComma-separated+values\"></span></span>\n",
       "</li>\n",
       "<li id=\"cite_note-19\"><span class=\"mw-cite-backlink\"><b><a href=\"#cite_ref-19\">^</a></b></span> <span class=\"reference-text\"><a class=\"external text\" href=\"https://github.com/w3c/csvw\" rel=\"nofollow\">CSV on the Web Repository</a> (on GitHub)</span>\n",
       "</li>\n",
       "<li id=\"cite_note-20\"><span class=\"mw-cite-backlink\"><b><a href=\"#cite_ref-20\">^</a></b></span> <span class=\"reference-text\"><a class=\"external text\" href=\"http://www.w3.org/TR/tabular-data-model/\" rel=\"nofollow\">Model for Tabular Data and Metadata on the Web</a> (W3C Recommendation)</span>\n",
       "</li>\n",
       "<li id=\"cite_note-21\"><span class=\"mw-cite-backlink\"><b><a href=\"#cite_ref-21\">^</a></b></span> <span class=\"reference-text\"><a href=\"#CITEREFShafranovich2005\">Shafranovich (2005)</a> states, \"Within the header and each record, there may be one or more fields, separated by commas.\"</span>\n",
       "</li>\n",
       "<li id=\"cite_note-22\"><span class=\"mw-cite-backlink\"><b><a href=\"#cite_ref-22\">^</a></b></span> <span class=\"reference-text\"><link href=\"mw-data:TemplateStyles:r1133582631\" rel=\"mw-deduplicated-inline-style\"/><cite class=\"citation web cs1\"><a class=\"external text\" href=\"https://www.postgresql.org/docs/current/sql-copy.html\" rel=\"nofollow\">\"Documentation: 14: COPY\"</a>. PostgreSQL. 2022-02-10<span class=\"reference-accessdate\">. Retrieved <span class=\"nowrap\">2022-03-04</span></span>.</cite><span class=\"Z3988\" title=\"ctx_ver=Z39.88-2004&amp;rft_val_fmt=info%3Aofi%2Ffmt%3Akev%3Amtx%3Abook&amp;rft.genre=unknown&amp;rft.btitle=Documentation%3A+14%3A+COPY&amp;rft.pub=PostgreSQL&amp;rft.date=2022-02-10&amp;rft_id=https%3A%2F%2Fwww.postgresql.org%2Fdocs%2Fcurrent%2Fsql-copy.html&amp;rfr_id=info%3Asid%2Fen.wikipedia.org%3AComma-separated+values\"></span></span>\n",
       "</li>\n",
       "<li id=\"cite_note-23\"><span class=\"mw-cite-backlink\"><b><a href=\"#cite_ref-23\">^</a></b></span> <span class=\"reference-text\"><link href=\"mw-data:TemplateStyles:r1133582631\" rel=\"mw-deduplicated-inline-style\"/><cite class=\"citation web cs1\"><a class=\"external text\" href=\"https://www.postgresql.org/docs/current/postgres-fdw.html\" rel=\"nofollow\">\"Documentation: 14: F.35. postgres_fdw\"</a>. PostgreSQL. 2022-02-10<span class=\"reference-accessdate\">. Retrieved <span class=\"nowrap\">2022-03-04</span></span>.</cite><span class=\"Z3988\" title=\"ctx_ver=Z39.88-2004&amp;rft_val_fmt=info%3Aofi%2Ffmt%3Akev%3Amtx%3Abook&amp;rft.genre=unknown&amp;rft.btitle=Documentation%3A+14%3A+F.35.+postgres_fdw&amp;rft.pub=PostgreSQL&amp;rft.date=2022-02-10&amp;rft_id=https%3A%2F%2Fwww.postgresql.org%2Fdocs%2Fcurrent%2Fpostgres-fdw.html&amp;rfr_id=info%3Asid%2Fen.wikipedia.org%3AComma-separated+values\"></span></span>\n",
       "</li>\n",
       "<li id=\"cite_note-24\"><span class=\"mw-cite-backlink\"><b><a href=\"#cite_ref-24\">^</a></b></span> <span class=\"reference-text\"><link href=\"mw-data:TemplateStyles:r1133582631\" rel=\"mw-deduplicated-inline-style\"/><cite class=\"citation web cs1\"><a class=\"external text\" href=\"https://www.postgresql.org/docs/current/file-fdw.html\" rel=\"nofollow\">\"Documentation: 14: F.14. file_fdw\"</a>. PostgreSQL. 2022-02-10<span class=\"reference-accessdate\">. Retrieved <span class=\"nowrap\">2022-03-04</span></span>.</cite><span class=\"Z3988\" title=\"ctx_ver=Z39.88-2004&amp;rft_val_fmt=info%3Aofi%2Ffmt%3Akev%3Amtx%3Abook&amp;rft.genre=unknown&amp;rft.btitle=Documentation%3A+14%3A+F.14.+file_fdw&amp;rft.pub=PostgreSQL&amp;rft.date=2022-02-10&amp;rft_id=https%3A%2F%2Fwww.postgresql.org%2Fdocs%2Fcurrent%2Ffile-fdw.html&amp;rfr_id=info%3Asid%2Fen.wikipedia.org%3AComma-separated+values\"></span></span>\n",
       "</li>\n",
       "<li id=\"cite_note-25\"><span class=\"mw-cite-backlink\"><b><a href=\"#cite_ref-25\">^</a></b></span> <span class=\"reference-text\"><link href=\"mw-data:TemplateStyles:r1133582631\" rel=\"mw-deduplicated-inline-style\"/><cite class=\"citation web cs1\"><a class=\"external text\" href=\"https://www.emacswiki.org/emacs/CsvNav\" rel=\"nofollow\">\"EmacsWiki: Csv Nav\"</a>. <i>www.emacswiki.org</i>.</cite><span class=\"Z3988\" title=\"ctx_ver=Z39.88-2004&amp;rft_val_fmt=info%3Aofi%2Ffmt%3Akev%3Amtx%3Ajournal&amp;rft.genre=unknown&amp;rft.jtitle=www.emacswiki.org&amp;rft.atitle=EmacsWiki%3A+Csv+Nav&amp;rft_id=https%3A%2F%2Fwww.emacswiki.org%2Femacs%2FCsvNav&amp;rfr_id=info%3Asid%2Fen.wikipedia.org%3AComma-separated+values\"></span></span>\n",
       "</li>\n",
       "<li id=\"cite_note-26\"><span class=\"mw-cite-backlink\"><b><a href=\"#cite_ref-26\">^</a></b></span> <span class=\"reference-text\"><link href=\"mw-data:TemplateStyles:r1133582631\" rel=\"mw-deduplicated-inline-style\"/><cite class=\"citation web cs1\"><a class=\"external text\" href=\"https://www.import2.com/csv/understanding-csv-and-row-limits\" rel=\"nofollow\">\"Understanding CSV and row limits\"</a><span class=\"reference-accessdate\">. Retrieved <span class=\"nowrap\">Feb 28,</span> 2021</span>.</cite><span class=\"Z3988\" title=\"ctx_ver=Z39.88-2004&amp;rft_val_fmt=info%3Aofi%2Ffmt%3Akev%3Amtx%3Abook&amp;rft.genre=unknown&amp;rft.btitle=Understanding+CSV+and+row+limits&amp;rft_id=https%3A%2F%2Fwww.import2.com%2Fcsv%2Funderstanding-csv-and-row-limits&amp;rfr_id=info%3Asid%2Fen.wikipedia.org%3AComma-separated+values\"></span></span>\n",
       "</li>\n",
       "</ol></div>\n",
       "<h2><span class=\"mw-headline\" id=\"Further_reading\">Further reading</span><span class=\"mw-editsection\"><span class=\"mw-editsection-bracket\">[</span><a href=\"/w/index.php?title=Comma-separated_values&amp;action=edit&amp;section=15\" title=\"Edit section: Further reading\">edit</a><span class=\"mw-editsection-bracket\">]</span></span></h2>\n",
       "<ul><li><link href=\"mw-data:TemplateStyles:r1133582631\" rel=\"mw-deduplicated-inline-style\"/><cite class=\"citation web cs1\"><a class=\"external text\" href=\"https://www.columbia.edu/sec/acis/db2/db2d0/db2d053.htm\" rel=\"nofollow\">\"IBM DB2 Administration Guide - LOAD, IMPORT, and EXPORT File Formats\"</a>. <a href=\"/wiki/IBM\" title=\"IBM\">IBM</a>. <a class=\"external text\" href=\"https://web.archive.org/web/20161213014111/https://www.columbia.edu/sec/acis/db2/db2d0/db2d053.htm\" rel=\"nofollow\">Archived</a> from the original on 2016-12-13<span class=\"reference-accessdate\">. Retrieved <span class=\"nowrap\">2016-12-12</span></span>.</cite><span class=\"Z3988\" title=\"ctx_ver=Z39.88-2004&amp;rft_val_fmt=info%3Aofi%2Ffmt%3Akev%3Amtx%3Abook&amp;rft.genre=unknown&amp;rft.btitle=IBM+DB2+Administration+Guide+-+LOAD%2C+IMPORT%2C+and+EXPORT+File+Formats&amp;rft.pub=IBM&amp;rft_id=https%3A%2F%2Fwww.columbia.edu%2Fsec%2Facis%2Fdb2%2Fdb2d0%2Fdb2d053.htm&amp;rfr_id=info%3Asid%2Fen.wikipedia.org%3AComma-separated+values\"></span> (Has file descriptions of delimited ASCII (.DEL) (including comma- and semicolon-separated) and non-delimited ASCII (.ASC) files for data transfer.)</li></ul>\n",
       "<div class=\"navbox-styles\"><style data-mw-deduplicate=\"TemplateStyles:r1129693374\">.mw-parser-output .hlist dl,.mw-parser-output .hlist ol,.mw-parser-output .hlist ul{margin:0;padding:0}.mw-parser-output .hlist dd,.mw-parser-output .hlist dt,.mw-parser-output .hlist li{margin:0;display:inline}.mw-parser-output .hlist.inline,.mw-parser-output .hlist.inline dl,.mw-parser-output .hlist.inline ol,.mw-parser-output .hlist.inline ul,.mw-parser-output .hlist dl dl,.mw-parser-output .hlist dl ol,.mw-parser-output .hlist dl ul,.mw-parser-output .hlist ol dl,.mw-parser-output .hlist ol ol,.mw-parser-output .hlist ol ul,.mw-parser-output .hlist ul dl,.mw-parser-output .hlist ul ol,.mw-parser-output .hlist ul ul{display:inline}.mw-parser-output .hlist .mw-empty-li{display:none}.mw-parser-output .hlist dt::after{content:\": \"}.mw-parser-output .hlist dd::after,.mw-parser-output .hlist li::after{content:\" · \";font-weight:bold}.mw-parser-output .hlist dd:last-child::after,.mw-parser-output .hlist dt:last-child::after,.mw-parser-output .hlist li:last-child::after{content:none}.mw-parser-output .hlist dd dd:first-child::before,.mw-parser-output .hlist dd dt:first-child::before,.mw-parser-output .hlist dd li:first-child::before,.mw-parser-output .hlist dt dd:first-child::before,.mw-parser-output .hlist dt dt:first-child::before,.mw-parser-output .hlist dt li:first-child::before,.mw-parser-output .hlist li dd:first-child::before,.mw-parser-output .hlist li dt:first-child::before,.mw-parser-output .hlist li li:first-child::before{content:\" (\";font-weight:normal}.mw-parser-output .hlist dd dd:last-child::after,.mw-parser-output .hlist dd dt:last-child::after,.mw-parser-output .hlist dd li:last-child::after,.mw-parser-output .hlist dt dd:last-child::after,.mw-parser-output .hlist dt dt:last-child::after,.mw-parser-output .hlist dt li:last-child::after,.mw-parser-output .hlist li dd:last-child::after,.mw-parser-output .hlist li dt:last-child::after,.mw-parser-output .hlist li li:last-child::after{content:\")\";font-weight:normal}.mw-parser-output .hlist ol{counter-reset:listitem}.mw-parser-output .hlist ol>li{counter-increment:listitem}.mw-parser-output .hlist ol>li::before{content:\" \"counter(listitem)\"\\a0 \"}.mw-parser-output .hlist dd ol>li:first-child::before,.mw-parser-output .hlist dt ol>li:first-child::before,.mw-parser-output .hlist li ol>li:first-child::before{content:\" (\"counter(listitem)\"\\a0 \"}</style><style data-mw-deduplicate=\"TemplateStyles:r1061467846\">.mw-parser-output .navbox{box-sizing:border-box;border:1px solid #a2a9b1;width:100%;clear:both;font-size:88%;text-align:center;padding:1px;margin:1em auto 0}.mw-parser-output .navbox .navbox{margin-top:0}.mw-parser-output .navbox+.navbox,.mw-parser-output .navbox+.navbox-styles+.navbox{margin-top:-1px}.mw-parser-output .navbox-inner,.mw-parser-output .navbox-subgroup{width:100%}.mw-parser-output .navbox-group,.mw-parser-output .navbox-title,.mw-parser-output .navbox-abovebelow{padding:0.25em 1em;line-height:1.5em;text-align:center}.mw-parser-output .navbox-group{white-space:nowrap;text-align:right}.mw-parser-output .navbox,.mw-parser-output .navbox-subgroup{background-color:#fdfdfd}.mw-parser-output .navbox-list{line-height:1.5em;border-color:#fdfdfd}.mw-parser-output .navbox-list-with-group{text-align:left;border-left-width:2px;border-left-style:solid}.mw-parser-output tr+tr>.navbox-abovebelow,.mw-parser-output tr+tr>.navbox-group,.mw-parser-output tr+tr>.navbox-image,.mw-parser-output tr+tr>.navbox-list{border-top:2px solid #fdfdfd}.mw-parser-output .navbox-title{background-color:#ccf}.mw-parser-output .navbox-abovebelow,.mw-parser-output .navbox-group,.mw-parser-output .navbox-subgroup .navbox-title{background-color:#ddf}.mw-parser-output .navbox-subgroup .navbox-group,.mw-parser-output .navbox-subgroup .navbox-abovebelow{background-color:#e6e6ff}.mw-parser-output .navbox-even{background-color:#f7f7f7}.mw-parser-output .navbox-odd{background-color:transparent}.mw-parser-output .navbox .hlist td dl,.mw-parser-output .navbox .hlist td ol,.mw-parser-output .navbox .hlist td ul,.mw-parser-output .navbox td.hlist dl,.mw-parser-output .navbox td.hlist ol,.mw-parser-output .navbox td.hlist ul{padding:0.125em 0}.mw-parser-output .navbox .navbar{display:block;font-size:100%}.mw-parser-output .navbox-title .navbar{float:left;text-align:left;margin-right:0.5em}</style></div><div aria-labelledby=\"Data_exchange_formats\" class=\"navbox\" role=\"navigation\" style=\"padding:3px\"><table class=\"nowraplinks mw-collapsible autocollapse navbox-inner\" style=\"border-spacing:0;background:transparent;color:inherit\"><tbody><tr><th class=\"navbox-title\" colspan=\"2\" scope=\"col\"><link href=\"mw-data:TemplateStyles:r1129693374\" rel=\"mw-deduplicated-inline-style\"/><style data-mw-deduplicate=\"TemplateStyles:r1063604349\">.mw-parser-output .navbar{display:inline;font-size:88%;font-weight:normal}.mw-parser-output .navbar-collapse{float:left;text-align:left}.mw-parser-output .navbar-boxtext{word-spacing:0}.mw-parser-output .navbar ul{display:inline-block;white-space:nowrap;line-height:inherit}.mw-parser-output .navbar-brackets::before{margin-right:-0.125em;content:\"[ \"}.mw-parser-output .navbar-brackets::after{margin-left:-0.125em;content:\" ]\"}.mw-parser-output .navbar li{word-spacing:-0.125em}.mw-parser-output .navbar a>span,.mw-parser-output .navbar a>abbr{text-decoration:inherit}.mw-parser-output .navbar-mini abbr{font-variant:small-caps;border-bottom:none;text-decoration:none;cursor:inherit}.mw-parser-output .navbar-ct-full{font-size:114%;margin:0 7em}.mw-parser-output .navbar-ct-mini{font-size:114%;margin:0 4em}</style><div class=\"navbar plainlinks hlist navbar-mini\"><ul><li class=\"nv-view\"><a href=\"/wiki/Template:Data_exchange\" title=\"Template:Data exchange\"><abbr style=\";;background:none transparent;border:none;box-shadow:none;padding:0;\" title=\"View this template\">v</abbr></a></li><li class=\"nv-talk\"><a href=\"/wiki/Template_talk:Data_exchange\" title=\"Template talk:Data exchange\"><abbr style=\";;background:none transparent;border:none;box-shadow:none;padding:0;\" title=\"Discuss this template\">t</abbr></a></li><li class=\"nv-edit\"><a class=\"external text\" href=\"https://en.wikipedia.org/w/index.php?title=Template:Data_exchange&amp;action=edit\"><abbr style=\";;background:none transparent;border:none;box-shadow:none;padding:0;\" title=\"Edit this template\">e</abbr></a></li></ul></div><div id=\"Data_exchange_formats\" style=\"font-size:114%;margin:0 4em\"><a href=\"/wiki/Data_exchange\" title=\"Data exchange\">Data exchange</a> formats</div></th></tr><tr><th class=\"navbox-group\" scope=\"row\" style=\"width:1%\"><a href=\"/wiki/Human-readable_medium\" title=\"Human-readable medium\">Human readable</a> formats</th><td class=\"navbox-list-with-group navbox-list navbox-odd hlist\" style=\"width:100%;padding:0\"><div style=\"padding:0 0.25em\">\n",
       "<ul><li><a class=\"mw-redirect\" href=\"/wiki/Atom_(standard)\" title=\"Atom (standard)\">Atom</a></li>\n",
       "<li><a class=\"mw-selflink selflink\">CSV</a></li>\n",
       "<li><a href=\"/wiki/EDIFACT\" title=\"EDIFACT\">EDIFACT</a></li>\n",
       "<li><a href=\"/wiki/JSON\" title=\"JSON\">JSON</a>\n",
       "<ul><li><a href=\"/wiki/JSON_Web_Encryption\" title=\"JSON Web Encryption\">Web Encryption</a></li>\n",
       "<li><a href=\"/wiki/JSON_Web_Token\" title=\"JSON Web Token\">Web Token</a></li>\n",
       "<li><a href=\"/wiki/JSON_Web_Signature\" title=\"JSON Web Signature\">Web Signature</a></li></ul></li>\n",
       "<li><a href=\"/wiki/Property_list\" title=\"Property list\">Property list</a></li>\n",
       "<li><a href=\"/wiki/Resource_Description_Framework\" title=\"Resource Description Framework\">RDF</a></li>\n",
       "<li><a href=\"/wiki/Rebol\" title=\"Rebol\">Rebol</a></li>\n",
       "<li><a href=\"/wiki/TOML\" title=\"TOML\">TOML</a></li>\n",
       "<li><a href=\"/wiki/XML\" title=\"XML\">XML</a></li>\n",
       "<li><a href=\"/wiki/YAML\" title=\"YAML\">YAML</a></li></ul>\n",
       "</div></td></tr><tr><th class=\"navbox-group\" scope=\"row\" style=\"width:1%\"><a href=\"/wiki/Binary_file\" title=\"Binary file\">Binary</a> formats</th><td class=\"navbox-list-with-group navbox-list navbox-even hlist\" style=\"width:100%;padding:0\"><div style=\"padding:0 0.25em\">\n",
       "<ul><li><a href=\"/wiki/Action_Message_Format\" title=\"Action Message Format\">AMF</a></li>\n",
       "<li><a class=\"mw-redirect\" href=\"/wiki/Abstract_Syntax_Notation_One\" title=\"Abstract Syntax Notation One\">ASN.1</a>\n",
       "<ul><li><a href=\"/wiki/Structure_of_Management_Information\" title=\"Structure of Management Information\">SMI</a></li></ul></li>\n",
       "<li><a href=\"/wiki/Apache_Avro\" title=\"Apache Avro\">Avro</a></li>\n",
       "<li><a href=\"/wiki/Base32\" title=\"Base32\">Base32</a></li>\n",
       "<li><a href=\"/wiki/Base64\" title=\"Base64\">Base64</a></li>\n",
       "<li><a href=\"/wiki/BSON\" title=\"BSON\">BSON</a>\n",
       "<ul><li><a href=\"/wiki/UBJSON\" title=\"UBJSON\">UBJSON</a></li></ul></li>\n",
       "<li><a href=\"/wiki/Cap%27n_Proto\" title=\"Cap'n Proto\">Cap'n Proto</a></li>\n",
       "<li><a href=\"/wiki/CBOR\" title=\"CBOR\">CBOR</a></li>\n",
       "<li><a href=\"/wiki/FlatBuffers\" title=\"FlatBuffers\">FlatBuffers</a></li>\n",
       "<li><a href=\"/wiki/MessagePack\" title=\"MessagePack\">MessagePack</a></li>\n",
       "<li><a href=\"/wiki/Property_list\" title=\"Property list\">Property list</a></li>\n",
       "<li><a href=\"/wiki/Protocol_Buffers\" title=\"Protocol Buffers\">Protocol Buffers</a></li>\n",
       "<li><a href=\"/wiki/Apache_Thrift\" title=\"Apache Thrift\">Thrift</a></li>\n",
       "<li><a href=\"/wiki/Cyphal\" title=\"Cyphal\">Cyphal DSDL</a></li>\n",
       "<li><a href=\"/wiki/External_Data_Representation\" title=\"External Data Representation\">XDR</a></li>\n",
       "<li><a href=\"/wiki/Uuencoding\" title=\"Uuencoding\">uuencode</a></li>\n",
       "<li><a href=\"/wiki/YEnc\" title=\"YEnc\">yEnc</a></li></ul>\n",
       "</div></td></tr><tr><td class=\"navbox-abovebelow\" colspan=\"2\"><div><a href=\"/wiki/Comparison_of_data-serialization_formats\" title=\"Comparison of data-serialization formats\">Comparison of data-serialization formats</a></div></td></tr></tbody></table></div>\n",
       "<!-- \n",
       "NewPP limit report\n",
       "Parsed by mw1397\n",
       "Cached time: 20230225135049\n",
       "Cache expiry: 1814400\n",
       "Reduced expiry: false\n",
       "Complications: [vary‐revision‐sha1, show‐toc]\n",
       "CPU time usage: 0.508 seconds\n",
       "Real time usage: 0.638 seconds\n",
       "Preprocessor visited node count: 3672/1000000\n",
       "Post‐expand include size: 116147/2097152 bytes\n",
       "Template argument size: 16160/2097152 bytes\n",
       "Highest expansion depth: 19/100\n",
       "Expensive parser function count: 9/500\n",
       "Unstrip recursion depth: 1/20\n",
       "Unstrip post‐expand size: 84339/5000000 bytes\n",
       "Lua time usage: 0.308/10.000 seconds\n",
       "Lua memory usage: 8643644/52428800 bytes\n",
       "Number of Wikibase entities loaded: 0/400\n",
       "-->\n",
       "<!--\n",
       "Transclusion expansion time report (%,ms,calls,template)\n",
       "100.00%  562.364      1 -total\n",
       " 34.62%  194.691      1 Template:Reflist\n",
       " 27.48%  154.537      4 Template:Ambox\n",
       " 18.32%  103.031      1 Template:Multiple_issues\n",
       " 13.32%   74.892      1 Template:Data_Exchange\n",
       " 12.65%   71.128      1 Template:Navbox\n",
       " 11.39%   64.068      1 Template:Cite_IETF\n",
       "  9.56%   53.736      1 Template:Short_description\n",
       "  8.52%   47.914     16 Template:Cite_web\n",
       "  7.18%   40.369      1 Template:Lead_too_short\n",
       "-->\n",
       "<!-- Saved in parser cache with key enwiki:pcache:idhash:501906-0!canonical and timestamp 20230225135049 and revision id 1141219294. Rendering was triggered because: page-view\n",
       " -->\n",
       "</div><!--esi <esi:include src=\"/esitest-fa8a495983347898/content\" /> --><noscript><img alt=\"\" height=\"1\" src=\"//en.wikipedia.org/wiki/Special:CentralAutoLogin/start?type=1x1\" style=\"border: none; position: absolute;\" title=\"\" width=\"1\"/></noscript>\n",
       "<div class=\"printfooter\" data-nosnippet=\"\">Retrieved from \"<a dir=\"ltr\" href=\"https://en.wikipedia.org/w/index.php?title=Comma-separated_values&amp;oldid=1141219294\">https://en.wikipedia.org/w/index.php?title=Comma-separated_values&amp;oldid=1141219294</a>\"</div></div>\n",
       "<div class=\"catlinks\" data-mw=\"interface\" id=\"catlinks\"><div class=\"mw-normal-catlinks\" id=\"mw-normal-catlinks\"><a href=\"/wiki/Help:Category\" title=\"Help:Category\">Categories</a>: <ul><li><a href=\"/wiki/Category:Delimiter-separated_format\" title=\"Category:Delimiter-separated format\">Delimiter-separated format</a></li><li><a href=\"/wiki/Category:Open_formats\" title=\"Category:Open formats\">Open formats</a></li><li><a href=\"/wiki/Category:Spreadsheet_file_formats\" title=\"Category:Spreadsheet file formats\">Spreadsheet file formats</a></li></ul></div><div class=\"mw-hidden-catlinks mw-hidden-cats-hidden\" id=\"mw-hidden-catlinks\">Hidden categories: <ul><li><a href=\"/wiki/Category:Articles_with_short_description\" title=\"Category:Articles with short description\">Articles with short description</a></li><li><a href=\"/wiki/Category:Short_description_is_different_from_Wikidata\" title=\"Category:Short description is different from Wikidata\">Short description is different from Wikidata</a></li><li><a href=\"/wiki/Category:Wikipedia_introduction_cleanup_from_February_2022\" title=\"Category:Wikipedia introduction cleanup from February 2022\">Wikipedia introduction cleanup from February 2022</a></li><li><a href=\"/wiki/Category:All_pages_needing_cleanup\" title=\"Category:All pages needing cleanup\">All pages needing cleanup</a></li><li><a href=\"/wiki/Category:Articles_covered_by_WikiProject_Wikify_from_February_2022\" title=\"Category:Articles covered by WikiProject Wikify from February 2022\">Articles covered by WikiProject Wikify from February 2022</a></li><li><a href=\"/wiki/Category:All_articles_covered_by_WikiProject_Wikify\" title=\"Category:All articles covered by WikiProject Wikify\">All articles covered by WikiProject Wikify</a></li><li><a href=\"/wiki/Category:Wikipedia_articles_with_style_issues_from_February_2022\" title=\"Category:Wikipedia articles with style issues from February 2022\">Wikipedia articles with style issues from February 2022</a></li><li><a href=\"/wiki/Category:All_articles_with_style_issues\" title=\"Category:All articles with style issues\">All articles with style issues</a></li><li><a href=\"/wiki/Category:Articles_needing_additional_references_from_February_2022\" title=\"Category:Articles needing additional references from February 2022\">Articles needing additional references from February 2022</a></li><li><a href=\"/wiki/Category:All_articles_needing_additional_references\" title=\"Category:All articles needing additional references\">All articles needing additional references</a></li><li><a href=\"/wiki/Category:Articles_with_multiple_maintenance_issues\" title=\"Category:Articles with multiple maintenance issues\">Articles with multiple maintenance issues</a></li><li><a href=\"/wiki/Category:All_articles_with_unsourced_statements\" title=\"Category:All articles with unsourced statements\">All articles with unsourced statements</a></li><li><a href=\"/wiki/Category:Articles_with_unsourced_statements_from_September_2014\" title=\"Category:Articles with unsourced statements from September 2014\">Articles with unsourced statements from September 2014</a></li><li><a href=\"/wiki/Category:All_articles_with_specifically_marked_weasel-worded_phrases\" title=\"Category:All articles with specifically marked weasel-worded phrases\">All articles with specifically marked weasel-worded phrases</a></li><li><a href=\"/wiki/Category:Articles_with_specifically_marked_weasel-worded_phrases_from_September_2017\" title=\"Category:Articles with specifically marked weasel-worded phrases from September 2017\">Articles with specifically marked weasel-worded phrases from September 2017</a></li><li><a href=\"/wiki/Category:Articles_containing_potentially_dated_statements_from_2019\" title=\"Category:Articles containing potentially dated statements from 2019\">Articles containing potentially dated statements from 2019</a></li><li><a href=\"/wiki/Category:All_articles_containing_potentially_dated_statements\" title=\"Category:All articles containing potentially dated statements\">All articles containing potentially dated statements</a></li></ul></div></div>\n",
       "</div>\n",
       "</main>\n",
       "</div>\n",
       "<div class=\"mw-footer-container\">\n",
       "<footer class=\"mw-footer\" id=\"footer\" role=\"contentinfo\">\n",
       "<ul id=\"footer-info\">\n",
       "<li id=\"footer-info-lastmod\"> This page was last edited on 23 February 2023, at 23:49<span class=\"anonymous-show\"> (UTC)</span>.</li>\n",
       "<li id=\"footer-info-copyright\">Text is available under the <a href=\"//en.wikipedia.org/wiki/Wikipedia:Text_of_the_Creative_Commons_Attribution-ShareAlike_3.0_Unported_License\" rel=\"license\">Creative Commons Attribution-ShareAlike License 3.0</a><a href=\"//creativecommons.org/licenses/by-sa/3.0/\" rel=\"license\" style=\"display:none;\"></a>;\n",
       "additional terms may apply.  By using this site, you agree to the <a href=\"//foundation.wikimedia.org/wiki/Terms_of_Use\">Terms of Use</a> and <a href=\"//foundation.wikimedia.org/wiki/Privacy_policy\">Privacy Policy</a>. Wikipedia® is a registered trademark of the <a href=\"//www.wikimediafoundation.org/\">Wikimedia Foundation, Inc.</a>, a non-profit organization.</li>\n",
       "</ul>\n",
       "<ul id=\"footer-places\">\n",
       "<li id=\"footer-places-privacy\"><a href=\"https://foundation.wikimedia.org/wiki/Privacy_policy\">Privacy policy</a></li>\n",
       "<li id=\"footer-places-about\"><a href=\"/wiki/Wikipedia:About\">About Wikipedia</a></li>\n",
       "<li id=\"footer-places-disclaimers\"><a href=\"/wiki/Wikipedia:General_disclaimer\">Disclaimers</a></li>\n",
       "<li id=\"footer-places-contact\"><a href=\"//en.wikipedia.org/wiki/Wikipedia:Contact_us\">Contact Wikipedia</a></li>\n",
       "<li id=\"footer-places-mobileview\"><a class=\"noprint stopMobileRedirectToggle\" href=\"//en.m.wikipedia.org/w/index.php?title=Comma-separated_values&amp;mobileaction=toggle_view_mobile\">Mobile view</a></li>\n",
       "<li id=\"footer-places-developers\"><a href=\"https://developer.wikimedia.org\">Developers</a></li>\n",
       "<li id=\"footer-places-statslink\"><a href=\"https://stats.wikimedia.org/#/en.wikipedia.org\">Statistics</a></li>\n",
       "<li id=\"footer-places-cookiestatement\"><a href=\"https://foundation.wikimedia.org/wiki/Cookie_statement\">Cookie statement</a></li>\n",
       "</ul>\n",
       "<ul class=\"noprint\" id=\"footer-icons\">\n",
       "<li id=\"footer-copyrightico\"><a href=\"https://wikimediafoundation.org/\"><img alt=\"Wikimedia Foundation\" height=\"31\" loading=\"lazy\" src=\"/static/images/footer/wikimedia-button.png\" srcset=\"/static/images/footer/wikimedia-button-1.5x.png 1.5x, /static/images/footer/wikimedia-button-2x.png 2x\" width=\"88\"/></a></li>\n",
       "<li id=\"footer-poweredbyico\"><a href=\"https://www.mediawiki.org/\"><img alt=\"Powered by MediaWiki\" height=\"31\" loading=\"lazy\" src=\"/static/images/footer/poweredby_mediawiki_88x31.png\" srcset=\"/static/images/footer/poweredby_mediawiki_132x47.png 1.5x, /static/images/footer/poweredby_mediawiki_176x62.png 2x\" width=\"88\"/></a></li>\n",
       "</ul>\n",
       "</footer>\n",
       "</div>\n",
       "</div>\n",
       "</div>\n",
       "<script>(RLQ=window.RLQ||[]).push(function(){mw.config.set({\"wgPageParseReport\":{\"limitreport\":{\"cputime\":\"0.508\",\"walltime\":\"0.638\",\"ppvisitednodes\":{\"value\":3672,\"limit\":1000000},\"postexpandincludesize\":{\"value\":116147,\"limit\":2097152},\"templateargumentsize\":{\"value\":16160,\"limit\":2097152},\"expansiondepth\":{\"value\":19,\"limit\":100},\"expensivefunctioncount\":{\"value\":9,\"limit\":500},\"unstrip-depth\":{\"value\":1,\"limit\":20},\"unstrip-size\":{\"value\":84339,\"limit\":5000000},\"entityaccesscount\":{\"value\":0,\"limit\":400},\"timingprofile\":[\"100.00%  562.364      1 -total\",\" 34.62%  194.691      1 Template:Reflist\",\" 27.48%  154.537      4 Template:Ambox\",\" 18.32%  103.031      1 Template:Multiple_issues\",\" 13.32%   74.892      1 Template:Data_Exchange\",\" 12.65%   71.128      1 Template:Navbox\",\" 11.39%   64.068      1 Template:Cite_IETF\",\"  9.56%   53.736      1 Template:Short_description\",\"  8.52%   47.914     16 Template:Cite_web\",\"  7.18%   40.369      1 Template:Lead_too_short\"]},\"scribunto\":{\"limitreport-timeusage\":{\"value\":\"0.308\",\"limit\":\"10.000\"},\"limitreport-memusage\":{\"value\":8643644,\"limit\":52428800},\"limitreport-logs\":\"anchor_id_list = table#1 {\\n    [\\\"CITEREFCreativyst2010\\\"] = 1,\\n    [\\\"CITEREFShafranovich2005\\\"] = 1,\\n}\\ntemplate_list = table#1 {\\n    [\\\"As of\\\"] = 1,\\n    [\\\"Citation\\\"] = 3,\\n    [\\\"Citation needed\\\"] = 1,\\n    [\\\"Cite IETF\\\"] = 1,\\n    [\\\"Cite RFC\\\"] = 2,\\n    [\\\"Cite book\\\"] = 1,\\n    [\\\"Cite web\\\"] = 16,\\n    [\\\"Code\\\"] = 1,\\n    [\\\"Data Exchange\\\"] = 1,\\n    [\\\"Essay-like\\\"] = 1,\\n    [\\\"Harvtxt\\\"] = 1,\\n    [\\\"IETF RFC\\\"] = 3,\\n    [\\\"Infobox file format\\\"] = 1,\\n    [\\\"Lead too short\\\"] = 1,\\n    [\\\"More citations needed\\\"] = 1,\\n    [\\\"Multiple issues\\\"] = 1,\\n    [\\\"Reflist\\\"] = 1,\\n    [\\\"Short description\\\"] = 1,\\n    [\\\"Unordered list\\\"] = 1,\\n    [\\\"Which\\\"] = 1,\\n}\\narticle_whitelist = table#1 {\\n}\\n\"},\"cachereport\":{\"origin\":\"mw1397\",\"timestamp\":\"20230225135049\",\"ttl\":1814400,\"transientcontent\":false}}});});</script>\n",
       "<script type=\"application/ld+json\">{\"@context\":\"https:\\/\\/schema.org\",\"@type\":\"Article\",\"name\":\"Comma-separated values\",\"url\":\"https:\\/\\/en.wikipedia.org\\/wiki\\/Comma-separated_values\",\"sameAs\":\"http:\\/\\/www.wikidata.org\\/entity\\/Q935809\",\"mainEntity\":\"http:\\/\\/www.wikidata.org\\/entity\\/Q935809\",\"author\":{\"@type\":\"Organization\",\"name\":\"Contributors to Wikimedia projects\"},\"publisher\":{\"@type\":\"Organization\",\"name\":\"Wikimedia Foundation, Inc.\",\"logo\":{\"@type\":\"ImageObject\",\"url\":\"https:\\/\\/www.wikimedia.org\\/static\\/images\\/wmf-hor-googpub.png\"}},\"datePublished\":\"2004-03-03T14:56:47Z\",\"dateModified\":\"2023-02-23T23:49:09Z\",\"headline\":\"file format used to store data\"}</script><script type=\"application/ld+json\">{\"@context\":\"https:\\/\\/schema.org\",\"@type\":\"Article\",\"name\":\"Comma-separated values\",\"url\":\"https:\\/\\/en.wikipedia.org\\/wiki\\/Comma-separated_values\",\"sameAs\":\"http:\\/\\/www.wikidata.org\\/entity\\/Q935809\",\"mainEntity\":\"http:\\/\\/www.wikidata.org\\/entity\\/Q935809\",\"author\":{\"@type\":\"Organization\",\"name\":\"Contributors to Wikimedia projects\"},\"publisher\":{\"@type\":\"Organization\",\"name\":\"Wikimedia Foundation, Inc.\",\"logo\":{\"@type\":\"ImageObject\",\"url\":\"https:\\/\\/www.wikimedia.org\\/static\\/images\\/wmf-hor-googpub.png\"}},\"datePublished\":\"2004-03-03T14:56:47Z\",\"dateModified\":\"2023-02-23T23:49:09Z\",\"headline\":\"file format used to store data\"}</script>\n",
       "<script>(RLQ=window.RLQ||[]).push(function(){mw.config.set({\"wgBackendResponseTime\":108,\"wgHostname\":\"mw1395\"});});</script>\n",
       "</body>\n",
       "</html>"
      ]
     },
     "execution_count": 3,
     "metadata": {},
     "output_type": "execute_result"
    }
   ],
   "source": [
    "csv_wiki = requests.get(\"https://en.wikipedia.org/wiki/Comma-separated_values\")\n",
    "soup = BeautifulSoup(csv_wiki.text, 'html.parser')\n",
    "soup"
   ]
  },
  {
   "cell_type": "code",
   "execution_count": 9,
   "id": "74c858a1",
   "metadata": {},
   "outputs": [],
   "source": [
    "info = soup.find('table', class_ = 'wikitable').findNext('pre').text"
   ]
  },
  {
   "cell_type": "code",
   "execution_count": 10,
   "id": "b8da71de",
   "metadata": {},
   "outputs": [
    {
     "data": {
      "text/plain": [
       "<table class=\"wikitable\">\n",
       "<tbody><tr>\n",
       "<th>Year</th>\n",
       "<th>Make</th>\n",
       "<th>Model</th>\n",
       "<th>Description</th>\n",
       "<th>Price\n",
       "</th></tr>\n",
       "<tr>\n",
       "<td>1997</td>\n",
       "<td>Ford</td>\n",
       "<td>E350</td>\n",
       "<td>ac, abs, moon</td>\n",
       "<td>3000.00\n",
       "</td></tr>\n",
       "<tr>\n",
       "<td>1999</td>\n",
       "<td>Chevy</td>\n",
       "<td>Venture \"Extended Edition\"</td>\n",
       "<td></td>\n",
       "<td>4900.00\n",
       "</td></tr>\n",
       "<tr>\n",
       "<td>1999</td>\n",
       "<td>Chevy</td>\n",
       "<td>Venture \"Extended Edition, Very Large\"</td>\n",
       "<td></td>\n",
       "<td>5000.00\n",
       "</td></tr>\n",
       "<tr>\n",
       "<td>1996</td>\n",
       "<td>Jeep</td>\n",
       "<td>Grand Cherokee</td>\n",
       "<td>MUST SELL!<br/>air, moon roof, loaded</td>\n",
       "<td>4799.00\n",
       "</td></tr></tbody></table>"
      ]
     },
     "execution_count": 10,
     "metadata": {},
     "output_type": "execute_result"
    }
   ],
   "source": [
    "soup.find('table', class_ = 'wikitable')"
   ]
  },
  {
   "cell_type": "code",
   "execution_count": 11,
   "id": "4d7428c3",
   "metadata": {},
   "outputs": [
    {
     "data": {
      "text/plain": [
       "<pre>Year,Make,Model,Description,Price\n",
       "1997,Ford,E350,\"ac, abs, moon\",3000.00\n",
       "1999,Chevy,\"Venture \"\"Extended Edition\"\"\",\"\",4900.00\n",
       "1999,Chevy,\"Venture \"\"Extended Edition, Very Large\"\"\",\"\",5000.00\n",
       "1996,Jeep,Grand Cherokee,\"MUST SELL!\n",
       "air, moon roof, loaded\",4799.00\n",
       "</pre>"
      ]
     },
     "execution_count": 11,
     "metadata": {},
     "output_type": "execute_result"
    }
   ],
   "source": [
    "soup.find('table', class_ = 'wikitable').findNext('pre')"
   ]
  },
  {
   "cell_type": "code",
   "execution_count": 12,
   "id": "8d8686f5",
   "metadata": {},
   "outputs": [
    {
     "data": {
      "text/plain": [
       "str"
      ]
     },
     "execution_count": 12,
     "metadata": {},
     "output_type": "execute_result"
    }
   ],
   "source": [
    "type(info)"
   ]
  },
  {
   "cell_type": "code",
   "execution_count": 13,
   "id": "b548f63d",
   "metadata": {},
   "outputs": [
    {
     "data": {
      "text/plain": [
       "'Year,Make,Model,Description,Price\\n1997,Ford,E350,\"ac, abs, moon\",3000.00\\n1999,Chevy,\"Venture \"\"Extended Edition\"\"\",\"\",4900.00\\n1999,Chevy,\"Venture \"\"Extended Edition, Very Large\"\"\",\"\",5000.00\\n1996,Jeep,Grand Cherokee,\"MUST SELL!\\nair, moon roof, loaded\",4799.00\\n'"
      ]
     },
     "execution_count": 13,
     "metadata": {},
     "output_type": "execute_result"
    }
   ],
   "source": [
    "info"
   ]
  },
  {
   "cell_type": "code",
   "execution_count": null,
   "id": "9c8b5121",
   "metadata": {},
   "outputs": [],
   "source": []
  },
  {
   "cell_type": "code",
   "execution_count": 14,
   "id": "8551beab",
   "metadata": {},
   "outputs": [],
   "source": [
    "f = open('car.csv', 'w')\n",
    "f.write(info)\n",
    "f.close()"
   ]
  },
  {
   "cell_type": "code",
   "execution_count": 19,
   "id": "e8296d89",
   "metadata": {},
   "outputs": [],
   "source": [
    "## other way \n",
    "import pandas as pd\n",
    "csv = soup.find('table',{'class':\"wikitable\"})\n",
    "df = pd.read_html(str(csv))\n",
    "df = df[0]\n",
    "df.to_csv('cars.csv')"
   ]
  },
  {
   "cell_type": "code",
   "execution_count": 18,
   "id": "03f4de7b",
   "metadata": {},
   "outputs": [
    {
     "data": {
      "text/plain": [
       "pandas.core.frame.DataFrame"
      ]
     },
     "execution_count": 18,
     "metadata": {},
     "output_type": "execute_result"
    }
   ],
   "source": [
    "type(pd.read_html(str(csv))[0])"
   ]
  },
  {
   "cell_type": "markdown",
   "id": "2c02e445",
   "metadata": {},
   "source": [
    "## Solution 2 - Get the csv example under the header \"Example\""
   ]
  },
  {
   "cell_type": "code",
   "execution_count": 20,
   "id": "e813aaa6",
   "metadata": {},
   "outputs": [
    {
     "data": {
      "text/plain": [
       "'Year,Make,Model,Description,Price\\n1997,Ford,E350,\"ac, abs, moon\",3000.00\\n1999,Chevy,\"Venture \"\"Extended Edition\"\"\",\"\",4900.00\\n1999,Chevy,\"Venture \"\"Extended Edition, Very Large\"\"\",\"\",5000.00\\n1996,Jeep,Grand Cherokee,\"MUST SELL!\\nair, moon roof, loaded\",4799.00\\n'"
      ]
     },
     "execution_count": 20,
     "metadata": {},
     "output_type": "execute_result"
    }
   ],
   "source": [
    "soup.find(id='Example').findNext('pre').text"
   ]
  },
  {
   "cell_type": "code",
   "execution_count": 11,
   "id": "8ed34864",
   "metadata": {
    "scrolled": true
   },
   "outputs": [
    {
     "data": {
      "text/plain": [
       "'Year,Make,Model,Description,Price\\n1997,Ford,E350,\"ac, abs, moon\",3000.00\\n1999,Chevy,\"Venture \"\"Extended Edition\"\"\",\"\",4900.00\\n1999,Chevy,\"Venture \"\"Extended Edition, Very Large\"\"\",\"\",5000.00\\n1996,Jeep,Grand Cherokee,\"MUST SELL!\\nair, moon roof, loaded\",4799.00\\n'"
      ]
     },
     "execution_count": 11,
     "metadata": {},
     "output_type": "execute_result"
    }
   ],
   "source": [
    "ths = soup.find(id='Example')\n",
    "table = ths.findNext('pre').text\n",
    "table"
   ]
  },
  {
   "cell_type": "code",
   "execution_count": 12,
   "id": "19874226",
   "metadata": {},
   "outputs": [],
   "source": [
    "f = open('car.csv', 'w')\n",
    "f.write(table)\n",
    "f.close()"
   ]
  },
  {
   "cell_type": "markdown",
   "id": "b6f95daf",
   "metadata": {},
   "source": [
    "\n",
    "## Reload the csv data from the file to make sure the data was saved properly"
   ]
  },
  {
   "cell_type": "code",
   "execution_count": 13,
   "id": "806ef7d8",
   "metadata": {},
   "outputs": [],
   "source": [
    "\n",
    "## what is the max price in the data ? min price ?\n",
    "\n",
    "## what is the model (Make) of the most expensive car ?\n",
    "\n",
    "## how many cars do we have per year ?\n",
    "\n",
    "## can you give me the median, quartiles of the column Price ?\n"
   ]
  },
  {
   "cell_type": "code",
   "execution_count": 14,
   "id": "26e1c9f6",
   "metadata": {},
   "outputs": [
    {
     "data": {
      "text/html": [
       "<div>\n",
       "<style scoped>\n",
       "    .dataframe tbody tr th:only-of-type {\n",
       "        vertical-align: middle;\n",
       "    }\n",
       "\n",
       "    .dataframe tbody tr th {\n",
       "        vertical-align: top;\n",
       "    }\n",
       "\n",
       "    .dataframe thead th {\n",
       "        text-align: right;\n",
       "    }\n",
       "</style>\n",
       "<table border=\"1\" class=\"dataframe\">\n",
       "  <thead>\n",
       "    <tr style=\"text-align: right;\">\n",
       "      <th></th>\n",
       "      <th>Year</th>\n",
       "      <th>Make</th>\n",
       "      <th>Model</th>\n",
       "      <th>Description</th>\n",
       "      <th>Price</th>\n",
       "    </tr>\n",
       "  </thead>\n",
       "  <tbody>\n",
       "    <tr>\n",
       "      <th>0</th>\n",
       "      <td>1997</td>\n",
       "      <td>Ford</td>\n",
       "      <td>E350</td>\n",
       "      <td>ac, abs, moon</td>\n",
       "      <td>3000.0</td>\n",
       "    </tr>\n",
       "    <tr>\n",
       "      <th>1</th>\n",
       "      <td>1999</td>\n",
       "      <td>Chevy</td>\n",
       "      <td>Venture \"Extended Edition\"</td>\n",
       "      <td>NaN</td>\n",
       "      <td>4900.0</td>\n",
       "    </tr>\n",
       "    <tr>\n",
       "      <th>2</th>\n",
       "      <td>1999</td>\n",
       "      <td>Chevy</td>\n",
       "      <td>Venture \"Extended Edition, Very Large\"</td>\n",
       "      <td>NaN</td>\n",
       "      <td>5000.0</td>\n",
       "    </tr>\n",
       "    <tr>\n",
       "      <th>3</th>\n",
       "      <td>1996</td>\n",
       "      <td>Jeep</td>\n",
       "      <td>Grand Cherokee</td>\n",
       "      <td>MUST SELL!\\nair, moon roof, loaded</td>\n",
       "      <td>4799.0</td>\n",
       "    </tr>\n",
       "  </tbody>\n",
       "</table>\n",
       "</div>"
      ],
      "text/plain": [
       "   Year   Make                                   Model  \\\n",
       "0  1997   Ford                                    E350   \n",
       "1  1999  Chevy              Venture \"Extended Edition\"   \n",
       "2  1999  Chevy  Venture \"Extended Edition, Very Large\"   \n",
       "3  1996   Jeep                          Grand Cherokee   \n",
       "\n",
       "                          Description   Price  \n",
       "0                       ac, abs, moon  3000.0  \n",
       "1                                 NaN  4900.0  \n",
       "2                                 NaN  5000.0  \n",
       "3  MUST SELL!\\nair, moon roof, loaded  4799.0  "
      ]
     },
     "execution_count": 14,
     "metadata": {},
     "output_type": "execute_result"
    }
   ],
   "source": [
    "\n",
    "df = pd.read_csv('car.csv')\n",
    "df"
   ]
  },
  {
   "cell_type": "code",
   "execution_count": 15,
   "id": "c6f52199",
   "metadata": {},
   "outputs": [
    {
     "data": {
      "text/plain": [
       "Index(['Year', 'Make', 'Model', 'Description', 'Price'], dtype='object')"
      ]
     },
     "execution_count": 15,
     "metadata": {},
     "output_type": "execute_result"
    }
   ],
   "source": [
    "df.columns"
   ]
  },
  {
   "cell_type": "code",
   "execution_count": 16,
   "id": "b7e7e87a",
   "metadata": {},
   "outputs": [
    {
     "data": {
      "text/plain": [
       "0    1997\n",
       "1    1999\n",
       "2    1999\n",
       "3    1996\n",
       "Name: Year, dtype: int64"
      ]
     },
     "execution_count": 16,
     "metadata": {},
     "output_type": "execute_result"
    }
   ],
   "source": [
    "df['Year']"
   ]
  },
  {
   "cell_type": "code",
   "execution_count": 17,
   "id": "45f5f1ba",
   "metadata": {},
   "outputs": [
    {
     "data": {
      "text/plain": [
       "(4, 5)"
      ]
     },
     "execution_count": 17,
     "metadata": {},
     "output_type": "execute_result"
    }
   ],
   "source": [
    "df.shape"
   ]
  },
  {
   "cell_type": "code",
   "execution_count": 18,
   "id": "96501105",
   "metadata": {},
   "outputs": [
    {
     "data": {
      "text/plain": [
       "Year             int64\n",
       "Make            object\n",
       "Model           object\n",
       "Description     object\n",
       "Price          float64\n",
       "dtype: object"
      ]
     },
     "execution_count": 18,
     "metadata": {},
     "output_type": "execute_result"
    }
   ],
   "source": [
    "df.dtypes"
   ]
  },
  {
   "cell_type": "code",
   "execution_count": 19,
   "id": "bf686905",
   "metadata": {},
   "outputs": [
    {
     "data": {
      "text/html": [
       "<div>\n",
       "<style scoped>\n",
       "    .dataframe tbody tr th:only-of-type {\n",
       "        vertical-align: middle;\n",
       "    }\n",
       "\n",
       "    .dataframe tbody tr th {\n",
       "        vertical-align: top;\n",
       "    }\n",
       "\n",
       "    .dataframe thead th {\n",
       "        text-align: right;\n",
       "    }\n",
       "</style>\n",
       "<table border=\"1\" class=\"dataframe\">\n",
       "  <thead>\n",
       "    <tr style=\"text-align: right;\">\n",
       "      <th></th>\n",
       "      <th>Year</th>\n",
       "      <th>Price</th>\n",
       "    </tr>\n",
       "  </thead>\n",
       "  <tbody>\n",
       "    <tr>\n",
       "      <th>count</th>\n",
       "      <td>4.00</td>\n",
       "      <td>4.000000</td>\n",
       "    </tr>\n",
       "    <tr>\n",
       "      <th>mean</th>\n",
       "      <td>1997.75</td>\n",
       "      <td>4424.750000</td>\n",
       "    </tr>\n",
       "    <tr>\n",
       "      <th>std</th>\n",
       "      <td>1.50</td>\n",
       "      <td>953.371342</td>\n",
       "    </tr>\n",
       "    <tr>\n",
       "      <th>min</th>\n",
       "      <td>1996.00</td>\n",
       "      <td>3000.000000</td>\n",
       "    </tr>\n",
       "    <tr>\n",
       "      <th>25%</th>\n",
       "      <td>1996.75</td>\n",
       "      <td>4349.250000</td>\n",
       "    </tr>\n",
       "    <tr>\n",
       "      <th>50%</th>\n",
       "      <td>1998.00</td>\n",
       "      <td>4849.500000</td>\n",
       "    </tr>\n",
       "    <tr>\n",
       "      <th>75%</th>\n",
       "      <td>1999.00</td>\n",
       "      <td>4925.000000</td>\n",
       "    </tr>\n",
       "    <tr>\n",
       "      <th>max</th>\n",
       "      <td>1999.00</td>\n",
       "      <td>5000.000000</td>\n",
       "    </tr>\n",
       "  </tbody>\n",
       "</table>\n",
       "</div>"
      ],
      "text/plain": [
       "          Year        Price\n",
       "count     4.00     4.000000\n",
       "mean   1997.75  4424.750000\n",
       "std       1.50   953.371342\n",
       "min    1996.00  3000.000000\n",
       "25%    1996.75  4349.250000\n",
       "50%    1998.00  4849.500000\n",
       "75%    1999.00  4925.000000\n",
       "max    1999.00  5000.000000"
      ]
     },
     "execution_count": 19,
     "metadata": {},
     "output_type": "execute_result"
    }
   ],
   "source": [
    "df.describe()"
   ]
  },
  {
   "cell_type": "code",
   "execution_count": 20,
   "id": "2109e580",
   "metadata": {},
   "outputs": [
    {
     "data": {
      "text/plain": [
       "3000.0"
      ]
     },
     "execution_count": 20,
     "metadata": {},
     "output_type": "execute_result"
    }
   ],
   "source": [
    "min(df['Price'])"
   ]
  },
  {
   "cell_type": "code",
   "execution_count": 22,
   "id": "dd8a22d1",
   "metadata": {},
   "outputs": [
    {
     "data": {
      "text/html": [
       "<div>\n",
       "<style scoped>\n",
       "    .dataframe tbody tr th:only-of-type {\n",
       "        vertical-align: middle;\n",
       "    }\n",
       "\n",
       "    .dataframe tbody tr th {\n",
       "        vertical-align: top;\n",
       "    }\n",
       "\n",
       "    .dataframe thead th {\n",
       "        text-align: right;\n",
       "    }\n",
       "</style>\n",
       "<table border=\"1\" class=\"dataframe\">\n",
       "  <thead>\n",
       "    <tr style=\"text-align: right;\">\n",
       "      <th></th>\n",
       "      <th>Year</th>\n",
       "      <th>Make</th>\n",
       "      <th>Model</th>\n",
       "      <th>Description</th>\n",
       "      <th>Price</th>\n",
       "    </tr>\n",
       "  </thead>\n",
       "  <tbody>\n",
       "    <tr>\n",
       "      <th>2</th>\n",
       "      <td>1999</td>\n",
       "      <td>Chevy</td>\n",
       "      <td>Venture \"Extended Edition, Very Large\"</td>\n",
       "      <td>NaN</td>\n",
       "      <td>5000.0</td>\n",
       "    </tr>\n",
       "    <tr>\n",
       "      <th>3</th>\n",
       "      <td>1996</td>\n",
       "      <td>Jeep</td>\n",
       "      <td>Grand Cherokee</td>\n",
       "      <td>MUST SELL!\\nair, moon roof, loaded</td>\n",
       "      <td>4799.0</td>\n",
       "    </tr>\n",
       "  </tbody>\n",
       "</table>\n",
       "</div>"
      ],
      "text/plain": [
       "   Year   Make                                   Model  \\\n",
       "2  1999  Chevy  Venture \"Extended Edition, Very Large\"   \n",
       "3  1996   Jeep                          Grand Cherokee   \n",
       "\n",
       "                          Description   Price  \n",
       "2                                 NaN  5000.0  \n",
       "3  MUST SELL!\\nair, moon roof, loaded  4799.0  "
      ]
     },
     "execution_count": 22,
     "metadata": {},
     "output_type": "execute_result"
    }
   ],
   "source": [
    "df.tail(2)"
   ]
  },
  {
   "cell_type": "code",
   "execution_count": 23,
   "id": "e89522b6",
   "metadata": {},
   "outputs": [
    {
     "data": {
      "text/plain": [
       "1999    2\n",
       "1997    1\n",
       "1996    1\n",
       "Name: Year, dtype: int64"
      ]
     },
     "execution_count": 23,
     "metadata": {},
     "output_type": "execute_result"
    }
   ],
   "source": [
    "df['Year'].value_counts()"
   ]
  },
  {
   "cell_type": "code",
   "execution_count": 24,
   "id": "00168801",
   "metadata": {},
   "outputs": [
    {
     "data": {
      "text/plain": [
       "5000.0"
      ]
     },
     "execution_count": 24,
     "metadata": {},
     "output_type": "execute_result"
    }
   ],
   "source": [
    "df.Price.max()\n",
    "max(df.Price)\n",
    "max(df['Price'])"
   ]
  },
  {
   "cell_type": "code",
   "execution_count": 26,
   "id": "624e5f17",
   "metadata": {},
   "outputs": [
    {
     "data": {
      "text/html": [
       "<div>\n",
       "<style scoped>\n",
       "    .dataframe tbody tr th:only-of-type {\n",
       "        vertical-align: middle;\n",
       "    }\n",
       "\n",
       "    .dataframe tbody tr th {\n",
       "        vertical-align: top;\n",
       "    }\n",
       "\n",
       "    .dataframe thead th {\n",
       "        text-align: right;\n",
       "    }\n",
       "</style>\n",
       "<table border=\"1\" class=\"dataframe\">\n",
       "  <thead>\n",
       "    <tr style=\"text-align: right;\">\n",
       "      <th></th>\n",
       "      <th>Year</th>\n",
       "      <th>Make</th>\n",
       "      <th>Model</th>\n",
       "      <th>Description</th>\n",
       "      <th>Price</th>\n",
       "    </tr>\n",
       "  </thead>\n",
       "  <tbody>\n",
       "    <tr>\n",
       "      <th>0</th>\n",
       "      <td>1997</td>\n",
       "      <td>Ford</td>\n",
       "      <td>E350</td>\n",
       "      <td>ac, abs, moon</td>\n",
       "      <td>3000.0</td>\n",
       "    </tr>\n",
       "  </tbody>\n",
       "</table>\n",
       "</div>"
      ],
      "text/plain": [
       "   Year  Make Model    Description   Price\n",
       "0  1997  Ford  E350  ac, abs, moon  3000.0"
      ]
     },
     "execution_count": 26,
     "metadata": {},
     "output_type": "execute_result"
    }
   ],
   "source": [
    "df.head(1)"
   ]
  },
  {
   "cell_type": "code",
   "execution_count": 25,
   "id": "43915206",
   "metadata": {},
   "outputs": [
    {
     "data": {
      "text/plain": [
       "3000.0"
      ]
     },
     "execution_count": 25,
     "metadata": {},
     "output_type": "execute_result"
    }
   ],
   "source": [
    "df.Price.min()\n",
    "min(df.Price)"
   ]
  },
  {
   "cell_type": "code",
   "execution_count": 23,
   "id": "9505932f",
   "metadata": {},
   "outputs": [
    {
     "data": {
      "text/plain": [
       "Year                                 1999\n",
       "Make                                Chevy\n",
       "Model          Venture \"Extended Edition\"\n",
       "Description                           NaN\n",
       "Price                              4900.0\n",
       "Name: 1, dtype: object"
      ]
     },
     "execution_count": 23,
     "metadata": {},
     "output_type": "execute_result"
    }
   ],
   "source": [
    "df.iloc[1]"
   ]
  },
  {
   "cell_type": "code",
   "execution_count": null,
   "id": "185a3fcb",
   "metadata": {},
   "outputs": [],
   "source": []
  },
  {
   "cell_type": "code",
   "execution_count": 28,
   "id": "7cc03da3",
   "metadata": {},
   "outputs": [
    {
     "data": {
      "image/png": "[encoded data removed]",
      "text/plain": [
       "<Figure size 640x480 with 1 Axes>"
      ]
     },
     "metadata": {},
     "output_type": "display_data"
    }
   ],
   "source": [
    "import matplotlib.pyplot as plt\n",
    "%matplotlib inline \n",
    "\n",
    "\n",
    "fig1, ax1 = plt.subplots()\n",
    "ax1.boxplot(df.Price);"
   ]
  },
  {
   "cell_type": "code",
   "execution_count": 27,
   "id": "a172ac2a",
   "metadata": {},
   "outputs": [
    {
     "data": {
      "text/html": [
       "<div>\n",
       "<style scoped>\n",
       "    .dataframe tbody tr th:only-of-type {\n",
       "        vertical-align: middle;\n",
       "    }\n",
       "\n",
       "    .dataframe tbody tr th {\n",
       "        vertical-align: top;\n",
       "    }\n",
       "\n",
       "    .dataframe thead th {\n",
       "        text-align: right;\n",
       "    }\n",
       "</style>\n",
       "<table border=\"1\" class=\"dataframe\">\n",
       "  <thead>\n",
       "    <tr style=\"text-align: right;\">\n",
       "      <th></th>\n",
       "      <th>Year</th>\n",
       "      <th>Make</th>\n",
       "      <th>Model</th>\n",
       "      <th>Description</th>\n",
       "      <th>Price</th>\n",
       "    </tr>\n",
       "  </thead>\n",
       "  <tbody>\n",
       "    <tr>\n",
       "      <th>2</th>\n",
       "      <td>1999</td>\n",
       "      <td>Chevy</td>\n",
       "      <td>Venture \"Extended Edition, Very Large\"</td>\n",
       "      <td>NaN</td>\n",
       "      <td>5000.0</td>\n",
       "    </tr>\n",
       "  </tbody>\n",
       "</table>\n",
       "</div>"
      ],
      "text/plain": [
       "   Year   Make                                   Model Description   Price\n",
       "2  1999  Chevy  Venture \"Extended Edition, Very Large\"         NaN  5000.0"
      ]
     },
     "execution_count": 27,
     "metadata": {},
     "output_type": "execute_result"
    }
   ],
   "source": [
    "df.loc[df.Price==max(df.Price), ]"
   ]
  },
  {
   "cell_type": "code",
   "execution_count": 24,
   "id": "f5b5ad92",
   "metadata": {},
   "outputs": [
    {
     "data": {
      "text/plain": [
       "0    False\n",
       "1    False\n",
       "2     True\n",
       "3    False\n",
       "Name: Price, dtype: bool"
      ]
     },
     "execution_count": 24,
     "metadata": {},
     "output_type": "execute_result"
    }
   ],
   "source": [
    "df.Price==max(df.Price)"
   ]
  },
  {
   "cell_type": "code",
   "execution_count": null,
   "id": "cd410230",
   "metadata": {},
   "outputs": [],
   "source": []
  }
 ],
 "metadata": {
  "kernelspec": {
   "display_name": "Python 3 (ipykernel)",
   "language": "python",
   "name": "python3"
  },
  "language_info": {
   "codemirror_mode": {
    "name": "ipython",
    "version": 3
   },
   "file_extension": ".py",
   "mimetype": "text/x-python",
   "name": "python",
   "nbconvert_exporter": "python",
   "pygments_lexer": "ipython3",
   "version": "3.9.13"
  }
 },
 "nbformat": 4,
 "nbformat_minor": 5
}
